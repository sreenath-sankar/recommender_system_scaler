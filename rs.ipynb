{
 "cells": [
  {
   "cell_type": "markdown",
   "id": "4325c1ab",
   "metadata": {},
   "source": [
    "# **Problem Statement**\n",
    "\n",
    "Build a Recommender System for an Indian subscription video on-demand and over-the-top streaming service, to show personalized movie recommendations based on ratings given by a user and other users similar to them based on user attributes like Age, Gender & Occupation in order to improve user experience."
   ]
  },
  {
   "cell_type": "code",
   "execution_count": 226,
   "id": "0e976a30",
   "metadata": {},
   "outputs": [],
   "source": [
    "#importing required libraries\n",
    "\n",
    "import numpy as np\n",
    "import pandas as pd\n",
    "import matplotlib.pyplot as plt\n",
    "import seaborn as sns\n",
    "from datetime import datetime\n",
    "from sklearn.metrics.pairwise import cosine_similarity\n",
    "from cmfrec import CMF\n",
    "from sklearn.metrics import mean_squared_error as mse\n",
    "from sklearn.preprocessing import StandardScaler\n",
    "from sklearn.neighbors import NearestNeighbors\n",
    "from sklearn.metrics import mean_absolute_percentage_error as mape\n",
    "from scipy.sparse import csr_matrix\n",
    "from numpy import array\n",
    "from sklearn.preprocessing import LabelEncoder\n",
    "from sklearn.preprocessing import OneHotEncoder"
   ]
  },
  {
   "cell_type": "code",
   "execution_count": 19,
   "id": "f8423490",
   "metadata": {},
   "outputs": [],
   "source": [
    "#importing data set\n",
    "\n",
    "movies = pd.read_fwf('movies.dat', encoding='ISO-8859-1')\n",
    "ratings = pd.read_fwf('ratings.dat', encoding='ISO-8859-1')\n",
    "users = pd.read_fwf('users.dat', encoding='ISO-8859-1')"
   ]
  },
  {
   "cell_type": "code",
   "execution_count": 20,
   "id": "d1940e8a",
   "metadata": {},
   "outputs": [
    {
     "data": {
      "text/html": [
       "<div>\n",
       "<style scoped>\n",
       "    .dataframe tbody tr th:only-of-type {\n",
       "        vertical-align: middle;\n",
       "    }\n",
       "\n",
       "    .dataframe tbody tr th {\n",
       "        vertical-align: top;\n",
       "    }\n",
       "\n",
       "    .dataframe thead th {\n",
       "        text-align: right;\n",
       "    }\n",
       "</style>\n",
       "<table border=\"1\" class=\"dataframe\">\n",
       "  <thead>\n",
       "    <tr style=\"text-align: right;\">\n",
       "      <th></th>\n",
       "      <th>Movie ID::Title::Genres</th>\n",
       "      <th>Unnamed: 1</th>\n",
       "      <th>Unnamed: 2</th>\n",
       "    </tr>\n",
       "  </thead>\n",
       "  <tbody>\n",
       "    <tr>\n",
       "      <th>0</th>\n",
       "      <td>1::Toy Story (1995)::Animation|Children's|Comedy</td>\n",
       "      <td>NaN</td>\n",
       "      <td>NaN</td>\n",
       "    </tr>\n",
       "    <tr>\n",
       "      <th>1</th>\n",
       "      <td>2::Jumanji (1995)::Adventure|Children's|Fantasy</td>\n",
       "      <td>NaN</td>\n",
       "      <td>NaN</td>\n",
       "    </tr>\n",
       "    <tr>\n",
       "      <th>2</th>\n",
       "      <td>3::Grumpier Old Men (1995)::Comedy|Romance</td>\n",
       "      <td>NaN</td>\n",
       "      <td>NaN</td>\n",
       "    </tr>\n",
       "    <tr>\n",
       "      <th>3</th>\n",
       "      <td>4::Waiting to Exhale (1995)::Comedy|Drama</td>\n",
       "      <td>NaN</td>\n",
       "      <td>NaN</td>\n",
       "    </tr>\n",
       "    <tr>\n",
       "      <th>4</th>\n",
       "      <td>5::Father of the Bride Part II (1995)::Comedy</td>\n",
       "      <td>NaN</td>\n",
       "      <td>NaN</td>\n",
       "    </tr>\n",
       "  </tbody>\n",
       "</table>\n",
       "</div>"
      ],
      "text/plain": [
       "                            Movie ID::Title::Genres Unnamed: 1 Unnamed: 2\n",
       "0  1::Toy Story (1995)::Animation|Children's|Comedy        NaN        NaN\n",
       "1   2::Jumanji (1995)::Adventure|Children's|Fantasy        NaN        NaN\n",
       "2        3::Grumpier Old Men (1995)::Comedy|Romance        NaN        NaN\n",
       "3         4::Waiting to Exhale (1995)::Comedy|Drama        NaN        NaN\n",
       "4     5::Father of the Bride Part II (1995)::Comedy        NaN        NaN"
      ]
     },
     "execution_count": 20,
     "metadata": {},
     "output_type": "execute_result"
    }
   ],
   "source": [
    "#formtting data file movies\n",
    "\n",
    "movies.head()"
   ]
  },
  {
   "cell_type": "code",
   "execution_count": 21,
   "id": "48d17508",
   "metadata": {},
   "outputs": [
    {
     "data": {
      "text/plain": [
       "Index(['Movie ID::Title::Genres', 'Unnamed: 1', 'Unnamed: 2'], dtype='object')"
      ]
     },
     "execution_count": 21,
     "metadata": {},
     "output_type": "execute_result"
    }
   ],
   "source": [
    "movies.columns"
   ]
  },
  {
   "cell_type": "code",
   "execution_count": 22,
   "id": "465e27b1",
   "metadata": {},
   "outputs": [
    {
     "data": {
      "text/html": [
       "<div>\n",
       "<style scoped>\n",
       "    .dataframe tbody tr th:only-of-type {\n",
       "        vertical-align: middle;\n",
       "    }\n",
       "\n",
       "    .dataframe tbody tr th {\n",
       "        vertical-align: top;\n",
       "    }\n",
       "\n",
       "    .dataframe thead th {\n",
       "        text-align: right;\n",
       "    }\n",
       "</style>\n",
       "<table border=\"1\" class=\"dataframe\">\n",
       "  <thead>\n",
       "    <tr style=\"text-align: right;\">\n",
       "      <th></th>\n",
       "      <th>MovieID</th>\n",
       "      <th>Title</th>\n",
       "      <th>Genres</th>\n",
       "    </tr>\n",
       "  </thead>\n",
       "  <tbody>\n",
       "    <tr>\n",
       "      <th>0</th>\n",
       "      <td>1</td>\n",
       "      <td>Toy Story (1995)</td>\n",
       "      <td>Animation|Children's|Comedy</td>\n",
       "    </tr>\n",
       "    <tr>\n",
       "      <th>1</th>\n",
       "      <td>2</td>\n",
       "      <td>Jumanji (1995)</td>\n",
       "      <td>Adventure|Children's|Fantasy</td>\n",
       "    </tr>\n",
       "  </tbody>\n",
       "</table>\n",
       "</div>"
      ],
      "text/plain": [
       "  MovieID             Title                        Genres\n",
       "0       1  Toy Story (1995)   Animation|Children's|Comedy\n",
       "1       2    Jumanji (1995)  Adventure|Children's|Fantasy"
      ]
     },
     "execution_count": 22,
     "metadata": {},
     "output_type": "execute_result"
    }
   ],
   "source": [
    "delimitter = '::'\n",
    "movies = movies['Movie ID::Title::Genres'].str.split(delimitter, expand=True)\n",
    "movies.columns = ['MovieID', 'Title', 'Genres']\n",
    "movies.head(2)"
   ]
  },
  {
   "cell_type": "code",
   "execution_count": 23,
   "id": "d5a4b465",
   "metadata": {},
   "outputs": [
    {
     "data": {
      "text/html": [
       "<div>\n",
       "<style scoped>\n",
       "    .dataframe tbody tr th:only-of-type {\n",
       "        vertical-align: middle;\n",
       "    }\n",
       "\n",
       "    .dataframe tbody tr th {\n",
       "        vertical-align: top;\n",
       "    }\n",
       "\n",
       "    .dataframe thead th {\n",
       "        text-align: right;\n",
       "    }\n",
       "</style>\n",
       "<table border=\"1\" class=\"dataframe\">\n",
       "  <thead>\n",
       "    <tr style=\"text-align: right;\">\n",
       "      <th></th>\n",
       "      <th>UserID::MovieID::Rating::Timestamp</th>\n",
       "    </tr>\n",
       "  </thead>\n",
       "  <tbody>\n",
       "    <tr>\n",
       "      <th>0</th>\n",
       "      <td>1::1193::5::978300760</td>\n",
       "    </tr>\n",
       "    <tr>\n",
       "      <th>1</th>\n",
       "      <td>1::661::3::978302109</td>\n",
       "    </tr>\n",
       "    <tr>\n",
       "      <th>2</th>\n",
       "      <td>1::914::3::978301968</td>\n",
       "    </tr>\n",
       "    <tr>\n",
       "      <th>3</th>\n",
       "      <td>1::3408::4::978300275</td>\n",
       "    </tr>\n",
       "    <tr>\n",
       "      <th>4</th>\n",
       "      <td>1::2355::5::978824291</td>\n",
       "    </tr>\n",
       "  </tbody>\n",
       "</table>\n",
       "</div>"
      ],
      "text/plain": [
       "  UserID::MovieID::Rating::Timestamp\n",
       "0              1::1193::5::978300760\n",
       "1               1::661::3::978302109\n",
       "2               1::914::3::978301968\n",
       "3              1::3408::4::978300275\n",
       "4              1::2355::5::978824291"
      ]
     },
     "execution_count": 23,
     "metadata": {},
     "output_type": "execute_result"
    }
   ],
   "source": [
    "#formtting data file ratings\n",
    "\n",
    "ratings.head()"
   ]
  },
  {
   "cell_type": "code",
   "execution_count": 24,
   "id": "ae24b3f5",
   "metadata": {},
   "outputs": [
    {
     "data": {
      "text/plain": [
       "Index(['UserID::MovieID::Rating::Timestamp'], dtype='object')"
      ]
     },
     "execution_count": 24,
     "metadata": {},
     "output_type": "execute_result"
    }
   ],
   "source": [
    "ratings.columns"
   ]
  },
  {
   "cell_type": "code",
   "execution_count": 25,
   "id": "a707992a",
   "metadata": {},
   "outputs": [
    {
     "data": {
      "text/html": [
       "<div>\n",
       "<style scoped>\n",
       "    .dataframe tbody tr th:only-of-type {\n",
       "        vertical-align: middle;\n",
       "    }\n",
       "\n",
       "    .dataframe tbody tr th {\n",
       "        vertical-align: top;\n",
       "    }\n",
       "\n",
       "    .dataframe thead th {\n",
       "        text-align: right;\n",
       "    }\n",
       "</style>\n",
       "<table border=\"1\" class=\"dataframe\">\n",
       "  <thead>\n",
       "    <tr style=\"text-align: right;\">\n",
       "      <th></th>\n",
       "      <th>UserID</th>\n",
       "      <th>MovieID</th>\n",
       "      <th>Rating</th>\n",
       "      <th>Timestamp</th>\n",
       "    </tr>\n",
       "  </thead>\n",
       "  <tbody>\n",
       "    <tr>\n",
       "      <th>0</th>\n",
       "      <td>1</td>\n",
       "      <td>1193</td>\n",
       "      <td>5</td>\n",
       "      <td>978300760</td>\n",
       "    </tr>\n",
       "    <tr>\n",
       "      <th>1</th>\n",
       "      <td>1</td>\n",
       "      <td>661</td>\n",
       "      <td>3</td>\n",
       "      <td>978302109</td>\n",
       "    </tr>\n",
       "  </tbody>\n",
       "</table>\n",
       "</div>"
      ],
      "text/plain": [
       "  UserID MovieID Rating  Timestamp\n",
       "0      1    1193      5  978300760\n",
       "1      1     661      3  978302109"
      ]
     },
     "execution_count": 25,
     "metadata": {},
     "output_type": "execute_result"
    }
   ],
   "source": [
    "delimitter = '::'\n",
    "ratings = ratings['UserID::MovieID::Rating::Timestamp'].str.split(delimitter, expand=True)\n",
    "ratings.columns = ['UserID', 'MovieID', 'Rating', 'Timestamp']\n",
    "ratings.head(2)"
   ]
  },
  {
   "cell_type": "code",
   "execution_count": 26,
   "id": "2646c3c4",
   "metadata": {},
   "outputs": [
    {
     "data": {
      "text/html": [
       "<div>\n",
       "<style scoped>\n",
       "    .dataframe tbody tr th:only-of-type {\n",
       "        vertical-align: middle;\n",
       "    }\n",
       "\n",
       "    .dataframe tbody tr th {\n",
       "        vertical-align: top;\n",
       "    }\n",
       "\n",
       "    .dataframe thead th {\n",
       "        text-align: right;\n",
       "    }\n",
       "</style>\n",
       "<table border=\"1\" class=\"dataframe\">\n",
       "  <thead>\n",
       "    <tr style=\"text-align: right;\">\n",
       "      <th></th>\n",
       "      <th>UserID::Gender::Age::Occupation::Zip-code</th>\n",
       "    </tr>\n",
       "  </thead>\n",
       "  <tbody>\n",
       "    <tr>\n",
       "      <th>0</th>\n",
       "      <td>1::F::1::10::48067</td>\n",
       "    </tr>\n",
       "    <tr>\n",
       "      <th>1</th>\n",
       "      <td>2::M::56::16::70072</td>\n",
       "    </tr>\n",
       "    <tr>\n",
       "      <th>2</th>\n",
       "      <td>3::M::25::15::55117</td>\n",
       "    </tr>\n",
       "    <tr>\n",
       "      <th>3</th>\n",
       "      <td>4::M::45::7::02460</td>\n",
       "    </tr>\n",
       "    <tr>\n",
       "      <th>4</th>\n",
       "      <td>5::M::25::20::55455</td>\n",
       "    </tr>\n",
       "  </tbody>\n",
       "</table>\n",
       "</div>"
      ],
      "text/plain": [
       "  UserID::Gender::Age::Occupation::Zip-code\n",
       "0                        1::F::1::10::48067\n",
       "1                       2::M::56::16::70072\n",
       "2                       3::M::25::15::55117\n",
       "3                        4::M::45::7::02460\n",
       "4                       5::M::25::20::55455"
      ]
     },
     "execution_count": 26,
     "metadata": {},
     "output_type": "execute_result"
    }
   ],
   "source": [
    "#formtting data file users\n",
    "\n",
    "users.head()"
   ]
  },
  {
   "cell_type": "code",
   "execution_count": 27,
   "id": "f537aaf2",
   "metadata": {},
   "outputs": [
    {
     "data": {
      "text/plain": [
       "Index(['UserID::Gender::Age::Occupation::Zip-code'], dtype='object')"
      ]
     },
     "execution_count": 27,
     "metadata": {},
     "output_type": "execute_result"
    }
   ],
   "source": [
    "users.columns"
   ]
  },
  {
   "cell_type": "code",
   "execution_count": 28,
   "id": "6180ec38",
   "metadata": {},
   "outputs": [
    {
     "data": {
      "text/html": [
       "<div>\n",
       "<style scoped>\n",
       "    .dataframe tbody tr th:only-of-type {\n",
       "        vertical-align: middle;\n",
       "    }\n",
       "\n",
       "    .dataframe tbody tr th {\n",
       "        vertical-align: top;\n",
       "    }\n",
       "\n",
       "    .dataframe thead th {\n",
       "        text-align: right;\n",
       "    }\n",
       "</style>\n",
       "<table border=\"1\" class=\"dataframe\">\n",
       "  <thead>\n",
       "    <tr style=\"text-align: right;\">\n",
       "      <th></th>\n",
       "      <th>UserID</th>\n",
       "      <th>Gender</th>\n",
       "      <th>Age</th>\n",
       "      <th>Occupation</th>\n",
       "      <th>Zip-code</th>\n",
       "    </tr>\n",
       "  </thead>\n",
       "  <tbody>\n",
       "    <tr>\n",
       "      <th>0</th>\n",
       "      <td>1</td>\n",
       "      <td>F</td>\n",
       "      <td>1</td>\n",
       "      <td>10</td>\n",
       "      <td>48067</td>\n",
       "    </tr>\n",
       "    <tr>\n",
       "      <th>1</th>\n",
       "      <td>2</td>\n",
       "      <td>M</td>\n",
       "      <td>56</td>\n",
       "      <td>16</td>\n",
       "      <td>70072</td>\n",
       "    </tr>\n",
       "  </tbody>\n",
       "</table>\n",
       "</div>"
      ],
      "text/plain": [
       "  UserID Gender Age Occupation Zip-code\n",
       "0      1      F   1         10    48067\n",
       "1      2      M  56         16    70072"
      ]
     },
     "execution_count": 28,
     "metadata": {},
     "output_type": "execute_result"
    }
   ],
   "source": [
    "delimitter = '::'\n",
    "users = users['UserID::Gender::Age::Occupation::Zip-code'].str.split(delimitter, expand=True)\n",
    "users.columns = ['UserID', 'Gender', 'Age', 'Occupation', 'Zip-code']\n",
    "users.head(2)"
   ]
  },
  {
   "cell_type": "code",
   "execution_count": 29,
   "id": "67c6eb86",
   "metadata": {},
   "outputs": [
    {
     "data": {
      "text/plain": [
       "(3883, 3)"
      ]
     },
     "execution_count": 29,
     "metadata": {},
     "output_type": "execute_result"
    }
   ],
   "source": [
    "#movies data overiew\n",
    "\n",
    "movies.shape"
   ]
  },
  {
   "cell_type": "code",
   "execution_count": 30,
   "id": "365f728f",
   "metadata": {},
   "outputs": [
    {
     "name": "stdout",
     "output_type": "stream",
     "text": [
      "<class 'pandas.core.frame.DataFrame'>\n",
      "RangeIndex: 3883 entries, 0 to 3882\n",
      "Data columns (total 3 columns):\n",
      " #   Column   Non-Null Count  Dtype \n",
      "---  ------   --------------  ----- \n",
      " 0   MovieID  3883 non-null   object\n",
      " 1   Title    3883 non-null   object\n",
      " 2   Genres   3858 non-null   object\n",
      "dtypes: object(3)\n",
      "memory usage: 91.1+ KB\n"
     ]
    }
   ],
   "source": [
    "#non-null counts and data types\n",
    "\n",
    "movies.info()"
   ]
  },
  {
   "cell_type": "code",
   "execution_count": 31,
   "id": "efc711d7",
   "metadata": {},
   "outputs": [
    {
     "data": {
      "text/plain": [
       "MovieID    0.000000\n",
       "Title      0.000000\n",
       "Genres     0.643832\n",
       "dtype: float64"
      ]
     },
     "execution_count": 31,
     "metadata": {},
     "output_type": "execute_result"
    }
   ],
   "source": [
    "#percentage of null values in each column\n",
    "\n",
    "movies.isnull().sum()*100/movies.isnull().count()"
   ]
  },
  {
   "cell_type": "code",
   "execution_count": 32,
   "id": "77d3c366",
   "metadata": {},
   "outputs": [
    {
     "data": {
      "text/plain": [
       "MovieID    3883\n",
       "Title      3883\n",
       "Genres      360\n",
       "dtype: int64"
      ]
     },
     "execution_count": 32,
     "metadata": {},
     "output_type": "execute_result"
    }
   ],
   "source": [
    "#number of unique values\n",
    "\n",
    "movies.nunique()"
   ]
  },
  {
   "cell_type": "code",
   "execution_count": 33,
   "id": "e6a9deea",
   "metadata": {},
   "outputs": [
    {
     "data": {
      "text/plain": [
       "(1000209, 4)"
      ]
     },
     "execution_count": 33,
     "metadata": {},
     "output_type": "execute_result"
    }
   ],
   "source": [
    "#ratings data overiew\n",
    "\n",
    "ratings.shape"
   ]
  },
  {
   "cell_type": "code",
   "execution_count": 34,
   "id": "e4745315",
   "metadata": {},
   "outputs": [
    {
     "name": "stdout",
     "output_type": "stream",
     "text": [
      "<class 'pandas.core.frame.DataFrame'>\n",
      "RangeIndex: 1000209 entries, 0 to 1000208\n",
      "Data columns (total 4 columns):\n",
      " #   Column     Non-Null Count    Dtype \n",
      "---  ------     --------------    ----- \n",
      " 0   UserID     1000209 non-null  object\n",
      " 1   MovieID    1000209 non-null  object\n",
      " 2   Rating     1000209 non-null  object\n",
      " 3   Timestamp  1000209 non-null  object\n",
      "dtypes: object(4)\n",
      "memory usage: 30.5+ MB\n"
     ]
    }
   ],
   "source": [
    "#non-null counts and data types\n",
    "\n",
    "ratings.info()"
   ]
  },
  {
   "cell_type": "code",
   "execution_count": 35,
   "id": "5b25540d",
   "metadata": {},
   "outputs": [
    {
     "data": {
      "text/plain": [
       "UserID       0.0\n",
       "MovieID      0.0\n",
       "Rating       0.0\n",
       "Timestamp    0.0\n",
       "dtype: float64"
      ]
     },
     "execution_count": 35,
     "metadata": {},
     "output_type": "execute_result"
    }
   ],
   "source": [
    "#percentage of null values in each column\n",
    "\n",
    "ratings.isnull().sum()*100/ratings.isnull().count()"
   ]
  },
  {
   "cell_type": "code",
   "execution_count": 36,
   "id": "3bd9f99c",
   "metadata": {},
   "outputs": [
    {
     "data": {
      "text/plain": [
       "UserID         6040\n",
       "MovieID        3706\n",
       "Rating            5\n",
       "Timestamp    458455\n",
       "dtype: int64"
      ]
     },
     "execution_count": 36,
     "metadata": {},
     "output_type": "execute_result"
    }
   ],
   "source": [
    "#number of unique values\n",
    "\n",
    "ratings.nunique()"
   ]
  },
  {
   "cell_type": "code",
   "execution_count": 37,
   "id": "e105fe9f",
   "metadata": {},
   "outputs": [
    {
     "data": {
      "text/plain": [
       "(6040, 5)"
      ]
     },
     "execution_count": 37,
     "metadata": {},
     "output_type": "execute_result"
    }
   ],
   "source": [
    "#users data overiew\n",
    "\n",
    "users.shape"
   ]
  },
  {
   "cell_type": "code",
   "execution_count": 38,
   "id": "5b52d1db",
   "metadata": {},
   "outputs": [
    {
     "name": "stdout",
     "output_type": "stream",
     "text": [
      "<class 'pandas.core.frame.DataFrame'>\n",
      "RangeIndex: 6040 entries, 0 to 6039\n",
      "Data columns (total 5 columns):\n",
      " #   Column      Non-Null Count  Dtype \n",
      "---  ------      --------------  ----- \n",
      " 0   UserID      6040 non-null   object\n",
      " 1   Gender      6040 non-null   object\n",
      " 2   Age         6040 non-null   object\n",
      " 3   Occupation  6040 non-null   object\n",
      " 4   Zip-code    6040 non-null   object\n",
      "dtypes: object(5)\n",
      "memory usage: 236.1+ KB\n"
     ]
    }
   ],
   "source": [
    "#non-null counts and data types\n",
    "\n",
    "users.info()"
   ]
  },
  {
   "cell_type": "code",
   "execution_count": 39,
   "id": "ea73b3e8",
   "metadata": {},
   "outputs": [
    {
     "data": {
      "text/plain": [
       "UserID        0.0\n",
       "Gender        0.0\n",
       "Age           0.0\n",
       "Occupation    0.0\n",
       "Zip-code      0.0\n",
       "dtype: float64"
      ]
     },
     "execution_count": 39,
     "metadata": {},
     "output_type": "execute_result"
    }
   ],
   "source": [
    "#percentage of null values in each column\n",
    "\n",
    "users.isnull().sum()*100/users.isnull().count()"
   ]
  },
  {
   "cell_type": "code",
   "execution_count": 40,
   "id": "ed7b548f",
   "metadata": {},
   "outputs": [
    {
     "data": {
      "text/plain": [
       "UserID        6040\n",
       "Gender           2\n",
       "Age              7\n",
       "Occupation      21\n",
       "Zip-code      3439\n",
       "dtype: int64"
      ]
     },
     "execution_count": 40,
     "metadata": {},
     "output_type": "execute_result"
    }
   ],
   "source": [
    "#number of unique values\n",
    "\n",
    "users.nunique()"
   ]
  },
  {
   "cell_type": "markdown",
   "id": "53aa2151",
   "metadata": {},
   "source": [
    "**Data Overview**\n",
    "\n",
    "1. **Movies**\n",
    "    - There are 3883 rows and 3 columns in the dataset\n",
    "    - Each row represents a movie and its features; MovieID, Title(and Release Year) and Genres\n",
    "    - All the three columns are categorical variables of type object\n",
    "    - 0.64% or 25 movies have null values for column genres<br><br>\n",
    "    \n",
    "2. **Users**\n",
    "    - There are 6040 rows and 5 columns in the dataset\n",
    "    - Each row represents a user and their features; UserID, Gender, Age, Occupation and Zip-code\n",
    "    - All the five columns are categorical variables of type object\n",
    "    - No missing values are present in the dataset<br><br>\n",
    "    \n",
    "3. **Ratings**\n",
    "    - There are 1,000,209 rows and 4 columns in the dataset\n",
    "    - Each row represents the rating, movie, the user who is rated and the timestamp\n",
    "    - All the four columns are of type object however, rating and timestamp can be converted into numerical features\n",
    "    - No missing values are present in the dataset"
   ]
  },
  {
   "cell_type": "markdown",
   "id": "3bce95fb",
   "metadata": {},
   "source": [
    "# **Exploratory Data Analysis**"
   ]
  },
  {
   "cell_type": "code",
   "execution_count": 41,
   "id": "7b2b3f21",
   "metadata": {},
   "outputs": [
    {
     "data": {
      "text/plain": [
       "(3858, 3)"
      ]
     },
     "execution_count": 41,
     "metadata": {},
     "output_type": "execute_result"
    }
   ],
   "source": [
    "#dropping 25 movies with no genres\n",
    "\n",
    "movies = movies.dropna()\n",
    "movies.shape"
   ]
  },
  {
   "cell_type": "code",
   "execution_count": 42,
   "id": "4769906c",
   "metadata": {},
   "outputs": [],
   "source": [
    "#creating new feature Release_year\n",
    "\n",
    "movies['Release_year'] = movies['Title'].apply(lambda s: int(s.rstrip(\"*\")[s.rfind(\"(\")+1:-1]))"
   ]
  },
  {
   "cell_type": "code",
   "execution_count": 43,
   "id": "a81b2911",
   "metadata": {},
   "outputs": [
    {
     "data": {
      "text/html": [
       "<div>\n",
       "<style scoped>\n",
       "    .dataframe tbody tr th:only-of-type {\n",
       "        vertical-align: middle;\n",
       "    }\n",
       "\n",
       "    .dataframe tbody tr th {\n",
       "        vertical-align: top;\n",
       "    }\n",
       "\n",
       "    .dataframe thead th {\n",
       "        text-align: right;\n",
       "    }\n",
       "</style>\n",
       "<table border=\"1\" class=\"dataframe\">\n",
       "  <thead>\n",
       "    <tr style=\"text-align: right;\">\n",
       "      <th></th>\n",
       "      <th>MovieID</th>\n",
       "      <th>Title</th>\n",
       "      <th>Genres</th>\n",
       "      <th>Release_year</th>\n",
       "      <th>MovieAge</th>\n",
       "    </tr>\n",
       "  </thead>\n",
       "  <tbody>\n",
       "    <tr>\n",
       "      <th>0</th>\n",
       "      <td>1</td>\n",
       "      <td>Toy Story (1995)</td>\n",
       "      <td>Animation|Children's|Comedy</td>\n",
       "      <td>1995</td>\n",
       "      <td>27</td>\n",
       "    </tr>\n",
       "    <tr>\n",
       "      <th>1</th>\n",
       "      <td>2</td>\n",
       "      <td>Jumanji (1995)</td>\n",
       "      <td>Adventure|Children's|Fantasy</td>\n",
       "      <td>1995</td>\n",
       "      <td>27</td>\n",
       "    </tr>\n",
       "  </tbody>\n",
       "</table>\n",
       "</div>"
      ],
      "text/plain": [
       "  MovieID             Title                        Genres  Release_year  \\\n",
       "0       1  Toy Story (1995)   Animation|Children's|Comedy          1995   \n",
       "1       2    Jumanji (1995)  Adventure|Children's|Fantasy          1995   \n",
       "\n",
       "   MovieAge  \n",
       "0        27  \n",
       "1        27  "
      ]
     },
     "execution_count": 43,
     "metadata": {},
     "output_type": "execute_result"
    }
   ],
   "source": [
    "#creating movie_age feature from Release_year\n",
    "\n",
    "movies['MovieAge'] = movies['Release_year'].apply(lambda x: 2022 - int(x))\n",
    "movies.head(2)"
   ]
  },
  {
   "cell_type": "code",
   "execution_count": 44,
   "id": "a1b7c36e",
   "metadata": {},
   "outputs": [
    {
     "data": {
      "text/html": [
       "<div>\n",
       "<style scoped>\n",
       "    .dataframe tbody tr th:only-of-type {\n",
       "        vertical-align: middle;\n",
       "    }\n",
       "\n",
       "    .dataframe tbody tr th {\n",
       "        vertical-align: top;\n",
       "    }\n",
       "\n",
       "    .dataframe thead th {\n",
       "        text-align: right;\n",
       "    }\n",
       "</style>\n",
       "<table border=\"1\" class=\"dataframe\">\n",
       "  <thead>\n",
       "    <tr style=\"text-align: right;\">\n",
       "      <th></th>\n",
       "      <th>UserID</th>\n",
       "      <th>MovieID</th>\n",
       "      <th>Rating</th>\n",
       "      <th>Timestamp</th>\n",
       "      <th>Hour</th>\n",
       "    </tr>\n",
       "  </thead>\n",
       "  <tbody>\n",
       "    <tr>\n",
       "      <th>0</th>\n",
       "      <td>1</td>\n",
       "      <td>1193</td>\n",
       "      <td>5</td>\n",
       "      <td>978300760</td>\n",
       "      <td>3</td>\n",
       "    </tr>\n",
       "    <tr>\n",
       "      <th>1</th>\n",
       "      <td>1</td>\n",
       "      <td>661</td>\n",
       "      <td>3</td>\n",
       "      <td>978302109</td>\n",
       "      <td>4</td>\n",
       "    </tr>\n",
       "  </tbody>\n",
       "</table>\n",
       "</div>"
      ],
      "text/plain": [
       "  UserID MovieID  Rating  Timestamp  Hour\n",
       "0      1    1193       5  978300760     3\n",
       "1      1     661       3  978302109     4"
      ]
     },
     "execution_count": 44,
     "metadata": {},
     "output_type": "execute_result"
    }
   ],
   "source": [
    "#converting timestamp to hour and ratings to int type\n",
    "\n",
    "ratings['Rating'] = ratings['Rating'].astype('int')\n",
    "ratings['Hour'] = ratings['Timestamp'].apply(lambda x: datetime.fromtimestamp(int(x)).hour)\n",
    "ratings.head(2)"
   ]
  },
  {
   "cell_type": "code",
   "execution_count": 45,
   "id": "823dc57a",
   "metadata": {},
   "outputs": [
    {
     "data": {
      "text/html": [
       "<div>\n",
       "<style scoped>\n",
       "    .dataframe tbody tr th:only-of-type {\n",
       "        vertical-align: middle;\n",
       "    }\n",
       "\n",
       "    .dataframe tbody tr th {\n",
       "        vertical-align: top;\n",
       "    }\n",
       "\n",
       "    .dataframe thead th {\n",
       "        text-align: right;\n",
       "    }\n",
       "</style>\n",
       "<table border=\"1\" class=\"dataframe\">\n",
       "  <thead>\n",
       "    <tr style=\"text-align: right;\">\n",
       "      <th></th>\n",
       "      <th>UserID</th>\n",
       "      <th>Gender</th>\n",
       "      <th>Age</th>\n",
       "      <th>Occupation</th>\n",
       "      <th>Zip-code</th>\n",
       "    </tr>\n",
       "  </thead>\n",
       "  <tbody>\n",
       "    <tr>\n",
       "      <th>0</th>\n",
       "      <td>1</td>\n",
       "      <td>F</td>\n",
       "      <td>1</td>\n",
       "      <td>10</td>\n",
       "      <td>480</td>\n",
       "    </tr>\n",
       "    <tr>\n",
       "      <th>1</th>\n",
       "      <td>2</td>\n",
       "      <td>M</td>\n",
       "      <td>56</td>\n",
       "      <td>16</td>\n",
       "      <td>700</td>\n",
       "    </tr>\n",
       "  </tbody>\n",
       "</table>\n",
       "</div>"
      ],
      "text/plain": [
       "  UserID Gender Age Occupation Zip-code\n",
       "0      1      F   1         10      480\n",
       "1      2      M  56         16      700"
      ]
     },
     "execution_count": 45,
     "metadata": {},
     "output_type": "execute_result"
    }
   ],
   "source": [
    "#converting US zip codes to city codes\n",
    "\n",
    "users['Zip-code'] = users['Zip-code'].apply(lambda x: x[:3])\n",
    "users.head(2)"
   ]
  },
  {
   "cell_type": "code",
   "execution_count": 46,
   "id": "8902bf7f",
   "metadata": {},
   "outputs": [
    {
     "data": {
      "text/html": [
       "<div>\n",
       "<style scoped>\n",
       "    .dataframe tbody tr th:only-of-type {\n",
       "        vertical-align: middle;\n",
       "    }\n",
       "\n",
       "    .dataframe tbody tr th {\n",
       "        vertical-align: top;\n",
       "    }\n",
       "\n",
       "    .dataframe thead th {\n",
       "        text-align: right;\n",
       "    }\n",
       "</style>\n",
       "<table border=\"1\" class=\"dataframe\">\n",
       "  <thead>\n",
       "    <tr style=\"text-align: right;\">\n",
       "      <th></th>\n",
       "      <th>MovieID</th>\n",
       "      <th>Title</th>\n",
       "      <th>Genres</th>\n",
       "      <th>Release_year</th>\n",
       "      <th>MovieAge</th>\n",
       "      <th>UserID</th>\n",
       "      <th>Rating</th>\n",
       "      <th>Timestamp</th>\n",
       "      <th>Hour</th>\n",
       "    </tr>\n",
       "  </thead>\n",
       "  <tbody>\n",
       "    <tr>\n",
       "      <th>0</th>\n",
       "      <td>1</td>\n",
       "      <td>Toy Story (1995)</td>\n",
       "      <td>Animation|Children's|Comedy</td>\n",
       "      <td>1995</td>\n",
       "      <td>27</td>\n",
       "      <td>1</td>\n",
       "      <td>5</td>\n",
       "      <td>978824268</td>\n",
       "      <td>5</td>\n",
       "    </tr>\n",
       "    <tr>\n",
       "      <th>1</th>\n",
       "      <td>1</td>\n",
       "      <td>Toy Story (1995)</td>\n",
       "      <td>Animation|Children's|Comedy</td>\n",
       "      <td>1995</td>\n",
       "      <td>27</td>\n",
       "      <td>6</td>\n",
       "      <td>4</td>\n",
       "      <td>978237008</td>\n",
       "      <td>10</td>\n",
       "    </tr>\n",
       "  </tbody>\n",
       "</table>\n",
       "</div>"
      ],
      "text/plain": [
       "  MovieID             Title                       Genres  Release_year  \\\n",
       "0       1  Toy Story (1995)  Animation|Children's|Comedy          1995   \n",
       "1       1  Toy Story (1995)  Animation|Children's|Comedy          1995   \n",
       "\n",
       "   MovieAge UserID  Rating  Timestamp  Hour  \n",
       "0        27      1       5  978824268     5  \n",
       "1        27      6       4  978237008    10  "
      ]
     },
     "execution_count": 46,
     "metadata": {},
     "output_type": "execute_result"
    }
   ],
   "source": [
    "#merging movies and ratings\n",
    "\n",
    "df = pd.merge(movies, ratings, on='MovieID')\n",
    "df.head(2)"
   ]
  },
  {
   "cell_type": "code",
   "execution_count": 47,
   "id": "1b8dabfb",
   "metadata": {},
   "outputs": [
    {
     "data": {
      "text/html": [
       "<div>\n",
       "<style scoped>\n",
       "    .dataframe tbody tr th:only-of-type {\n",
       "        vertical-align: middle;\n",
       "    }\n",
       "\n",
       "    .dataframe tbody tr th {\n",
       "        vertical-align: top;\n",
       "    }\n",
       "\n",
       "    .dataframe thead th {\n",
       "        text-align: right;\n",
       "    }\n",
       "</style>\n",
       "<table border=\"1\" class=\"dataframe\">\n",
       "  <thead>\n",
       "    <tr style=\"text-align: right;\">\n",
       "      <th></th>\n",
       "      <th>MovieID</th>\n",
       "      <th>Title</th>\n",
       "      <th>Genres</th>\n",
       "      <th>Release_year</th>\n",
       "      <th>MovieAge</th>\n",
       "      <th>UserID</th>\n",
       "      <th>Rating</th>\n",
       "      <th>Timestamp</th>\n",
       "      <th>Hour</th>\n",
       "      <th>Gender</th>\n",
       "      <th>Age</th>\n",
       "      <th>Occupation</th>\n",
       "      <th>Zip-code</th>\n",
       "    </tr>\n",
       "  </thead>\n",
       "  <tbody>\n",
       "    <tr>\n",
       "      <th>0</th>\n",
       "      <td>1</td>\n",
       "      <td>Toy Story (1995)</td>\n",
       "      <td>Animation|Children's|Comedy</td>\n",
       "      <td>1995</td>\n",
       "      <td>27</td>\n",
       "      <td>1</td>\n",
       "      <td>5</td>\n",
       "      <td>978824268</td>\n",
       "      <td>5</td>\n",
       "      <td>F</td>\n",
       "      <td>1</td>\n",
       "      <td>10</td>\n",
       "      <td>480</td>\n",
       "    </tr>\n",
       "    <tr>\n",
       "      <th>1</th>\n",
       "      <td>48</td>\n",
       "      <td>Pocahontas (1995)</td>\n",
       "      <td>Animation|Children's|Musical|Romance</td>\n",
       "      <td>1995</td>\n",
       "      <td>27</td>\n",
       "      <td>1</td>\n",
       "      <td>5</td>\n",
       "      <td>978824351</td>\n",
       "      <td>5</td>\n",
       "      <td>F</td>\n",
       "      <td>1</td>\n",
       "      <td>10</td>\n",
       "      <td>480</td>\n",
       "    </tr>\n",
       "  </tbody>\n",
       "</table>\n",
       "</div>"
      ],
      "text/plain": [
       "  MovieID              Title                                Genres  \\\n",
       "0       1   Toy Story (1995)           Animation|Children's|Comedy   \n",
       "1      48  Pocahontas (1995)  Animation|Children's|Musical|Romance   \n",
       "\n",
       "   Release_year  MovieAge UserID  Rating  Timestamp  Hour Gender Age  \\\n",
       "0          1995        27      1       5  978824268     5      F   1   \n",
       "1          1995        27      1       5  978824351     5      F   1   \n",
       "\n",
       "  Occupation Zip-code  \n",
       "0         10      480  \n",
       "1         10      480  "
      ]
     },
     "execution_count": 47,
     "metadata": {},
     "output_type": "execute_result"
    }
   ],
   "source": [
    "#merging df and users\n",
    "\n",
    "df = pd.merge(df, users, on='UserID')\n",
    "df.head(2)"
   ]
  },
  {
   "cell_type": "code",
   "execution_count": 48,
   "id": "d2e079cf",
   "metadata": {},
   "outputs": [
    {
     "data": {
      "text/plain": [
       "(996144, 13)"
      ]
     },
     "execution_count": 48,
     "metadata": {},
     "output_type": "execute_result"
    }
   ],
   "source": [
    "df.shape"
   ]
  },
  {
   "cell_type": "code",
   "execution_count": 49,
   "id": "7865142a",
   "metadata": {},
   "outputs": [
    {
     "data": {
      "text/plain": [
       "19"
      ]
     },
     "execution_count": 49,
     "metadata": {},
     "output_type": "execute_result"
    }
   ],
   "source": [
    "#min number of ratings for a user\n",
    "\n",
    "df.groupby(['UserID'])['MovieID'].count().min()"
   ]
  },
  {
   "cell_type": "code",
   "execution_count": 50,
   "id": "f260d7da",
   "metadata": {},
   "outputs": [
    {
     "data": {
      "text/plain": [
       "MovieID           3682\n",
       "Title             3682\n",
       "Genres             358\n",
       "Release_year        81\n",
       "MovieAge            81\n",
       "UserID            6040\n",
       "Rating               5\n",
       "Timestamp       457632\n",
       "Hour                24\n",
       "Gender               2\n",
       "Age                  7\n",
       "Occupation          21\n",
       "Zip-code           678\n",
       "dtype: int64"
      ]
     },
     "execution_count": 50,
     "metadata": {},
     "output_type": "execute_result"
    }
   ],
   "source": [
    "#number of unique values\n",
    "\n",
    "df.nunique()"
   ]
  },
  {
   "cell_type": "code",
   "execution_count": 51,
   "id": "4f790685",
   "metadata": {},
   "outputs": [
    {
     "data": {
      "text/html": [
       "<div>\n",
       "<style scoped>\n",
       "    .dataframe tbody tr th:only-of-type {\n",
       "        vertical-align: middle;\n",
       "    }\n",
       "\n",
       "    .dataframe tbody tr th {\n",
       "        vertical-align: top;\n",
       "    }\n",
       "\n",
       "    .dataframe thead th {\n",
       "        text-align: right;\n",
       "    }\n",
       "</style>\n",
       "<table border=\"1\" class=\"dataframe\">\n",
       "  <thead>\n",
       "    <tr style=\"text-align: right;\">\n",
       "      <th></th>\n",
       "      <th>Release_year</th>\n",
       "      <th>MovieAge</th>\n",
       "      <th>Rating</th>\n",
       "      <th>Hour</th>\n",
       "    </tr>\n",
       "  </thead>\n",
       "  <tbody>\n",
       "    <tr>\n",
       "      <th>count</th>\n",
       "      <td>996144.000000</td>\n",
       "      <td>996144.000000</td>\n",
       "      <td>996144.000000</td>\n",
       "      <td>996144.000000</td>\n",
       "    </tr>\n",
       "    <tr>\n",
       "      <th>mean</th>\n",
       "      <td>1986.758458</td>\n",
       "      <td>35.241542</td>\n",
       "      <td>3.579985</td>\n",
       "      <td>9.730529</td>\n",
       "    </tr>\n",
       "    <tr>\n",
       "      <th>std</th>\n",
       "      <td>14.314470</td>\n",
       "      <td>14.314470</td>\n",
       "      <td>1.116849</td>\n",
       "      <td>7.293934</td>\n",
       "    </tr>\n",
       "    <tr>\n",
       "      <th>min</th>\n",
       "      <td>1919.000000</td>\n",
       "      <td>22.000000</td>\n",
       "      <td>1.000000</td>\n",
       "      <td>0.000000</td>\n",
       "    </tr>\n",
       "    <tr>\n",
       "      <th>25%</th>\n",
       "      <td>1982.000000</td>\n",
       "      <td>25.000000</td>\n",
       "      <td>3.000000</td>\n",
       "      <td>4.000000</td>\n",
       "    </tr>\n",
       "    <tr>\n",
       "      <th>50%</th>\n",
       "      <td>1992.000000</td>\n",
       "      <td>30.000000</td>\n",
       "      <td>4.000000</td>\n",
       "      <td>8.000000</td>\n",
       "    </tr>\n",
       "    <tr>\n",
       "      <th>75%</th>\n",
       "      <td>1997.000000</td>\n",
       "      <td>40.000000</td>\n",
       "      <td>4.000000</td>\n",
       "      <td>15.000000</td>\n",
       "    </tr>\n",
       "    <tr>\n",
       "      <th>max</th>\n",
       "      <td>2000.000000</td>\n",
       "      <td>103.000000</td>\n",
       "      <td>5.000000</td>\n",
       "      <td>23.000000</td>\n",
       "    </tr>\n",
       "  </tbody>\n",
       "</table>\n",
       "</div>"
      ],
      "text/plain": [
       "        Release_year       MovieAge         Rating           Hour\n",
       "count  996144.000000  996144.000000  996144.000000  996144.000000\n",
       "mean     1986.758458      35.241542       3.579985       9.730529\n",
       "std        14.314470      14.314470       1.116849       7.293934\n",
       "min      1919.000000      22.000000       1.000000       0.000000\n",
       "25%      1982.000000      25.000000       3.000000       4.000000\n",
       "50%      1992.000000      30.000000       4.000000       8.000000\n",
       "75%      1997.000000      40.000000       4.000000      15.000000\n",
       "max      2000.000000     103.000000       5.000000      23.000000"
      ]
     },
     "execution_count": 51,
     "metadata": {},
     "output_type": "execute_result"
    }
   ],
   "source": [
    "df.describe()"
   ]
  },
  {
   "cell_type": "code",
   "execution_count": 52,
   "id": "569b30ad",
   "metadata": {
    "scrolled": true
   },
   "outputs": [
    {
     "data": {
      "text/html": [
       "<div>\n",
       "<style scoped>\n",
       "    .dataframe tbody tr th:only-of-type {\n",
       "        vertical-align: middle;\n",
       "    }\n",
       "\n",
       "    .dataframe tbody tr th {\n",
       "        vertical-align: top;\n",
       "    }\n",
       "\n",
       "    .dataframe thead th {\n",
       "        text-align: right;\n",
       "    }\n",
       "</style>\n",
       "<table border=\"1\" class=\"dataframe\">\n",
       "  <thead>\n",
       "    <tr style=\"text-align: right;\">\n",
       "      <th>Genres</th>\n",
       "      <th></th>\n",
       "      <th>A</th>\n",
       "      <th>Acti</th>\n",
       "      <th>Action</th>\n",
       "      <th>Adv</th>\n",
       "      <th>Advent</th>\n",
       "      <th>Adventu</th>\n",
       "      <th>Adventur</th>\n",
       "      <th>Adventure</th>\n",
       "      <th>Animati</th>\n",
       "      <th>...</th>\n",
       "      <th>Sci-Fi</th>\n",
       "      <th>Th</th>\n",
       "      <th>Thri</th>\n",
       "      <th>Thrille</th>\n",
       "      <th>Thriller</th>\n",
       "      <th>Wa</th>\n",
       "      <th>War</th>\n",
       "      <th>We</th>\n",
       "      <th>Wester</th>\n",
       "      <th>Western</th>\n",
       "    </tr>\n",
       "    <tr>\n",
       "      <th>MovieID</th>\n",
       "      <th></th>\n",
       "      <th></th>\n",
       "      <th></th>\n",
       "      <th></th>\n",
       "      <th></th>\n",
       "      <th></th>\n",
       "      <th></th>\n",
       "      <th></th>\n",
       "      <th></th>\n",
       "      <th></th>\n",
       "      <th></th>\n",
       "      <th></th>\n",
       "      <th></th>\n",
       "      <th></th>\n",
       "      <th></th>\n",
       "      <th></th>\n",
       "      <th></th>\n",
       "      <th></th>\n",
       "      <th></th>\n",
       "      <th></th>\n",
       "      <th></th>\n",
       "    </tr>\n",
       "  </thead>\n",
       "  <tbody>\n",
       "    <tr>\n",
       "      <th>1</th>\n",
       "      <td>0</td>\n",
       "      <td>0</td>\n",
       "      <td>0</td>\n",
       "      <td>0</td>\n",
       "      <td>0</td>\n",
       "      <td>0</td>\n",
       "      <td>0</td>\n",
       "      <td>0</td>\n",
       "      <td>0</td>\n",
       "      <td>0</td>\n",
       "      <td>...</td>\n",
       "      <td>0</td>\n",
       "      <td>0</td>\n",
       "      <td>0</td>\n",
       "      <td>0</td>\n",
       "      <td>0</td>\n",
       "      <td>0</td>\n",
       "      <td>0</td>\n",
       "      <td>0</td>\n",
       "      <td>0</td>\n",
       "      <td>0</td>\n",
       "    </tr>\n",
       "    <tr>\n",
       "      <th>10</th>\n",
       "      <td>0</td>\n",
       "      <td>0</td>\n",
       "      <td>0</td>\n",
       "      <td>1</td>\n",
       "      <td>0</td>\n",
       "      <td>0</td>\n",
       "      <td>0</td>\n",
       "      <td>0</td>\n",
       "      <td>1</td>\n",
       "      <td>0</td>\n",
       "      <td>...</td>\n",
       "      <td>0</td>\n",
       "      <td>0</td>\n",
       "      <td>0</td>\n",
       "      <td>0</td>\n",
       "      <td>1</td>\n",
       "      <td>0</td>\n",
       "      <td>0</td>\n",
       "      <td>0</td>\n",
       "      <td>0</td>\n",
       "      <td>0</td>\n",
       "    </tr>\n",
       "  </tbody>\n",
       "</table>\n",
       "<p>2 rows × 63 columns</p>\n",
       "</div>"
      ],
      "text/plain": [
       "Genres      A  Acti  Action  Adv  Advent  Adventu  Adventur  Adventure  \\\n",
       "MovieID                                                                  \n",
       "1        0  0     0       0    0       0        0         0          0   \n",
       "10       0  0     0       1    0       0        0         0          1   \n",
       "\n",
       "Genres   Animati  ...  Sci-Fi  Th  Thri  Thrille  Thriller  Wa  War  We  \\\n",
       "MovieID           ...                                                     \n",
       "1              0  ...       0   0     0        0         0   0    0   0   \n",
       "10             0  ...       0   0     0        0         1   0    0   0   \n",
       "\n",
       "Genres   Wester  Western  \n",
       "MovieID                   \n",
       "1             0        0  \n",
       "10            0        0  \n",
       "\n",
       "[2 rows x 63 columns]"
      ]
     },
     "execution_count": 52,
     "metadata": {},
     "output_type": "execute_result"
    }
   ],
   "source": [
    "#splitting genres to get different genres\n",
    "\n",
    "m = movies.copy()\n",
    "m['Genres'] = m['Genres'].str.split('|')\n",
    "m = m.explode('Genres')\n",
    "m = m.pivot(index='MovieID', columns='Genres', values='Title')\n",
    "m = ~m.isna()\n",
    "m = m.astype(int)\n",
    "m.head(2)"
   ]
  },
  {
   "cell_type": "code",
   "execution_count": 53,
   "id": "8b5070a3",
   "metadata": {
    "scrolled": true
   },
   "outputs": [
    {
     "data": {
      "text/html": [
       "<div>\n",
       "<style scoped>\n",
       "    .dataframe tbody tr th:only-of-type {\n",
       "        vertical-align: middle;\n",
       "    }\n",
       "\n",
       "    .dataframe tbody tr th {\n",
       "        vertical-align: top;\n",
       "    }\n",
       "\n",
       "    .dataframe thead th {\n",
       "        text-align: right;\n",
       "    }\n",
       "</style>\n",
       "<table border=\"1\" class=\"dataframe\">\n",
       "  <thead>\n",
       "    <tr style=\"text-align: right;\">\n",
       "      <th>Genres</th>\n",
       "      <th>action</th>\n",
       "      <th>adventure</th>\n",
       "      <th>animation</th>\n",
       "      <th>childrens</th>\n",
       "      <th>comedy</th>\n",
       "      <th>crime</th>\n",
       "      <th>documentary</th>\n",
       "      <th>drama</th>\n",
       "      <th>fantasy</th>\n",
       "      <th>film-noir</th>\n",
       "      <th>horror</th>\n",
       "      <th>musical</th>\n",
       "      <th>mystery</th>\n",
       "      <th>romance</th>\n",
       "      <th>sci-fi</th>\n",
       "      <th>thriller</th>\n",
       "      <th>war</th>\n",
       "      <th>western</th>\n",
       "    </tr>\n",
       "    <tr>\n",
       "      <th>MovieID</th>\n",
       "      <th></th>\n",
       "      <th></th>\n",
       "      <th></th>\n",
       "      <th></th>\n",
       "      <th></th>\n",
       "      <th></th>\n",
       "      <th></th>\n",
       "      <th></th>\n",
       "      <th></th>\n",
       "      <th></th>\n",
       "      <th></th>\n",
       "      <th></th>\n",
       "      <th></th>\n",
       "      <th></th>\n",
       "      <th></th>\n",
       "      <th></th>\n",
       "      <th></th>\n",
       "      <th></th>\n",
       "    </tr>\n",
       "  </thead>\n",
       "  <tbody>\n",
       "    <tr>\n",
       "      <th>1</th>\n",
       "      <td>0</td>\n",
       "      <td>0</td>\n",
       "      <td>1</td>\n",
       "      <td>1</td>\n",
       "      <td>1</td>\n",
       "      <td>0</td>\n",
       "      <td>0</td>\n",
       "      <td>0</td>\n",
       "      <td>0</td>\n",
       "      <td>0</td>\n",
       "      <td>0</td>\n",
       "      <td>0</td>\n",
       "      <td>0</td>\n",
       "      <td>0</td>\n",
       "      <td>0</td>\n",
       "      <td>0</td>\n",
       "      <td>0</td>\n",
       "      <td>0</td>\n",
       "    </tr>\n",
       "    <tr>\n",
       "      <th>10</th>\n",
       "      <td>1</td>\n",
       "      <td>1</td>\n",
       "      <td>0</td>\n",
       "      <td>0</td>\n",
       "      <td>0</td>\n",
       "      <td>0</td>\n",
       "      <td>0</td>\n",
       "      <td>0</td>\n",
       "      <td>0</td>\n",
       "      <td>0</td>\n",
       "      <td>0</td>\n",
       "      <td>0</td>\n",
       "      <td>0</td>\n",
       "      <td>0</td>\n",
       "      <td>0</td>\n",
       "      <td>1</td>\n",
       "      <td>0</td>\n",
       "      <td>0</td>\n",
       "    </tr>\n",
       "  </tbody>\n",
       "</table>\n",
       "</div>"
      ],
      "text/plain": [
       "Genres   action  adventure  animation  childrens  comedy  crime  documentary  \\\n",
       "MovieID                                                                        \n",
       "1             0          0          1          1       1      0            0   \n",
       "10            1          1          0          0       0      0            0   \n",
       "\n",
       "Genres   drama  fantasy  film-noir  horror  musical  mystery  romance  sci-fi  \\\n",
       "MovieID                                                                         \n",
       "1            0        0          0       0        0        0        0       0   \n",
       "10           0        0          0       0        0        0        0       0   \n",
       "\n",
       "Genres   thriller  war  western  \n",
       "MovieID                          \n",
       "1               0    0        0  \n",
       "10              1    0        0  "
      ]
     },
     "execution_count": 53,
     "metadata": {},
     "output_type": "execute_result"
    }
   ],
   "source": [
    "#cleaning genres for consistency\n",
    "\n",
    "m['action'] = m[['A', 'Acti', 'Action']].agg(sum, axis=1)\n",
    "m['adventure'] = m[['Adv', 'Advent', 'Adventu', 'Adventur', 'Adventure']].agg(sum, axis=1)\n",
    "m['animation'] = m[['Animati', 'Animation']].agg(sum, axis=1)\n",
    "m['childrens'] = m[['Chi', 'Chil', 'Childr', 'Childre', 'Children', \"Children'\", \"Children's\"]].agg(sum, axis=1)\n",
    "m['comedy'] = m[['Com', 'Come', 'Adventu', 'Comed', 'Comedy']].agg(sum, axis=1)\n",
    "m['crime'] = m[['Crime']].agg(sum, axis=1)\n",
    "m['documentary'] = m[['D', 'Docu', 'Documen', 'Document', 'Documentary']].agg(sum, axis=1)\n",
    "m['drama'] = m[['Dr', 'Dram', 'Drama']].agg(sum, axis=1)\n",
    "m['fantasy'] = m[['F', 'Fant', 'Fantas', 'Fantasy']].agg(sum, axis=1)\n",
    "m['film-noir'] = m[['Film-Noir']].agg(sum, axis=1)\n",
    "m['horror'] = m[['Horr', 'Horro', 'Horror']].agg(sum, axis=1)\n",
    "m['musical'] = m[['Music', 'Musical']].agg(sum, axis=1)\n",
    "m['mystery'] = m[['Mystery']].agg(sum, axis=1)\n",
    "m['romance'] = m[['R', 'Ro', 'Rom', 'Roma', 'Roman', 'Romance']].agg(sum, axis=1)\n",
    "m['sci-fi'] = m[['S', 'Sci', 'Sci-', 'Sci-F', 'Sci-Fi']].agg(sum, axis=1)\n",
    "m['thriller'] = m[['Th', 'Thri', 'Thrille', 'Thriller']].agg(sum, axis=1)\n",
    "m['war'] = m[['Wa', 'War']].agg(sum, axis=1)\n",
    "m['western'] = m[['Wester', 'Western']].agg(sum, axis=1)\n",
    "m = m.drop(columns=['', 'A', 'Acti', 'Action', 'Adv', 'Advent', 'Adventu', 'Adventur',\n",
    "       'Adventure', 'Animati', 'Animation', 'Chi', 'Chil', 'Childr', 'Childre',\n",
    "       'Children', \"Children'\", \"Children's\", 'Com', 'Come', 'Comed', 'Comedy',\n",
    "       'Crime', 'D', 'Docu', 'Documen', 'Document', 'Documenta', 'Documentary',\n",
    "       'Dr', 'Dram', 'Drama', 'F', 'Fant', 'Fantas', 'Fantasy', 'Film-Noir',\n",
    "       'Horr', 'Horro', 'Horror', 'Music', 'Musical', 'Mystery', 'R', 'Ro',\n",
    "       'Rom', 'Roma', 'Roman', 'Romance', 'S', 'Sci', 'Sci-', 'Sci-F',\n",
    "       'Sci-Fi', 'Th', 'Thri', 'Thrille', 'Thriller', 'Wa', 'War', 'We',\n",
    "       'Wester', 'Western'])\n",
    "m.head(2)"
   ]
  },
  {
   "cell_type": "code",
   "execution_count": 54,
   "id": "b6a1dc05",
   "metadata": {},
   "outputs": [
    {
     "data": {
      "text/plain": [
       "Index(['action', 'adventure', 'animation', 'childrens', 'comedy', 'crime',\n",
       "       'documentary', 'drama', 'fantasy', 'film-noir', 'horror', 'musical',\n",
       "       'mystery', 'romance', 'sci-fi', 'thriller', 'war', 'western'],\n",
       "      dtype='object', name='Genres')"
      ]
     },
     "execution_count": 54,
     "metadata": {},
     "output_type": "execute_result"
    }
   ],
   "source": [
    "m.columns"
   ]
  },
  {
   "cell_type": "code",
   "execution_count": 55,
   "id": "730fd096",
   "metadata": {},
   "outputs": [],
   "source": [
    "#avg_rating and no.of rating by movies\n",
    "\n",
    "movie_rating = ratings.groupby('MovieID').agg({'Rating':['mean', 'count']}).rename(\n",
    "    columns={'mean':'rate_avg', 'count':'rate_ct'})\n",
    "movie_rating.columns = movie_rating.columns.droplevel()"
   ]
  },
  {
   "cell_type": "code",
   "execution_count": 56,
   "id": "4794d171",
   "metadata": {},
   "outputs": [
    {
     "data": {
      "text/html": [
       "<div>\n",
       "<style scoped>\n",
       "    .dataframe tbody tr th:only-of-type {\n",
       "        vertical-align: middle;\n",
       "    }\n",
       "\n",
       "    .dataframe tbody tr th {\n",
       "        vertical-align: top;\n",
       "    }\n",
       "\n",
       "    .dataframe thead th {\n",
       "        text-align: right;\n",
       "    }\n",
       "</style>\n",
       "<table border=\"1\" class=\"dataframe\">\n",
       "  <thead>\n",
       "    <tr style=\"text-align: right;\">\n",
       "      <th></th>\n",
       "      <th>MovieID</th>\n",
       "      <th>Title</th>\n",
       "      <th>Genres</th>\n",
       "      <th>Release_year</th>\n",
       "      <th>MovieAge</th>\n",
       "      <th>action</th>\n",
       "      <th>adventure</th>\n",
       "      <th>animation</th>\n",
       "      <th>childrens</th>\n",
       "      <th>comedy</th>\n",
       "      <th>...</th>\n",
       "      <th>horror</th>\n",
       "      <th>musical</th>\n",
       "      <th>mystery</th>\n",
       "      <th>romance</th>\n",
       "      <th>sci-fi</th>\n",
       "      <th>thriller</th>\n",
       "      <th>war</th>\n",
       "      <th>western</th>\n",
       "      <th>rate_avg</th>\n",
       "      <th>rate_ct</th>\n",
       "    </tr>\n",
       "  </thead>\n",
       "  <tbody>\n",
       "    <tr>\n",
       "      <th>0</th>\n",
       "      <td>1</td>\n",
       "      <td>Toy Story (1995)</td>\n",
       "      <td>Animation|Children's|Comedy</td>\n",
       "      <td>1995</td>\n",
       "      <td>27</td>\n",
       "      <td>0</td>\n",
       "      <td>0</td>\n",
       "      <td>1</td>\n",
       "      <td>1</td>\n",
       "      <td>1</td>\n",
       "      <td>...</td>\n",
       "      <td>0</td>\n",
       "      <td>0</td>\n",
       "      <td>0</td>\n",
       "      <td>0</td>\n",
       "      <td>0</td>\n",
       "      <td>0</td>\n",
       "      <td>0</td>\n",
       "      <td>0</td>\n",
       "      <td>4.146846</td>\n",
       "      <td>2077</td>\n",
       "    </tr>\n",
       "    <tr>\n",
       "      <th>1</th>\n",
       "      <td>2</td>\n",
       "      <td>Jumanji (1995)</td>\n",
       "      <td>Adventure|Children's|Fantasy</td>\n",
       "      <td>1995</td>\n",
       "      <td>27</td>\n",
       "      <td>0</td>\n",
       "      <td>1</td>\n",
       "      <td>0</td>\n",
       "      <td>1</td>\n",
       "      <td>0</td>\n",
       "      <td>...</td>\n",
       "      <td>0</td>\n",
       "      <td>0</td>\n",
       "      <td>0</td>\n",
       "      <td>0</td>\n",
       "      <td>0</td>\n",
       "      <td>0</td>\n",
       "      <td>0</td>\n",
       "      <td>0</td>\n",
       "      <td>3.201141</td>\n",
       "      <td>701</td>\n",
       "    </tr>\n",
       "  </tbody>\n",
       "</table>\n",
       "<p>2 rows × 25 columns</p>\n",
       "</div>"
      ],
      "text/plain": [
       "  MovieID             Title                        Genres  Release_year  \\\n",
       "0       1  Toy Story (1995)   Animation|Children's|Comedy          1995   \n",
       "1       2    Jumanji (1995)  Adventure|Children's|Fantasy          1995   \n",
       "\n",
       "   MovieAge  action  adventure  animation  childrens  comedy  ...  horror  \\\n",
       "0        27       0          0          1          1       1  ...       0   \n",
       "1        27       0          1          0          1       0  ...       0   \n",
       "\n",
       "   musical  mystery  romance  sci-fi  thriller  war  western  rate_avg  \\\n",
       "0        0        0        0       0         0    0        0  4.146846   \n",
       "1        0        0        0       0         0    0        0  3.201141   \n",
       "\n",
       "   rate_ct  \n",
       "0     2077  \n",
       "1      701  \n",
       "\n",
       "[2 rows x 25 columns]"
      ]
     },
     "execution_count": 56,
     "metadata": {},
     "output_type": "execute_result"
    }
   ],
   "source": [
    "#merging m with movies and adding avg rating\n",
    "\n",
    "movies_df = pd.merge(movies, m, on='MovieID')\n",
    "movies_df = pd.merge(movies_df, movie_rating, on='MovieID')\n",
    "movies_df.head(2)"
   ]
  },
  {
   "cell_type": "code",
   "execution_count": 57,
   "id": "981fda63",
   "metadata": {},
   "outputs": [
    {
     "data": {
      "text/plain": [
       "1998    313\n",
       "1996    311\n",
       "1995    310\n",
       "1997    304\n",
       "1999    271\n",
       "       ... \n",
       "1928      2\n",
       "1923      2\n",
       "1922      1\n",
       "1920      1\n",
       "1921      1\n",
       "Name: Release_year, Length: 81, dtype: int64"
      ]
     },
     "execution_count": 57,
     "metadata": {},
     "output_type": "execute_result"
    }
   ],
   "source": [
    "#checking column Release_year\n",
    "\n",
    "movies_df['Release_year'].value_counts()"
   ]
  },
  {
   "cell_type": "code",
   "execution_count": 58,
   "id": "7a132460",
   "metadata": {},
   "outputs": [
    {
     "data": {
      "image/png": "[encoded data removed]",
      "text/plain": [
       "<Figure size 432x288 with 1 Axes>"
      ]
     },
     "metadata": {
      "needs_background": "light"
     },
     "output_type": "display_data"
    }
   ],
   "source": [
    "sns.histplot(data=movies_df, x='Release_year')\n",
    "plt.show()"
   ]
  },
  {
   "cell_type": "code",
   "execution_count": 59,
   "id": "3254475c",
   "metadata": {},
   "outputs": [
    {
     "data": {
      "text/plain": [
       "{'film-noir': 44,\n",
       " 'fantasy': 63,\n",
       " 'western': 66,\n",
       " 'mystery': 103,\n",
       " 'animation': 104,\n",
       " 'documentary': 108,\n",
       " 'musical': 112,\n",
       " 'war': 137,\n",
       " 'crime': 200,\n",
       " 'childrens': 248,\n",
       " 'sci-fi': 263,\n",
       " 'adventure': 280,\n",
       " 'horror': 336,\n",
       " 'romance': 450,\n",
       " 'thriller': 482,\n",
       " 'action': 495,\n",
       " 'comedy': 1154,\n",
       " 'drama': 1472}"
      ]
     },
     "execution_count": 59,
     "metadata": {},
     "output_type": "execute_result"
    }
   ],
   "source": [
    "#checking genres count\n",
    "\n",
    "cols = ['action', 'adventure', 'animation', 'childrens', 'comedy',\n",
    "       'crime', 'documentary', 'drama', 'fantasy', 'film-noir', 'horror',\n",
    "       'musical', 'mystery', 'romance', 'sci-fi', 'thriller', 'war',\n",
    "       'western']\n",
    "dic = {}\n",
    "for col in cols:\n",
    "    dic[col] = movies_df[col].sum()\n",
    "dict(sorted(dic.items(), key=lambda item: item[1]))"
   ]
  },
  {
   "cell_type": "code",
   "execution_count": 60,
   "id": "e91f1875",
   "metadata": {},
   "outputs": [
    {
     "data": {
      "text/plain": [
       "{'film-noir': 0,\n",
       " 'western': 0,\n",
       " 'fantasy': 1,\n",
       " 'musical': 1,\n",
       " 'mystery': 1,\n",
       " 'war': 2,\n",
       " 'adventure': 6,\n",
       " 'documentary': 7,\n",
       " 'animation': 8,\n",
       " 'crime': 8,\n",
       " 'horror': 8,\n",
       " 'childrens': 9,\n",
       " 'sci-fi': 10,\n",
       " 'romance': 16,\n",
       " 'action': 19,\n",
       " 'thriller': 25,\n",
       " 'drama': 53,\n",
       " 'comedy': 67}"
      ]
     },
     "execution_count": 60,
     "metadata": {},
     "output_type": "execute_result"
    }
   ],
   "source": [
    "#checking genres count post 2000\n",
    "\n",
    "dic = {}\n",
    "for col in cols:\n",
    "    dic[col] = movies_df[movies_df['Release_year'] >= 2000][col].sum()\n",
    "dict(sorted(dic.items(), key=lambda item: item[1]))"
   ]
  },
  {
   "cell_type": "code",
   "execution_count": 61,
   "id": "9bcea7b7",
   "metadata": {},
   "outputs": [
    {
     "data": {
      "text/html": [
       "<div>\n",
       "<style scoped>\n",
       "    .dataframe tbody tr th:only-of-type {\n",
       "        vertical-align: middle;\n",
       "    }\n",
       "\n",
       "    .dataframe tbody tr th {\n",
       "        vertical-align: top;\n",
       "    }\n",
       "\n",
       "    .dataframe thead th {\n",
       "        text-align: right;\n",
       "    }\n",
       "</style>\n",
       "<table border=\"1\" class=\"dataframe\">\n",
       "  <thead>\n",
       "    <tr style=\"text-align: right;\">\n",
       "      <th></th>\n",
       "      <th>MovieID</th>\n",
       "      <th>Title</th>\n",
       "      <th>rate_ct</th>\n",
       "      <th>rate_avg</th>\n",
       "    </tr>\n",
       "  </thead>\n",
       "  <tbody>\n",
       "    <tr>\n",
       "      <th>2635</th>\n",
       "      <td>2858</td>\n",
       "      <td>American Beauty (1999)</td>\n",
       "      <td>3428</td>\n",
       "      <td>4.317386</td>\n",
       "    </tr>\n",
       "    <tr>\n",
       "      <th>251</th>\n",
       "      <td>260</td>\n",
       "      <td>Star Wars: Episode IV - A New Hope (1977)</td>\n",
       "      <td>2991</td>\n",
       "      <td>4.453694</td>\n",
       "    </tr>\n",
       "    <tr>\n",
       "      <th>1097</th>\n",
       "      <td>1196</td>\n",
       "      <td>Star Wars: Episode V - The Empire Strikes Back...</td>\n",
       "      <td>2990</td>\n",
       "      <td>4.292977</td>\n",
       "    </tr>\n",
       "    <tr>\n",
       "      <th>1111</th>\n",
       "      <td>1210</td>\n",
       "      <td>Star Wars: Episode VI - Return of the Jedi (1983)</td>\n",
       "      <td>2883</td>\n",
       "      <td>4.022893</td>\n",
       "    </tr>\n",
       "    <tr>\n",
       "      <th>462</th>\n",
       "      <td>480</td>\n",
       "      <td>Jurassic Park (1993)</td>\n",
       "      <td>2672</td>\n",
       "      <td>3.763847</td>\n",
       "    </tr>\n",
       "    <tr>\n",
       "      <th>1837</th>\n",
       "      <td>2028</td>\n",
       "      <td>Saving Private Ryan (1998)</td>\n",
       "      <td>2653</td>\n",
       "      <td>4.337354</td>\n",
       "    </tr>\n",
       "    <tr>\n",
       "      <th>571</th>\n",
       "      <td>589</td>\n",
       "      <td>Terminator 2: Judgment Day (1991)</td>\n",
       "      <td>2649</td>\n",
       "      <td>4.058513</td>\n",
       "    </tr>\n",
       "    <tr>\n",
       "      <th>2362</th>\n",
       "      <td>2571</td>\n",
       "      <td>Matrix, The (1999)</td>\n",
       "      <td>2590</td>\n",
       "      <td>4.315830</td>\n",
       "    </tr>\n",
       "    <tr>\n",
       "      <th>1169</th>\n",
       "      <td>1270</td>\n",
       "      <td>Back to the Future (1985)</td>\n",
       "      <td>2583</td>\n",
       "      <td>3.990321</td>\n",
       "    </tr>\n",
       "    <tr>\n",
       "      <th>575</th>\n",
       "      <td>593</td>\n",
       "      <td>Silence of the Lambs, The (1991)</td>\n",
       "      <td>2578</td>\n",
       "      <td>4.351823</td>\n",
       "    </tr>\n",
       "  </tbody>\n",
       "</table>\n",
       "</div>"
      ],
      "text/plain": [
       "     MovieID                                              Title  rate_ct  \\\n",
       "2635    2858                             American Beauty (1999)     3428   \n",
       "251      260          Star Wars: Episode IV - A New Hope (1977)     2991   \n",
       "1097    1196  Star Wars: Episode V - The Empire Strikes Back...     2990   \n",
       "1111    1210  Star Wars: Episode VI - Return of the Jedi (1983)     2883   \n",
       "462      480                               Jurassic Park (1993)     2672   \n",
       "1837    2028                         Saving Private Ryan (1998)     2653   \n",
       "571      589                  Terminator 2: Judgment Day (1991)     2649   \n",
       "2362    2571                                 Matrix, The (1999)     2590   \n",
       "1169    1270                          Back to the Future (1985)     2583   \n",
       "575      593                   Silence of the Lambs, The (1991)     2578   \n",
       "\n",
       "      rate_avg  \n",
       "2635  4.317386  \n",
       "251   4.453694  \n",
       "1097  4.292977  \n",
       "1111  4.022893  \n",
       "462   3.763847  \n",
       "1837  4.337354  \n",
       "571   4.058513  \n",
       "2362  4.315830  \n",
       "1169  3.990321  \n",
       "575   4.351823  "
      ]
     },
     "execution_count": 61,
     "metadata": {},
     "output_type": "execute_result"
    }
   ],
   "source": [
    "#Movies rated by most number of peoples\n",
    "\n",
    "movies_df[['MovieID', 'Title','rate_ct', 'rate_avg']].sort_values(by='rate_ct', ascending=False).head(10)"
   ]
  },
  {
   "cell_type": "code",
   "execution_count": 62,
   "id": "3caffa9f",
   "metadata": {},
   "outputs": [
    {
     "data": {
      "text/html": [
       "<div>\n",
       "<style scoped>\n",
       "    .dataframe tbody tr th:only-of-type {\n",
       "        vertical-align: middle;\n",
       "    }\n",
       "\n",
       "    .dataframe tbody tr th {\n",
       "        vertical-align: top;\n",
       "    }\n",
       "\n",
       "    .dataframe thead th {\n",
       "        text-align: right;\n",
       "    }\n",
       "</style>\n",
       "<table border=\"1\" class=\"dataframe\">\n",
       "  <thead>\n",
       "    <tr style=\"text-align: right;\">\n",
       "      <th></th>\n",
       "      <th>MovieID</th>\n",
       "      <th>Title</th>\n",
       "      <th>rate_ct</th>\n",
       "      <th>rate_avg</th>\n",
       "    </tr>\n",
       "  </thead>\n",
       "  <tbody>\n",
       "    <tr>\n",
       "      <th>2682</th>\n",
       "      <td>2905</td>\n",
       "      <td>Sanjuro (1962)</td>\n",
       "      <td>69</td>\n",
       "      <td>4.608696</td>\n",
       "    </tr>\n",
       "    <tr>\n",
       "      <th>307</th>\n",
       "      <td>318</td>\n",
       "      <td>Shawshank Redemption, The (1994)</td>\n",
       "      <td>2227</td>\n",
       "      <td>4.554558</td>\n",
       "    </tr>\n",
       "    <tr>\n",
       "      <th>795</th>\n",
       "      <td>858</td>\n",
       "      <td>Godfather, The (1972)</td>\n",
       "      <td>2223</td>\n",
       "      <td>4.524966</td>\n",
       "    </tr>\n",
       "    <tr>\n",
       "      <th>703</th>\n",
       "      <td>745</td>\n",
       "      <td>Close Shave, A (1995)</td>\n",
       "      <td>657</td>\n",
       "      <td>4.520548</td>\n",
       "    </tr>\n",
       "    <tr>\n",
       "      <th>49</th>\n",
       "      <td>50</td>\n",
       "      <td>Usual Suspects, The (1995)</td>\n",
       "      <td>1783</td>\n",
       "      <td>4.517106</td>\n",
       "    </tr>\n",
       "    <tr>\n",
       "      <th>509</th>\n",
       "      <td>527</td>\n",
       "      <td>Schindler's List (1993)</td>\n",
       "      <td>2304</td>\n",
       "      <td>4.510417</td>\n",
       "    </tr>\n",
       "    <tr>\n",
       "      <th>1059</th>\n",
       "      <td>1148</td>\n",
       "      <td>Wrong Trousers, The (1993)</td>\n",
       "      <td>882</td>\n",
       "      <td>4.507937</td>\n",
       "    </tr>\n",
       "    <tr>\n",
       "      <th>854</th>\n",
       "      <td>922</td>\n",
       "      <td>Sunset Blvd. (a.k.a. Sunset Boulevard) (1950)</td>\n",
       "      <td>470</td>\n",
       "      <td>4.491489</td>\n",
       "    </tr>\n",
       "    <tr>\n",
       "      <th>1099</th>\n",
       "      <td>1198</td>\n",
       "      <td>Raiders of the Lost Ark (1981)</td>\n",
       "      <td>2514</td>\n",
       "      <td>4.477725</td>\n",
       "    </tr>\n",
       "    <tr>\n",
       "      <th>836</th>\n",
       "      <td>904</td>\n",
       "      <td>Rear Window (1954)</td>\n",
       "      <td>1050</td>\n",
       "      <td>4.476190</td>\n",
       "    </tr>\n",
       "  </tbody>\n",
       "</table>\n",
       "</div>"
      ],
      "text/plain": [
       "     MovieID                                          Title  rate_ct  rate_avg\n",
       "2682    2905                                 Sanjuro (1962)       69  4.608696\n",
       "307      318               Shawshank Redemption, The (1994)     2227  4.554558\n",
       "795      858                          Godfather, The (1972)     2223  4.524966\n",
       "703      745                          Close Shave, A (1995)      657  4.520548\n",
       "49        50                     Usual Suspects, The (1995)     1783  4.517106\n",
       "509      527                        Schindler's List (1993)     2304  4.510417\n",
       "1059    1148                     Wrong Trousers, The (1993)      882  4.507937\n",
       "854      922  Sunset Blvd. (a.k.a. Sunset Boulevard) (1950)      470  4.491489\n",
       "1099    1198                 Raiders of the Lost Ark (1981)     2514  4.477725\n",
       "836      904                             Rear Window (1954)     1050  4.476190"
      ]
     },
     "execution_count": 62,
     "metadata": {},
     "output_type": "execute_result"
    }
   ],
   "source": [
    "#Movies with highest ratings and rated by atleast 10 people\n",
    "\n",
    "movies_df[movies_df['rate_ct']>=10][['MovieID', 'Title','rate_ct', 'rate_avg']].sort_values(\n",
    "    by='rate_avg', ascending=False).head(10)"
   ]
  },
  {
   "cell_type": "code",
   "execution_count": 63,
   "id": "bf43564f",
   "metadata": {},
   "outputs": [
    {
     "data": {
      "text/plain": [
       "[]"
      ]
     },
     "execution_count": 63,
     "metadata": {},
     "output_type": "execute_result"
    },
    {
     "data": {
      "image/png": "[encoded data removed]",
      "text/plain": [
       "<Figure size 432x288 with 1 Axes>"
      ]
     },
     "metadata": {
      "needs_background": "light"
     },
     "output_type": "display_data"
    }
   ],
   "source": [
    "sns.countplot(data=df, x='Rating', hue='Gender')\n",
    "plt.plot()"
   ]
  },
  {
   "cell_type": "code",
   "execution_count": 64,
   "id": "c3cd0d48",
   "metadata": {},
   "outputs": [
    {
     "name": "stdout",
     "output_type": "stream",
     "text": [
      "<class 'pandas.core.frame.DataFrame'>\n",
      "RangeIndex: 6040 entries, 0 to 6039\n",
      "Data columns (total 5 columns):\n",
      " #   Column      Non-Null Count  Dtype \n",
      "---  ------      --------------  ----- \n",
      " 0   UserID      6040 non-null   object\n",
      " 1   Gender      6040 non-null   object\n",
      " 2   Age         6040 non-null   object\n",
      " 3   Occupation  6040 non-null   object\n",
      " 4   Zip-code    6040 non-null   object\n",
      "dtypes: object(5)\n",
      "memory usage: 236.1+ KB\n"
     ]
    }
   ],
   "source": [
    "#checking users\n",
    "\n",
    "users.info()"
   ]
  },
  {
   "cell_type": "code",
   "execution_count": 65,
   "id": "229080df",
   "metadata": {},
   "outputs": [
    {
     "data": {
      "text/plain": [
       "M    4331\n",
       "F    1709\n",
       "Name: Gender, dtype: int64"
      ]
     },
     "execution_count": 65,
     "metadata": {},
     "output_type": "execute_result"
    }
   ],
   "source": [
    "users['Gender'].value_counts()"
   ]
  },
  {
   "cell_type": "code",
   "execution_count": 66,
   "id": "3e599234",
   "metadata": {},
   "outputs": [
    {
     "data": {
      "text/plain": [
       "25    2096\n",
       "35    1193\n",
       "18    1103\n",
       "45     550\n",
       "50     496\n",
       "56     380\n",
       "1      222\n",
       "Name: Age, dtype: int64"
      ]
     },
     "execution_count": 66,
     "metadata": {},
     "output_type": "execute_result"
    }
   ],
   "source": [
    "users['Age'].value_counts()"
   ]
  },
  {
   "cell_type": "code",
   "execution_count": 67,
   "id": "c789465c",
   "metadata": {},
   "outputs": [
    {
     "data": {
      "image/png": "[encoded data removed]",
      "text/plain": [
       "<Figure size 432x288 with 1 Axes>"
      ]
     },
     "metadata": {
      "needs_background": "light"
     },
     "output_type": "display_data"
    }
   ],
   "source": [
    "sns.countplot(data=users, x='Age', hue='Gender')\n",
    "plt.show()"
   ]
  },
  {
   "cell_type": "code",
   "execution_count": 68,
   "id": "8e702b7a",
   "metadata": {},
   "outputs": [
    {
     "data": {
      "text/plain": [
       "4     759\n",
       "0     711\n",
       "7     679\n",
       "1     528\n",
       "17    502\n",
       "12    388\n",
       "14    302\n",
       "20    281\n",
       "2     267\n",
       "16    241\n",
       "6     236\n",
       "10    195\n",
       "3     173\n",
       "15    144\n",
       "13    142\n",
       "11    129\n",
       "5     112\n",
       "9      92\n",
       "19     72\n",
       "18     70\n",
       "8      17\n",
       "Name: Occupation, dtype: int64"
      ]
     },
     "execution_count": 68,
     "metadata": {},
     "output_type": "execute_result"
    }
   ],
   "source": [
    "users['Occupation'].value_counts()"
   ]
  },
  {
   "cell_type": "code",
   "execution_count": 69,
   "id": "0f87e0ab",
   "metadata": {},
   "outputs": [
    {
     "data": {
      "text/plain": [
       "554    172\n",
       "100    162\n",
       "551    146\n",
       "941    137\n",
       "021    109\n",
       "606    104\n",
       "900    103\n",
       "481     95\n",
       "981     90\n",
       "921     72\n",
       "Name: Zip-code, dtype: int64"
      ]
     },
     "execution_count": 69,
     "metadata": {},
     "output_type": "execute_result"
    }
   ],
   "source": [
    "users['Zip-code'].value_counts().head(10)"
   ]
  },
  {
   "cell_type": "markdown",
   "id": "f53d023f",
   "metadata": {},
   "source": [
    "# **Build a Recommender System based on Pearson Correlation**"
   ]
  },
  {
   "cell_type": "code",
   "execution_count": 70,
   "id": "e67a10d7",
   "metadata": {},
   "outputs": [
    {
     "data": {
      "text/html": [
       "<div>\n",
       "<style scoped>\n",
       "    .dataframe tbody tr th:only-of-type {\n",
       "        vertical-align: middle;\n",
       "    }\n",
       "\n",
       "    .dataframe tbody tr th {\n",
       "        vertical-align: top;\n",
       "    }\n",
       "\n",
       "    .dataframe thead th {\n",
       "        text-align: right;\n",
       "    }\n",
       "</style>\n",
       "<table border=\"1\" class=\"dataframe\">\n",
       "  <thead>\n",
       "    <tr style=\"text-align: right;\">\n",
       "      <th>MovieID</th>\n",
       "      <th>1</th>\n",
       "      <th>10</th>\n",
       "      <th>100</th>\n",
       "      <th>1000</th>\n",
       "      <th>1002</th>\n",
       "      <th>1003</th>\n",
       "      <th>1004</th>\n",
       "      <th>1005</th>\n",
       "      <th>1006</th>\n",
       "      <th>1007</th>\n",
       "      <th>...</th>\n",
       "      <th>99</th>\n",
       "      <th>990</th>\n",
       "      <th>991</th>\n",
       "      <th>992</th>\n",
       "      <th>993</th>\n",
       "      <th>994</th>\n",
       "      <th>996</th>\n",
       "      <th>997</th>\n",
       "      <th>998</th>\n",
       "      <th>999</th>\n",
       "    </tr>\n",
       "    <tr>\n",
       "      <th>UserID</th>\n",
       "      <th></th>\n",
       "      <th></th>\n",
       "      <th></th>\n",
       "      <th></th>\n",
       "      <th></th>\n",
       "      <th></th>\n",
       "      <th></th>\n",
       "      <th></th>\n",
       "      <th></th>\n",
       "      <th></th>\n",
       "      <th></th>\n",
       "      <th></th>\n",
       "      <th></th>\n",
       "      <th></th>\n",
       "      <th></th>\n",
       "      <th></th>\n",
       "      <th></th>\n",
       "      <th></th>\n",
       "      <th></th>\n",
       "      <th></th>\n",
       "      <th></th>\n",
       "    </tr>\n",
       "  </thead>\n",
       "  <tbody>\n",
       "    <tr>\n",
       "      <th>1</th>\n",
       "      <td>5.0</td>\n",
       "      <td>0.0</td>\n",
       "      <td>0.0</td>\n",
       "      <td>0.0</td>\n",
       "      <td>0.0</td>\n",
       "      <td>0.0</td>\n",
       "      <td>0.0</td>\n",
       "      <td>0.0</td>\n",
       "      <td>0.0</td>\n",
       "      <td>0.0</td>\n",
       "      <td>...</td>\n",
       "      <td>0.0</td>\n",
       "      <td>0.0</td>\n",
       "      <td>0.0</td>\n",
       "      <td>0.0</td>\n",
       "      <td>0.0</td>\n",
       "      <td>0.0</td>\n",
       "      <td>0.0</td>\n",
       "      <td>0.0</td>\n",
       "      <td>0.0</td>\n",
       "      <td>0.0</td>\n",
       "    </tr>\n",
       "    <tr>\n",
       "      <th>10</th>\n",
       "      <td>5.0</td>\n",
       "      <td>0.0</td>\n",
       "      <td>0.0</td>\n",
       "      <td>0.0</td>\n",
       "      <td>0.0</td>\n",
       "      <td>0.0</td>\n",
       "      <td>0.0</td>\n",
       "      <td>0.0</td>\n",
       "      <td>0.0</td>\n",
       "      <td>0.0</td>\n",
       "      <td>...</td>\n",
       "      <td>0.0</td>\n",
       "      <td>0.0</td>\n",
       "      <td>0.0</td>\n",
       "      <td>0.0</td>\n",
       "      <td>0.0</td>\n",
       "      <td>0.0</td>\n",
       "      <td>0.0</td>\n",
       "      <td>0.0</td>\n",
       "      <td>0.0</td>\n",
       "      <td>0.0</td>\n",
       "    </tr>\n",
       "    <tr>\n",
       "      <th>100</th>\n",
       "      <td>0.0</td>\n",
       "      <td>0.0</td>\n",
       "      <td>0.0</td>\n",
       "      <td>0.0</td>\n",
       "      <td>0.0</td>\n",
       "      <td>0.0</td>\n",
       "      <td>0.0</td>\n",
       "      <td>0.0</td>\n",
       "      <td>0.0</td>\n",
       "      <td>0.0</td>\n",
       "      <td>...</td>\n",
       "      <td>0.0</td>\n",
       "      <td>0.0</td>\n",
       "      <td>0.0</td>\n",
       "      <td>0.0</td>\n",
       "      <td>0.0</td>\n",
       "      <td>0.0</td>\n",
       "      <td>0.0</td>\n",
       "      <td>0.0</td>\n",
       "      <td>0.0</td>\n",
       "      <td>0.0</td>\n",
       "    </tr>\n",
       "    <tr>\n",
       "      <th>1000</th>\n",
       "      <td>5.0</td>\n",
       "      <td>0.0</td>\n",
       "      <td>0.0</td>\n",
       "      <td>0.0</td>\n",
       "      <td>0.0</td>\n",
       "      <td>0.0</td>\n",
       "      <td>0.0</td>\n",
       "      <td>0.0</td>\n",
       "      <td>0.0</td>\n",
       "      <td>0.0</td>\n",
       "      <td>...</td>\n",
       "      <td>0.0</td>\n",
       "      <td>0.0</td>\n",
       "      <td>0.0</td>\n",
       "      <td>0.0</td>\n",
       "      <td>0.0</td>\n",
       "      <td>0.0</td>\n",
       "      <td>0.0</td>\n",
       "      <td>0.0</td>\n",
       "      <td>0.0</td>\n",
       "      <td>0.0</td>\n",
       "    </tr>\n",
       "    <tr>\n",
       "      <th>1001</th>\n",
       "      <td>4.0</td>\n",
       "      <td>0.0</td>\n",
       "      <td>0.0</td>\n",
       "      <td>0.0</td>\n",
       "      <td>0.0</td>\n",
       "      <td>0.0</td>\n",
       "      <td>0.0</td>\n",
       "      <td>0.0</td>\n",
       "      <td>0.0</td>\n",
       "      <td>0.0</td>\n",
       "      <td>...</td>\n",
       "      <td>0.0</td>\n",
       "      <td>0.0</td>\n",
       "      <td>0.0</td>\n",
       "      <td>0.0</td>\n",
       "      <td>0.0</td>\n",
       "      <td>0.0</td>\n",
       "      <td>0.0</td>\n",
       "      <td>0.0</td>\n",
       "      <td>0.0</td>\n",
       "      <td>0.0</td>\n",
       "    </tr>\n",
       "  </tbody>\n",
       "</table>\n",
       "<p>5 rows × 3706 columns</p>\n",
       "</div>"
      ],
      "text/plain": [
       "MovieID    1   10  100  1000  1002  1003  1004  1005  1006  1007  ...   99  \\\n",
       "UserID                                                            ...        \n",
       "1        5.0  0.0  0.0   0.0   0.0   0.0   0.0   0.0   0.0   0.0  ...  0.0   \n",
       "10       5.0  0.0  0.0   0.0   0.0   0.0   0.0   0.0   0.0   0.0  ...  0.0   \n",
       "100      0.0  0.0  0.0   0.0   0.0   0.0   0.0   0.0   0.0   0.0  ...  0.0   \n",
       "1000     5.0  0.0  0.0   0.0   0.0   0.0   0.0   0.0   0.0   0.0  ...  0.0   \n",
       "1001     4.0  0.0  0.0   0.0   0.0   0.0   0.0   0.0   0.0   0.0  ...  0.0   \n",
       "\n",
       "MovieID  990  991  992  993  994  996  997  998  999  \n",
       "UserID                                                \n",
       "1        0.0  0.0  0.0  0.0  0.0  0.0  0.0  0.0  0.0  \n",
       "10       0.0  0.0  0.0  0.0  0.0  0.0  0.0  0.0  0.0  \n",
       "100      0.0  0.0  0.0  0.0  0.0  0.0  0.0  0.0  0.0  \n",
       "1000     0.0  0.0  0.0  0.0  0.0  0.0  0.0  0.0  0.0  \n",
       "1001     0.0  0.0  0.0  0.0  0.0  0.0  0.0  0.0  0.0  \n",
       "\n",
       "[5 rows x 3706 columns]"
      ]
     },
     "execution_count": 70,
     "metadata": {},
     "output_type": "execute_result"
    }
   ],
   "source": [
    "#creating item-user matrix\n",
    "\n",
    "item_user = ratings.pivot(index = 'UserID', columns ='MovieID', values = 'Rating').fillna(0)\n",
    "item_user.head()"
   ]
  },
  {
   "cell_type": "code",
   "execution_count": 71,
   "id": "6be49b11",
   "metadata": {},
   "outputs": [],
   "source": [
    "# item similarity matrix using Pearson correlation\n",
    "\n",
    "item_sim = item_user.corr()"
   ]
  },
  {
   "cell_type": "code",
   "execution_count": 72,
   "id": "cd637c2a",
   "metadata": {},
   "outputs": [
    {
     "data": {
      "text/plain": [
       "(3706, 3706)"
      ]
     },
     "execution_count": 72,
     "metadata": {},
     "output_type": "execute_result"
    }
   ],
   "source": [
    "item_sim.shape"
   ]
  },
  {
   "cell_type": "markdown",
   "id": "94be1fc5",
   "metadata": {},
   "source": [
    "**Query - List of 5 movies to recommend to a user who has liked 'The Shawshank Redemption (1994)' MovieID - 318**"
   ]
  },
  {
   "cell_type": "code",
   "execution_count": 73,
   "id": "9d99d65d",
   "metadata": {},
   "outputs": [
    {
     "data": {
      "text/html": [
       "<div>\n",
       "<style scoped>\n",
       "    .dataframe tbody tr th:only-of-type {\n",
       "        vertical-align: middle;\n",
       "    }\n",
       "\n",
       "    .dataframe tbody tr th {\n",
       "        vertical-align: top;\n",
       "    }\n",
       "\n",
       "    .dataframe thead th {\n",
       "        text-align: right;\n",
       "    }\n",
       "</style>\n",
       "<table border=\"1\" class=\"dataframe\">\n",
       "  <thead>\n",
       "    <tr style=\"text-align: right;\">\n",
       "      <th></th>\n",
       "      <th>MovieID</th>\n",
       "      <th>Title</th>\n",
       "      <th>Genres</th>\n",
       "      <th>Release_year</th>\n",
       "      <th>MovieAge</th>\n",
       "    </tr>\n",
       "  </thead>\n",
       "  <tbody>\n",
       "    <tr>\n",
       "      <th>315</th>\n",
       "      <td>318</td>\n",
       "      <td>Shawshank Redemption, The (1994)</td>\n",
       "      <td>Drama</td>\n",
       "      <td>1994</td>\n",
       "      <td>28</td>\n",
       "    </tr>\n",
       "  </tbody>\n",
       "</table>\n",
       "</div>"
      ],
      "text/plain": [
       "    MovieID                             Title Genres  Release_year  MovieAge\n",
       "315     318  Shawshank Redemption, The (1994)  Drama          1994        28"
      ]
     },
     "execution_count": 73,
     "metadata": {},
     "output_type": "execute_result"
    }
   ],
   "source": [
    "movies[movies['MovieID']=='318']"
   ]
  },
  {
   "cell_type": "code",
   "execution_count": 74,
   "id": "972c1ad0",
   "metadata": {},
   "outputs": [
    {
     "name": "stdout",
     "output_type": "stream",
     "text": [
      "Here is a list of 5 movies to recommend to a user who has liked 'Shawshank Redemption, The (1994)'\n"
     ]
    },
    {
     "data": {
      "text/plain": [
       "MovieID\n",
       "308     0.675480\n",
       "306     0.593413\n",
       "1176    0.298589\n",
       "535     0.293932\n",
       "194     0.272502\n",
       "Name: 307, dtype: float64"
      ]
     },
     "execution_count": 74,
     "metadata": {},
     "output_type": "execute_result"
    }
   ],
   "source": [
    "print(\"Here is a list of 5 movies to recommend to a user who has liked 'Shawshank Redemption, The (1994)'\")\n",
    "lt = list(pd.DataFrame(item_sim['307'].sort_values(ascending=False).iloc[1:6]).index)\n",
    "item_sim['307'].sort_values(ascending=False).iloc[1:6]"
   ]
  },
  {
   "cell_type": "code",
   "execution_count": 75,
   "id": "284347d8",
   "metadata": {},
   "outputs": [
    {
     "data": {
      "text/html": [
       "<div>\n",
       "<style scoped>\n",
       "    .dataframe tbody tr th:only-of-type {\n",
       "        vertical-align: middle;\n",
       "    }\n",
       "\n",
       "    .dataframe tbody tr th {\n",
       "        vertical-align: top;\n",
       "    }\n",
       "\n",
       "    .dataframe thead th {\n",
       "        text-align: right;\n",
       "    }\n",
       "</style>\n",
       "<table border=\"1\" class=\"dataframe\">\n",
       "  <thead>\n",
       "    <tr style=\"text-align: right;\">\n",
       "      <th></th>\n",
       "      <th>MovieID</th>\n",
       "      <th>Title</th>\n",
       "      <th>Genres</th>\n",
       "      <th>Release_year</th>\n",
       "      <th>MovieAge</th>\n",
       "    </tr>\n",
       "  </thead>\n",
       "  <tbody>\n",
       "    <tr>\n",
       "      <th>192</th>\n",
       "      <td>194</td>\n",
       "      <td>Smoke (1995)</td>\n",
       "      <td>Drama</td>\n",
       "      <td>1995</td>\n",
       "      <td>27</td>\n",
       "    </tr>\n",
       "    <tr>\n",
       "      <th>303</th>\n",
       "      <td>306</td>\n",
       "      <td>Three Colors: Red (1994)</td>\n",
       "      <td>Drama</td>\n",
       "      <td>1994</td>\n",
       "      <td>28</td>\n",
       "    </tr>\n",
       "    <tr>\n",
       "      <th>305</th>\n",
       "      <td>308</td>\n",
       "      <td>Three Colors: White (1994)</td>\n",
       "      <td>Drama</td>\n",
       "      <td>1994</td>\n",
       "      <td>28</td>\n",
       "    </tr>\n",
       "    <tr>\n",
       "      <th>531</th>\n",
       "      <td>535</td>\n",
       "      <td>Short Cuts (1993)</td>\n",
       "      <td>Drama</td>\n",
       "      <td>1993</td>\n",
       "      <td>29</td>\n",
       "    </tr>\n",
       "  </tbody>\n",
       "</table>\n",
       "</div>"
      ],
      "text/plain": [
       "    MovieID                       Title Genres  Release_year  MovieAge\n",
       "192     194                Smoke (1995)  Drama          1995        27\n",
       "303     306    Three Colors: Red (1994)  Drama          1994        28\n",
       "305     308  Three Colors: White (1994)  Drama          1994        28\n",
       "531     535           Short Cuts (1993)  Drama          1993        29"
      ]
     },
     "execution_count": 75,
     "metadata": {},
     "output_type": "execute_result"
    }
   ],
   "source": [
    "movies[movies['MovieID'].isin(lt)]"
   ]
  },
  {
   "cell_type": "markdown",
   "id": "93b27875",
   "metadata": {},
   "source": [
    "# **Build a Recommender System based on Cosine Similarity**"
   ]
  },
  {
   "cell_type": "code",
   "execution_count": 76,
   "id": "98435e7c",
   "metadata": {},
   "outputs": [
    {
     "data": {
      "text/html": [
       "<div>\n",
       "<style scoped>\n",
       "    .dataframe tbody tr th:only-of-type {\n",
       "        vertical-align: middle;\n",
       "    }\n",
       "\n",
       "    .dataframe tbody tr th {\n",
       "        vertical-align: top;\n",
       "    }\n",
       "\n",
       "    .dataframe thead th {\n",
       "        text-align: right;\n",
       "    }\n",
       "</style>\n",
       "<table border=\"1\" class=\"dataframe\">\n",
       "  <thead>\n",
       "    <tr style=\"text-align: right;\">\n",
       "      <th>MovieID</th>\n",
       "      <th>1</th>\n",
       "      <th>10</th>\n",
       "      <th>100</th>\n",
       "      <th>1000</th>\n",
       "      <th>1002</th>\n",
       "      <th>1003</th>\n",
       "      <th>1004</th>\n",
       "      <th>1005</th>\n",
       "      <th>1006</th>\n",
       "      <th>1007</th>\n",
       "      <th>...</th>\n",
       "      <th>99</th>\n",
       "      <th>990</th>\n",
       "      <th>991</th>\n",
       "      <th>992</th>\n",
       "      <th>993</th>\n",
       "      <th>994</th>\n",
       "      <th>996</th>\n",
       "      <th>997</th>\n",
       "      <th>998</th>\n",
       "      <th>999</th>\n",
       "    </tr>\n",
       "    <tr>\n",
       "      <th>UserID</th>\n",
       "      <th></th>\n",
       "      <th></th>\n",
       "      <th></th>\n",
       "      <th></th>\n",
       "      <th></th>\n",
       "      <th></th>\n",
       "      <th></th>\n",
       "      <th></th>\n",
       "      <th></th>\n",
       "      <th></th>\n",
       "      <th></th>\n",
       "      <th></th>\n",
       "      <th></th>\n",
       "      <th></th>\n",
       "      <th></th>\n",
       "      <th></th>\n",
       "      <th></th>\n",
       "      <th></th>\n",
       "      <th></th>\n",
       "      <th></th>\n",
       "      <th></th>\n",
       "    </tr>\n",
       "  </thead>\n",
       "  <tbody>\n",
       "    <tr>\n",
       "      <th>1</th>\n",
       "      <td>5.0</td>\n",
       "      <td>0.0</td>\n",
       "      <td>0.0</td>\n",
       "      <td>0.0</td>\n",
       "      <td>0.0</td>\n",
       "      <td>0.0</td>\n",
       "      <td>0.0</td>\n",
       "      <td>0.0</td>\n",
       "      <td>0.0</td>\n",
       "      <td>0.0</td>\n",
       "      <td>...</td>\n",
       "      <td>0.0</td>\n",
       "      <td>0.0</td>\n",
       "      <td>0.0</td>\n",
       "      <td>0.0</td>\n",
       "      <td>0.0</td>\n",
       "      <td>0.0</td>\n",
       "      <td>0.0</td>\n",
       "      <td>0.0</td>\n",
       "      <td>0.0</td>\n",
       "      <td>0.0</td>\n",
       "    </tr>\n",
       "    <tr>\n",
       "      <th>10</th>\n",
       "      <td>5.0</td>\n",
       "      <td>0.0</td>\n",
       "      <td>0.0</td>\n",
       "      <td>0.0</td>\n",
       "      <td>0.0</td>\n",
       "      <td>0.0</td>\n",
       "      <td>0.0</td>\n",
       "      <td>0.0</td>\n",
       "      <td>0.0</td>\n",
       "      <td>0.0</td>\n",
       "      <td>...</td>\n",
       "      <td>0.0</td>\n",
       "      <td>0.0</td>\n",
       "      <td>0.0</td>\n",
       "      <td>0.0</td>\n",
       "      <td>0.0</td>\n",
       "      <td>0.0</td>\n",
       "      <td>0.0</td>\n",
       "      <td>0.0</td>\n",
       "      <td>0.0</td>\n",
       "      <td>0.0</td>\n",
       "    </tr>\n",
       "    <tr>\n",
       "      <th>100</th>\n",
       "      <td>0.0</td>\n",
       "      <td>0.0</td>\n",
       "      <td>0.0</td>\n",
       "      <td>0.0</td>\n",
       "      <td>0.0</td>\n",
       "      <td>0.0</td>\n",
       "      <td>0.0</td>\n",
       "      <td>0.0</td>\n",
       "      <td>0.0</td>\n",
       "      <td>0.0</td>\n",
       "      <td>...</td>\n",
       "      <td>0.0</td>\n",
       "      <td>0.0</td>\n",
       "      <td>0.0</td>\n",
       "      <td>0.0</td>\n",
       "      <td>0.0</td>\n",
       "      <td>0.0</td>\n",
       "      <td>0.0</td>\n",
       "      <td>0.0</td>\n",
       "      <td>0.0</td>\n",
       "      <td>0.0</td>\n",
       "    </tr>\n",
       "    <tr>\n",
       "      <th>1000</th>\n",
       "      <td>5.0</td>\n",
       "      <td>0.0</td>\n",
       "      <td>0.0</td>\n",
       "      <td>0.0</td>\n",
       "      <td>0.0</td>\n",
       "      <td>0.0</td>\n",
       "      <td>0.0</td>\n",
       "      <td>0.0</td>\n",
       "      <td>0.0</td>\n",
       "      <td>0.0</td>\n",
       "      <td>...</td>\n",
       "      <td>0.0</td>\n",
       "      <td>0.0</td>\n",
       "      <td>0.0</td>\n",
       "      <td>0.0</td>\n",
       "      <td>0.0</td>\n",
       "      <td>0.0</td>\n",
       "      <td>0.0</td>\n",
       "      <td>0.0</td>\n",
       "      <td>0.0</td>\n",
       "      <td>0.0</td>\n",
       "    </tr>\n",
       "    <tr>\n",
       "      <th>1001</th>\n",
       "      <td>4.0</td>\n",
       "      <td>0.0</td>\n",
       "      <td>0.0</td>\n",
       "      <td>0.0</td>\n",
       "      <td>0.0</td>\n",
       "      <td>0.0</td>\n",
       "      <td>0.0</td>\n",
       "      <td>0.0</td>\n",
       "      <td>0.0</td>\n",
       "      <td>0.0</td>\n",
       "      <td>...</td>\n",
       "      <td>0.0</td>\n",
       "      <td>0.0</td>\n",
       "      <td>0.0</td>\n",
       "      <td>0.0</td>\n",
       "      <td>0.0</td>\n",
       "      <td>0.0</td>\n",
       "      <td>0.0</td>\n",
       "      <td>0.0</td>\n",
       "      <td>0.0</td>\n",
       "      <td>0.0</td>\n",
       "    </tr>\n",
       "  </tbody>\n",
       "</table>\n",
       "<p>5 rows × 3706 columns</p>\n",
       "</div>"
      ],
      "text/plain": [
       "MovieID    1   10  100  1000  1002  1003  1004  1005  1006  1007  ...   99  \\\n",
       "UserID                                                            ...        \n",
       "1        5.0  0.0  0.0   0.0   0.0   0.0   0.0   0.0   0.0   0.0  ...  0.0   \n",
       "10       5.0  0.0  0.0   0.0   0.0   0.0   0.0   0.0   0.0   0.0  ...  0.0   \n",
       "100      0.0  0.0  0.0   0.0   0.0   0.0   0.0   0.0   0.0   0.0  ...  0.0   \n",
       "1000     5.0  0.0  0.0   0.0   0.0   0.0   0.0   0.0   0.0   0.0  ...  0.0   \n",
       "1001     4.0  0.0  0.0   0.0   0.0   0.0   0.0   0.0   0.0   0.0  ...  0.0   \n",
       "\n",
       "MovieID  990  991  992  993  994  996  997  998  999  \n",
       "UserID                                                \n",
       "1        0.0  0.0  0.0  0.0  0.0  0.0  0.0  0.0  0.0  \n",
       "10       0.0  0.0  0.0  0.0  0.0  0.0  0.0  0.0  0.0  \n",
       "100      0.0  0.0  0.0  0.0  0.0  0.0  0.0  0.0  0.0  \n",
       "1000     0.0  0.0  0.0  0.0  0.0  0.0  0.0  0.0  0.0  \n",
       "1001     0.0  0.0  0.0  0.0  0.0  0.0  0.0  0.0  0.0  \n",
       "\n",
       "[5 rows x 3706 columns]"
      ]
     },
     "execution_count": 76,
     "metadata": {},
     "output_type": "execute_result"
    }
   ],
   "source": [
    "# Create user-item matrix\n",
    "\n",
    "user_item = ratings.pivot(index = 'UserID', columns ='MovieID', values = 'Rating').fillna(0)\n",
    "user_item.head()"
   ]
  },
  {
   "cell_type": "code",
   "execution_count": 77,
   "id": "a0152bf6",
   "metadata": {},
   "outputs": [
    {
     "data": {
      "text/html": [
       "<div>\n",
       "<style scoped>\n",
       "    .dataframe tbody tr th:only-of-type {\n",
       "        vertical-align: middle;\n",
       "    }\n",
       "\n",
       "    .dataframe tbody tr th {\n",
       "        vertical-align: top;\n",
       "    }\n",
       "\n",
       "    .dataframe thead th {\n",
       "        text-align: right;\n",
       "    }\n",
       "</style>\n",
       "<table border=\"1\" class=\"dataframe\">\n",
       "  <thead>\n",
       "    <tr style=\"text-align: right;\">\n",
       "      <th>UserID</th>\n",
       "      <th>1</th>\n",
       "      <th>10</th>\n",
       "      <th>100</th>\n",
       "      <th>1000</th>\n",
       "      <th>1001</th>\n",
       "      <th>1002</th>\n",
       "      <th>1003</th>\n",
       "      <th>1004</th>\n",
       "      <th>1005</th>\n",
       "      <th>1006</th>\n",
       "      <th>...</th>\n",
       "      <th>990</th>\n",
       "      <th>991</th>\n",
       "      <th>992</th>\n",
       "      <th>993</th>\n",
       "      <th>994</th>\n",
       "      <th>995</th>\n",
       "      <th>996</th>\n",
       "      <th>997</th>\n",
       "      <th>998</th>\n",
       "      <th>999</th>\n",
       "    </tr>\n",
       "    <tr>\n",
       "      <th>UserID</th>\n",
       "      <th></th>\n",
       "      <th></th>\n",
       "      <th></th>\n",
       "      <th></th>\n",
       "      <th></th>\n",
       "      <th></th>\n",
       "      <th></th>\n",
       "      <th></th>\n",
       "      <th></th>\n",
       "      <th></th>\n",
       "      <th></th>\n",
       "      <th></th>\n",
       "      <th></th>\n",
       "      <th></th>\n",
       "      <th></th>\n",
       "      <th></th>\n",
       "      <th></th>\n",
       "      <th></th>\n",
       "      <th></th>\n",
       "      <th></th>\n",
       "      <th></th>\n",
       "    </tr>\n",
       "  </thead>\n",
       "  <tbody>\n",
       "    <tr>\n",
       "      <th>1</th>\n",
       "      <td>1.000000</td>\n",
       "      <td>0.255288</td>\n",
       "      <td>0.123967</td>\n",
       "      <td>0.207800</td>\n",
       "      <td>0.139061</td>\n",
       "      <td>0.110320</td>\n",
       "      <td>0.121384</td>\n",
       "      <td>0.179143</td>\n",
       "      <td>0.103137</td>\n",
       "      <td>0.052816</td>\n",
       "      <td>...</td>\n",
       "      <td>0.079367</td>\n",
       "      <td>0.038048</td>\n",
       "      <td>0.032136</td>\n",
       "      <td>0.066641</td>\n",
       "      <td>0.070052</td>\n",
       "      <td>0.035731</td>\n",
       "      <td>0.170184</td>\n",
       "      <td>0.159267</td>\n",
       "      <td>0.119356</td>\n",
       "      <td>0.122059</td>\n",
       "    </tr>\n",
       "    <tr>\n",
       "      <th>10</th>\n",
       "      <td>0.255288</td>\n",
       "      <td>1.000000</td>\n",
       "      <td>0.258047</td>\n",
       "      <td>0.278753</td>\n",
       "      <td>0.154858</td>\n",
       "      <td>0.112222</td>\n",
       "      <td>0.141111</td>\n",
       "      <td>0.428224</td>\n",
       "      <td>0.188569</td>\n",
       "      <td>0.101856</td>\n",
       "      <td>...</td>\n",
       "      <td>0.153462</td>\n",
       "      <td>0.186086</td>\n",
       "      <td>0.083224</td>\n",
       "      <td>0.123288</td>\n",
       "      <td>0.117829</td>\n",
       "      <td>0.145650</td>\n",
       "      <td>0.300175</td>\n",
       "      <td>0.160346</td>\n",
       "      <td>0.132506</td>\n",
       "      <td>0.246251</td>\n",
       "    </tr>\n",
       "    <tr>\n",
       "      <th>100</th>\n",
       "      <td>0.123967</td>\n",
       "      <td>0.258047</td>\n",
       "      <td>1.000000</td>\n",
       "      <td>0.297539</td>\n",
       "      <td>0.075597</td>\n",
       "      <td>0.110450</td>\n",
       "      <td>0.358686</td>\n",
       "      <td>0.236065</td>\n",
       "      <td>0.171609</td>\n",
       "      <td>0.099147</td>\n",
       "      <td>...</td>\n",
       "      <td>0.098235</td>\n",
       "      <td>0.097953</td>\n",
       "      <td>0.065152</td>\n",
       "      <td>0.176048</td>\n",
       "      <td>0.271311</td>\n",
       "      <td>0.033754</td>\n",
       "      <td>0.344290</td>\n",
       "      <td>0.204302</td>\n",
       "      <td>0.113522</td>\n",
       "      <td>0.306104</td>\n",
       "    </tr>\n",
       "    <tr>\n",
       "      <th>1000</th>\n",
       "      <td>0.207800</td>\n",
       "      <td>0.278753</td>\n",
       "      <td>0.297539</td>\n",
       "      <td>1.000000</td>\n",
       "      <td>0.094710</td>\n",
       "      <td>0.047677</td>\n",
       "      <td>0.201722</td>\n",
       "      <td>0.353782</td>\n",
       "      <td>0.323584</td>\n",
       "      <td>0.130702</td>\n",
       "      <td>...</td>\n",
       "      <td>0.170100</td>\n",
       "      <td>0.076779</td>\n",
       "      <td>0.000000</td>\n",
       "      <td>0.197410</td>\n",
       "      <td>0.380741</td>\n",
       "      <td>0.044404</td>\n",
       "      <td>0.330748</td>\n",
       "      <td>0.172803</td>\n",
       "      <td>0.098456</td>\n",
       "      <td>0.245292</td>\n",
       "    </tr>\n",
       "    <tr>\n",
       "      <th>1001</th>\n",
       "      <td>0.139061</td>\n",
       "      <td>0.154858</td>\n",
       "      <td>0.075597</td>\n",
       "      <td>0.094710</td>\n",
       "      <td>1.000000</td>\n",
       "      <td>0.164551</td>\n",
       "      <td>0.053788</td>\n",
       "      <td>0.149019</td>\n",
       "      <td>0.137336</td>\n",
       "      <td>0.134462</td>\n",
       "      <td>...</td>\n",
       "      <td>0.146001</td>\n",
       "      <td>0.026842</td>\n",
       "      <td>0.096832</td>\n",
       "      <td>0.117641</td>\n",
       "      <td>0.092065</td>\n",
       "      <td>0.109499</td>\n",
       "      <td>0.221710</td>\n",
       "      <td>0.100597</td>\n",
       "      <td>0.269456</td>\n",
       "      <td>0.175194</td>\n",
       "    </tr>\n",
       "    <tr>\n",
       "      <th>...</th>\n",
       "      <td>...</td>\n",
       "      <td>...</td>\n",
       "      <td>...</td>\n",
       "      <td>...</td>\n",
       "      <td>...</td>\n",
       "      <td>...</td>\n",
       "      <td>...</td>\n",
       "      <td>...</td>\n",
       "      <td>...</td>\n",
       "      <td>...</td>\n",
       "      <td>...</td>\n",
       "      <td>...</td>\n",
       "      <td>...</td>\n",
       "      <td>...</td>\n",
       "      <td>...</td>\n",
       "      <td>...</td>\n",
       "      <td>...</td>\n",
       "      <td>...</td>\n",
       "      <td>...</td>\n",
       "      <td>...</td>\n",
       "      <td>...</td>\n",
       "    </tr>\n",
       "    <tr>\n",
       "      <th>995</th>\n",
       "      <td>0.035731</td>\n",
       "      <td>0.145650</td>\n",
       "      <td>0.033754</td>\n",
       "      <td>0.044404</td>\n",
       "      <td>0.109499</td>\n",
       "      <td>0.072578</td>\n",
       "      <td>0.031406</td>\n",
       "      <td>0.088304</td>\n",
       "      <td>0.061001</td>\n",
       "      <td>0.032265</td>\n",
       "      <td>...</td>\n",
       "      <td>0.080559</td>\n",
       "      <td>0.252222</td>\n",
       "      <td>0.074207</td>\n",
       "      <td>0.097260</td>\n",
       "      <td>0.048650</td>\n",
       "      <td>1.000000</td>\n",
       "      <td>0.063925</td>\n",
       "      <td>0.019459</td>\n",
       "      <td>0.075830</td>\n",
       "      <td>0.052428</td>\n",
       "    </tr>\n",
       "    <tr>\n",
       "      <th>996</th>\n",
       "      <td>0.170184</td>\n",
       "      <td>0.300175</td>\n",
       "      <td>0.344290</td>\n",
       "      <td>0.330748</td>\n",
       "      <td>0.221710</td>\n",
       "      <td>0.224779</td>\n",
       "      <td>0.185226</td>\n",
       "      <td>0.349899</td>\n",
       "      <td>0.285861</td>\n",
       "      <td>0.164045</td>\n",
       "      <td>...</td>\n",
       "      <td>0.205186</td>\n",
       "      <td>0.086546</td>\n",
       "      <td>0.062523</td>\n",
       "      <td>0.183712</td>\n",
       "      <td>0.217672</td>\n",
       "      <td>0.063925</td>\n",
       "      <td>1.000000</td>\n",
       "      <td>0.174127</td>\n",
       "      <td>0.178834</td>\n",
       "      <td>0.417330</td>\n",
       "    </tr>\n",
       "    <tr>\n",
       "      <th>997</th>\n",
       "      <td>0.159267</td>\n",
       "      <td>0.160346</td>\n",
       "      <td>0.204302</td>\n",
       "      <td>0.172803</td>\n",
       "      <td>0.100597</td>\n",
       "      <td>0.068980</td>\n",
       "      <td>0.170771</td>\n",
       "      <td>0.171951</td>\n",
       "      <td>0.105527</td>\n",
       "      <td>0.049536</td>\n",
       "      <td>...</td>\n",
       "      <td>0.187734</td>\n",
       "      <td>0.030588</td>\n",
       "      <td>0.081380</td>\n",
       "      <td>0.160234</td>\n",
       "      <td>0.110656</td>\n",
       "      <td>0.019459</td>\n",
       "      <td>0.174127</td>\n",
       "      <td>1.000000</td>\n",
       "      <td>0.186575</td>\n",
       "      <td>0.182452</td>\n",
       "    </tr>\n",
       "    <tr>\n",
       "      <th>998</th>\n",
       "      <td>0.119356</td>\n",
       "      <td>0.132506</td>\n",
       "      <td>0.113522</td>\n",
       "      <td>0.098456</td>\n",
       "      <td>0.269456</td>\n",
       "      <td>0.218905</td>\n",
       "      <td>0.141829</td>\n",
       "      <td>0.075084</td>\n",
       "      <td>0.111210</td>\n",
       "      <td>0.052900</td>\n",
       "      <td>...</td>\n",
       "      <td>0.061241</td>\n",
       "      <td>0.074269</td>\n",
       "      <td>0.086398</td>\n",
       "      <td>0.164026</td>\n",
       "      <td>0.018659</td>\n",
       "      <td>0.075830</td>\n",
       "      <td>0.178834</td>\n",
       "      <td>0.186575</td>\n",
       "      <td>1.000000</td>\n",
       "      <td>0.107977</td>\n",
       "    </tr>\n",
       "    <tr>\n",
       "      <th>999</th>\n",
       "      <td>0.122059</td>\n",
       "      <td>0.246251</td>\n",
       "      <td>0.306104</td>\n",
       "      <td>0.245292</td>\n",
       "      <td>0.175194</td>\n",
       "      <td>0.177989</td>\n",
       "      <td>0.198117</td>\n",
       "      <td>0.331558</td>\n",
       "      <td>0.163129</td>\n",
       "      <td>0.143475</td>\n",
       "      <td>...</td>\n",
       "      <td>0.214226</td>\n",
       "      <td>0.085049</td>\n",
       "      <td>0.040198</td>\n",
       "      <td>0.165339</td>\n",
       "      <td>0.161555</td>\n",
       "      <td>0.052428</td>\n",
       "      <td>0.417330</td>\n",
       "      <td>0.182452</td>\n",
       "      <td>0.107977</td>\n",
       "      <td>1.000000</td>\n",
       "    </tr>\n",
       "  </tbody>\n",
       "</table>\n",
       "<p>6040 rows × 6040 columns</p>\n",
       "</div>"
      ],
      "text/plain": [
       "UserID         1        10       100      1000      1001      1002      1003  \\\n",
       "UserID                                                                         \n",
       "1       1.000000  0.255288  0.123967  0.207800  0.139061  0.110320  0.121384   \n",
       "10      0.255288  1.000000  0.258047  0.278753  0.154858  0.112222  0.141111   \n",
       "100     0.123967  0.258047  1.000000  0.297539  0.075597  0.110450  0.358686   \n",
       "1000    0.207800  0.278753  0.297539  1.000000  0.094710  0.047677  0.201722   \n",
       "1001    0.139061  0.154858  0.075597  0.094710  1.000000  0.164551  0.053788   \n",
       "...          ...       ...       ...       ...       ...       ...       ...   \n",
       "995     0.035731  0.145650  0.033754  0.044404  0.109499  0.072578  0.031406   \n",
       "996     0.170184  0.300175  0.344290  0.330748  0.221710  0.224779  0.185226   \n",
       "997     0.159267  0.160346  0.204302  0.172803  0.100597  0.068980  0.170771   \n",
       "998     0.119356  0.132506  0.113522  0.098456  0.269456  0.218905  0.141829   \n",
       "999     0.122059  0.246251  0.306104  0.245292  0.175194  0.177989  0.198117   \n",
       "\n",
       "UserID      1004      1005      1006  ...       990       991       992  \\\n",
       "UserID                                ...                                 \n",
       "1       0.179143  0.103137  0.052816  ...  0.079367  0.038048  0.032136   \n",
       "10      0.428224  0.188569  0.101856  ...  0.153462  0.186086  0.083224   \n",
       "100     0.236065  0.171609  0.099147  ...  0.098235  0.097953  0.065152   \n",
       "1000    0.353782  0.323584  0.130702  ...  0.170100  0.076779  0.000000   \n",
       "1001    0.149019  0.137336  0.134462  ...  0.146001  0.026842  0.096832   \n",
       "...          ...       ...       ...  ...       ...       ...       ...   \n",
       "995     0.088304  0.061001  0.032265  ...  0.080559  0.252222  0.074207   \n",
       "996     0.349899  0.285861  0.164045  ...  0.205186  0.086546  0.062523   \n",
       "997     0.171951  0.105527  0.049536  ...  0.187734  0.030588  0.081380   \n",
       "998     0.075084  0.111210  0.052900  ...  0.061241  0.074269  0.086398   \n",
       "999     0.331558  0.163129  0.143475  ...  0.214226  0.085049  0.040198   \n",
       "\n",
       "UserID       993       994       995       996       997       998       999  \n",
       "UserID                                                                        \n",
       "1       0.066641  0.070052  0.035731  0.170184  0.159267  0.119356  0.122059  \n",
       "10      0.123288  0.117829  0.145650  0.300175  0.160346  0.132506  0.246251  \n",
       "100     0.176048  0.271311  0.033754  0.344290  0.204302  0.113522  0.306104  \n",
       "1000    0.197410  0.380741  0.044404  0.330748  0.172803  0.098456  0.245292  \n",
       "1001    0.117641  0.092065  0.109499  0.221710  0.100597  0.269456  0.175194  \n",
       "...          ...       ...       ...       ...       ...       ...       ...  \n",
       "995     0.097260  0.048650  1.000000  0.063925  0.019459  0.075830  0.052428  \n",
       "996     0.183712  0.217672  0.063925  1.000000  0.174127  0.178834  0.417330  \n",
       "997     0.160234  0.110656  0.019459  0.174127  1.000000  0.186575  0.182452  \n",
       "998     0.164026  0.018659  0.075830  0.178834  0.186575  1.000000  0.107977  \n",
       "999     0.165339  0.161555  0.052428  0.417330  0.182452  0.107977  1.000000  \n",
       "\n",
       "[6040 rows x 6040 columns]"
      ]
     },
     "execution_count": 77,
     "metadata": {},
     "output_type": "execute_result"
    }
   ],
   "source": [
    "# User similarity matrix using cosine similarity\n",
    "\n",
    "user_sim = cosine_similarity(user_item)\n",
    "user_sim = pd.DataFrame(user_sim, index=user_item.index, columns=user_item.index)\n",
    "user_sim"
   ]
  },
  {
   "cell_type": "code",
   "execution_count": 78,
   "id": "1c93b518",
   "metadata": {},
   "outputs": [
    {
     "data": {
      "text/plain": [
       "(6040, 6040)"
      ]
     },
     "execution_count": 78,
     "metadata": {},
     "output_type": "execute_result"
    }
   ],
   "source": [
    "user_sim.shape"
   ]
  },
  {
   "cell_type": "markdown",
   "id": "6510dfae",
   "metadata": {},
   "source": [
    "**Query - List of 5 users similar to the user with userID - 1**"
   ]
  },
  {
   "cell_type": "code",
   "execution_count": 79,
   "id": "fe134900",
   "metadata": {},
   "outputs": [
    {
     "data": {
      "text/html": [
       "<div>\n",
       "<style scoped>\n",
       "    .dataframe tbody tr th:only-of-type {\n",
       "        vertical-align: middle;\n",
       "    }\n",
       "\n",
       "    .dataframe tbody tr th {\n",
       "        vertical-align: top;\n",
       "    }\n",
       "\n",
       "    .dataframe thead th {\n",
       "        text-align: right;\n",
       "    }\n",
       "</style>\n",
       "<table border=\"1\" class=\"dataframe\">\n",
       "  <thead>\n",
       "    <tr style=\"text-align: right;\">\n",
       "      <th></th>\n",
       "      <th>UserID</th>\n",
       "      <th>Gender</th>\n",
       "      <th>Age</th>\n",
       "      <th>Occupation</th>\n",
       "      <th>Zip-code</th>\n",
       "    </tr>\n",
       "  </thead>\n",
       "  <tbody>\n",
       "    <tr>\n",
       "      <th>0</th>\n",
       "      <td>1</td>\n",
       "      <td>F</td>\n",
       "      <td>1</td>\n",
       "      <td>10</td>\n",
       "      <td>480</td>\n",
       "    </tr>\n",
       "  </tbody>\n",
       "</table>\n",
       "</div>"
      ],
      "text/plain": [
       "  UserID Gender Age Occupation Zip-code\n",
       "0      1      F   1         10      480"
      ]
     },
     "execution_count": 79,
     "metadata": {},
     "output_type": "execute_result"
    }
   ],
   "source": [
    "users[users['UserID']=='1']"
   ]
  },
  {
   "cell_type": "code",
   "execution_count": 80,
   "id": "c65164b8",
   "metadata": {},
   "outputs": [
    {
     "name": "stdout",
     "output_type": "stream",
     "text": [
      "Here is a list of 5 users similar to the user with userID - 1\n"
     ]
    },
    {
     "data": {
      "text/plain": [
       "UserID\n",
       "5343    0.412117\n",
       "5190    0.411899\n",
       "1481    0.392110\n",
       "1283    0.386597\n",
       "5705    0.360898\n",
       "Name: 1, dtype: float64"
      ]
     },
     "execution_count": 80,
     "metadata": {},
     "output_type": "execute_result"
    }
   ],
   "source": [
    "print(\"Here is a list of 5 users similar to the user with userID - 1\")\n",
    "lt = list(pd.DataFrame(user_sim['1'].sort_values(ascending=False).iloc[1:6]).index)\n",
    "user_sim['1'].sort_values(ascending=False).iloc[1:6]"
   ]
  },
  {
   "cell_type": "code",
   "execution_count": 81,
   "id": "4f6dc781",
   "metadata": {},
   "outputs": [
    {
     "data": {
      "text/html": [
       "<div>\n",
       "<style scoped>\n",
       "    .dataframe tbody tr th:only-of-type {\n",
       "        vertical-align: middle;\n",
       "    }\n",
       "\n",
       "    .dataframe tbody tr th {\n",
       "        vertical-align: top;\n",
       "    }\n",
       "\n",
       "    .dataframe thead th {\n",
       "        text-align: right;\n",
       "    }\n",
       "</style>\n",
       "<table border=\"1\" class=\"dataframe\">\n",
       "  <thead>\n",
       "    <tr style=\"text-align: right;\">\n",
       "      <th></th>\n",
       "      <th>UserID</th>\n",
       "      <th>Gender</th>\n",
       "      <th>Age</th>\n",
       "      <th>Occupation</th>\n",
       "      <th>Zip-code</th>\n",
       "    </tr>\n",
       "  </thead>\n",
       "  <tbody>\n",
       "    <tr>\n",
       "      <th>1282</th>\n",
       "      <td>1283</td>\n",
       "      <td>F</td>\n",
       "      <td>18</td>\n",
       "      <td>1</td>\n",
       "      <td>946</td>\n",
       "    </tr>\n",
       "    <tr>\n",
       "      <th>1480</th>\n",
       "      <td>1481</td>\n",
       "      <td>M</td>\n",
       "      <td>35</td>\n",
       "      <td>17</td>\n",
       "      <td>770</td>\n",
       "    </tr>\n",
       "    <tr>\n",
       "      <th>5189</th>\n",
       "      <td>5190</td>\n",
       "      <td>F</td>\n",
       "      <td>35</td>\n",
       "      <td>0</td>\n",
       "      <td>850</td>\n",
       "    </tr>\n",
       "    <tr>\n",
       "      <th>5342</th>\n",
       "      <td>5343</td>\n",
       "      <td>F</td>\n",
       "      <td>25</td>\n",
       "      <td>9</td>\n",
       "      <td>602</td>\n",
       "    </tr>\n",
       "    <tr>\n",
       "      <th>5704</th>\n",
       "      <td>5705</td>\n",
       "      <td>F</td>\n",
       "      <td>18</td>\n",
       "      <td>4</td>\n",
       "      <td>900</td>\n",
       "    </tr>\n",
       "  </tbody>\n",
       "</table>\n",
       "</div>"
      ],
      "text/plain": [
       "     UserID Gender Age Occupation Zip-code\n",
       "1282   1283      F  18          1      946\n",
       "1480   1481      M  35         17      770\n",
       "5189   5190      F  35          0      850\n",
       "5342   5343      F  25          9      602\n",
       "5704   5705      F  18          4      900"
      ]
     },
     "execution_count": 81,
     "metadata": {},
     "output_type": "execute_result"
    }
   ],
   "source": [
    "users[users['UserID'].isin(lt)]"
   ]
  },
  {
   "cell_type": "code",
   "execution_count": 147,
   "id": "fc93fd54",
   "metadata": {},
   "outputs": [
    {
     "data": {
      "text/html": [
       "<div>\n",
       "<style scoped>\n",
       "    .dataframe tbody tr th:only-of-type {\n",
       "        vertical-align: middle;\n",
       "    }\n",
       "\n",
       "    .dataframe tbody tr th {\n",
       "        vertical-align: top;\n",
       "    }\n",
       "\n",
       "    .dataframe thead th {\n",
       "        text-align: right;\n",
       "    }\n",
       "</style>\n",
       "<table border=\"1\" class=\"dataframe\">\n",
       "  <thead>\n",
       "    <tr style=\"text-align: right;\">\n",
       "      <th></th>\n",
       "      <th>MovieID</th>\n",
       "      <th>Title</th>\n",
       "      <th>Genres</th>\n",
       "      <th>Release_year</th>\n",
       "      <th>MovieAge</th>\n",
       "      <th>action</th>\n",
       "      <th>adventure</th>\n",
       "      <th>animation</th>\n",
       "      <th>childrens</th>\n",
       "      <th>comedy</th>\n",
       "      <th>...</th>\n",
       "      <th>horror</th>\n",
       "      <th>musical</th>\n",
       "      <th>mystery</th>\n",
       "      <th>romance</th>\n",
       "      <th>sci-fi</th>\n",
       "      <th>thriller</th>\n",
       "      <th>war</th>\n",
       "      <th>western</th>\n",
       "      <th>rate_avg</th>\n",
       "      <th>rate_ct</th>\n",
       "    </tr>\n",
       "  </thead>\n",
       "  <tbody>\n",
       "    <tr>\n",
       "      <th>0</th>\n",
       "      <td>1</td>\n",
       "      <td>Toy Story (1995)</td>\n",
       "      <td>Animation|Children's|Comedy</td>\n",
       "      <td>1995</td>\n",
       "      <td>27</td>\n",
       "      <td>0</td>\n",
       "      <td>0</td>\n",
       "      <td>1</td>\n",
       "      <td>1</td>\n",
       "      <td>1</td>\n",
       "      <td>...</td>\n",
       "      <td>0</td>\n",
       "      <td>0</td>\n",
       "      <td>0</td>\n",
       "      <td>0</td>\n",
       "      <td>0</td>\n",
       "      <td>0</td>\n",
       "      <td>0</td>\n",
       "      <td>0</td>\n",
       "      <td>4.146846</td>\n",
       "      <td>2077</td>\n",
       "    </tr>\n",
       "    <tr>\n",
       "      <th>1</th>\n",
       "      <td>2</td>\n",
       "      <td>Jumanji (1995)</td>\n",
       "      <td>Adventure|Children's|Fantasy</td>\n",
       "      <td>1995</td>\n",
       "      <td>27</td>\n",
       "      <td>0</td>\n",
       "      <td>1</td>\n",
       "      <td>0</td>\n",
       "      <td>1</td>\n",
       "      <td>0</td>\n",
       "      <td>...</td>\n",
       "      <td>0</td>\n",
       "      <td>0</td>\n",
       "      <td>0</td>\n",
       "      <td>0</td>\n",
       "      <td>0</td>\n",
       "      <td>0</td>\n",
       "      <td>0</td>\n",
       "      <td>0</td>\n",
       "      <td>3.201141</td>\n",
       "      <td>701</td>\n",
       "    </tr>\n",
       "  </tbody>\n",
       "</table>\n",
       "<p>2 rows × 25 columns</p>\n",
       "</div>"
      ],
      "text/plain": [
       "  MovieID             Title                        Genres  Release_year  \\\n",
       "0       1  Toy Story (1995)   Animation|Children's|Comedy          1995   \n",
       "1       2    Jumanji (1995)  Adventure|Children's|Fantasy          1995   \n",
       "\n",
       "   MovieAge  action  adventure  animation  childrens  comedy  ...  horror  \\\n",
       "0        27       0          0          1          1       1  ...       0   \n",
       "1        27       0          1          0          1       0  ...       0   \n",
       "\n",
       "   musical  mystery  romance  sci-fi  thriller  war  western  rate_avg  \\\n",
       "0        0        0        0       0         0    0        0  4.146846   \n",
       "1        0        0        0       0         0    0        0  3.201141   \n",
       "\n",
       "   rate_ct  \n",
       "0     2077  \n",
       "1      701  \n",
       "\n",
       "[2 rows x 25 columns]"
      ]
     },
     "execution_count": 147,
     "metadata": {},
     "output_type": "execute_result"
    }
   ],
   "source": [
    "#item-based similarity matrix based on KNN and Cosine Similarity\n",
    "\n",
    "movies_df.head(2)"
   ]
  },
  {
   "cell_type": "code",
   "execution_count": 148,
   "id": "e9715be6",
   "metadata": {},
   "outputs": [
    {
     "data": {
      "text/html": [
       "<div>\n",
       "<style scoped>\n",
       "    .dataframe tbody tr th:only-of-type {\n",
       "        vertical-align: middle;\n",
       "    }\n",
       "\n",
       "    .dataframe tbody tr th {\n",
       "        vertical-align: top;\n",
       "    }\n",
       "\n",
       "    .dataframe thead th {\n",
       "        text-align: right;\n",
       "    }\n",
       "</style>\n",
       "<table border=\"1\" class=\"dataframe\">\n",
       "  <thead>\n",
       "    <tr style=\"text-align: right;\">\n",
       "      <th></th>\n",
       "      <th>MovieAge</th>\n",
       "      <th>action</th>\n",
       "      <th>adventure</th>\n",
       "      <th>animation</th>\n",
       "      <th>childrens</th>\n",
       "      <th>comedy</th>\n",
       "      <th>crime</th>\n",
       "      <th>documentary</th>\n",
       "      <th>drama</th>\n",
       "      <th>fantasy</th>\n",
       "      <th>...</th>\n",
       "      <th>horror</th>\n",
       "      <th>musical</th>\n",
       "      <th>mystery</th>\n",
       "      <th>romance</th>\n",
       "      <th>sci-fi</th>\n",
       "      <th>thriller</th>\n",
       "      <th>war</th>\n",
       "      <th>western</th>\n",
       "      <th>rate_avg</th>\n",
       "      <th>rate_ct</th>\n",
       "    </tr>\n",
       "  </thead>\n",
       "  <tbody>\n",
       "    <tr>\n",
       "      <th>0</th>\n",
       "      <td>27</td>\n",
       "      <td>0</td>\n",
       "      <td>0</td>\n",
       "      <td>1</td>\n",
       "      <td>1</td>\n",
       "      <td>1</td>\n",
       "      <td>0</td>\n",
       "      <td>0</td>\n",
       "      <td>0</td>\n",
       "      <td>0</td>\n",
       "      <td>...</td>\n",
       "      <td>0</td>\n",
       "      <td>0</td>\n",
       "      <td>0</td>\n",
       "      <td>0</td>\n",
       "      <td>0</td>\n",
       "      <td>0</td>\n",
       "      <td>0</td>\n",
       "      <td>0</td>\n",
       "      <td>4.146846</td>\n",
       "      <td>2077</td>\n",
       "    </tr>\n",
       "    <tr>\n",
       "      <th>1</th>\n",
       "      <td>27</td>\n",
       "      <td>0</td>\n",
       "      <td>1</td>\n",
       "      <td>0</td>\n",
       "      <td>1</td>\n",
       "      <td>0</td>\n",
       "      <td>0</td>\n",
       "      <td>0</td>\n",
       "      <td>0</td>\n",
       "      <td>1</td>\n",
       "      <td>...</td>\n",
       "      <td>0</td>\n",
       "      <td>0</td>\n",
       "      <td>0</td>\n",
       "      <td>0</td>\n",
       "      <td>0</td>\n",
       "      <td>0</td>\n",
       "      <td>0</td>\n",
       "      <td>0</td>\n",
       "      <td>3.201141</td>\n",
       "      <td>701</td>\n",
       "    </tr>\n",
       "  </tbody>\n",
       "</table>\n",
       "<p>2 rows × 21 columns</p>\n",
       "</div>"
      ],
      "text/plain": [
       "   MovieAge  action  adventure  animation  childrens  comedy  crime  \\\n",
       "0        27       0          0          1          1       1      0   \n",
       "1        27       0          1          0          1       0      0   \n",
       "\n",
       "   documentary  drama  fantasy  ...  horror  musical  mystery  romance  \\\n",
       "0            0      0        0  ...       0        0        0        0   \n",
       "1            0      0        1  ...       0        0        0        0   \n",
       "\n",
       "   sci-fi  thriller  war  western  rate_avg  rate_ct  \n",
       "0       0         0    0        0  4.146846     2077  \n",
       "1       0         0    0        0  3.201141      701  \n",
       "\n",
       "[2 rows x 21 columns]"
      ]
     },
     "execution_count": 148,
     "metadata": {},
     "output_type": "execute_result"
    }
   ],
   "source": [
    "movies_train = movies_df.drop(columns=['MovieID', 'Title', 'Genres', 'Release_year'])\n",
    "movies_train.head(2)"
   ]
  },
  {
   "cell_type": "code",
   "execution_count": 149,
   "id": "a5a0df9d",
   "metadata": {},
   "outputs": [
    {
     "data": {
      "text/plain": [
       "(3682, 21)"
      ]
     },
     "execution_count": 149,
     "metadata": {},
     "output_type": "execute_result"
    }
   ],
   "source": [
    "movies_train.shape"
   ]
  },
  {
   "cell_type": "code",
   "execution_count": 150,
   "id": "c882e3ff",
   "metadata": {},
   "outputs": [
    {
     "data": {
      "text/plain": [
       "array([[-0.53391391, -0.39318803, -0.28688766, ..., -0.13510075,\n",
       "         1.35278064,  4.69953471],\n",
       "       [-0.53391391, -0.39318803,  3.48568501, ..., -0.13510075,\n",
       "        -0.05554765,  1.11984014],\n",
       "       [-0.53391391, -0.39318803, -0.28688766, ..., -0.13510075,\n",
       "        -0.33016022,  0.53970069],\n",
       "       ...,\n",
       "       [-0.83486474, -0.39318803, -0.28688766, ..., -0.13510075,\n",
       "         0.63770502, -0.56334473],\n",
       "       [-0.83486474, -0.39318803, -0.28688766, ..., -0.13510075,\n",
       "         0.98518111, -0.59976604],\n",
       "       [-0.83486474, -0.39318803, -0.28688766, ..., -0.13510075,\n",
       "         0.80786084,  0.30556369]])"
      ]
     },
     "execution_count": 150,
     "metadata": {},
     "output_type": "execute_result"
    }
   ],
   "source": [
    "##scaling data\n",
    "scaler = StandardScaler()\n",
    "scaler.fit(movies_train[movies_train.columns])\n",
    "movies_cleaned = movies_train.copy()\n",
    "X = scaler.transform(movies_train[movies_train.columns])  # returns numpy.ndarray not df.\n",
    "\n",
    "X"
   ]
  },
  {
   "cell_type": "code",
   "execution_count": 151,
   "id": "b9425d24",
   "metadata": {},
   "outputs": [
    {
     "data": {
      "text/plain": [
       "(3682, 21)"
      ]
     },
     "execution_count": 151,
     "metadata": {},
     "output_type": "execute_result"
    }
   ],
   "source": [
    "X.shape"
   ]
  },
  {
   "cell_type": "code",
   "execution_count": 152,
   "id": "fdb3029b",
   "metadata": {},
   "outputs": [
    {
     "data": {
      "text/html": [
       "<div>\n",
       "<style scoped>\n",
       "    .dataframe tbody tr th:only-of-type {\n",
       "        vertical-align: middle;\n",
       "    }\n",
       "\n",
       "    .dataframe tbody tr th {\n",
       "        vertical-align: top;\n",
       "    }\n",
       "\n",
       "    .dataframe thead th {\n",
       "        text-align: right;\n",
       "    }\n",
       "</style>\n",
       "<table border=\"1\" class=\"dataframe\">\n",
       "  <thead>\n",
       "    <tr style=\"text-align: right;\">\n",
       "      <th>MovieID</th>\n",
       "      <th>1</th>\n",
       "      <th>2</th>\n",
       "      <th>3</th>\n",
       "      <th>4</th>\n",
       "      <th>5</th>\n",
       "      <th>6</th>\n",
       "      <th>7</th>\n",
       "      <th>8</th>\n",
       "      <th>9</th>\n",
       "      <th>10</th>\n",
       "      <th>...</th>\n",
       "      <th>3943</th>\n",
       "      <th>3944</th>\n",
       "      <th>3945</th>\n",
       "      <th>3946</th>\n",
       "      <th>3947</th>\n",
       "      <th>3948</th>\n",
       "      <th>3949</th>\n",
       "      <th>3950</th>\n",
       "      <th>3951</th>\n",
       "      <th>3952</th>\n",
       "    </tr>\n",
       "    <tr>\n",
       "      <th>MovieID</th>\n",
       "      <th></th>\n",
       "      <th></th>\n",
       "      <th></th>\n",
       "      <th></th>\n",
       "      <th></th>\n",
       "      <th></th>\n",
       "      <th></th>\n",
       "      <th></th>\n",
       "      <th></th>\n",
       "      <th></th>\n",
       "      <th></th>\n",
       "      <th></th>\n",
       "      <th></th>\n",
       "      <th></th>\n",
       "      <th></th>\n",
       "      <th></th>\n",
       "      <th></th>\n",
       "      <th></th>\n",
       "      <th></th>\n",
       "      <th></th>\n",
       "      <th></th>\n",
       "    </tr>\n",
       "  </thead>\n",
       "  <tbody>\n",
       "    <tr>\n",
       "      <th>1</th>\n",
       "      <td>1.000000</td>\n",
       "      <td>0.206599</td>\n",
       "      <td>0.101794</td>\n",
       "      <td>-0.088609</td>\n",
       "      <td>0.106230</td>\n",
       "      <td>0.094914</td>\n",
       "      <td>0.120728</td>\n",
       "      <td>0.208012</td>\n",
       "      <td>-0.202565</td>\n",
       "      <td>0.076562</td>\n",
       "      <td>...</td>\n",
       "      <td>-0.013932</td>\n",
       "      <td>-0.189909</td>\n",
       "      <td>0.572784</td>\n",
       "      <td>-0.237266</td>\n",
       "      <td>-0.188959</td>\n",
       "      <td>0.435081</td>\n",
       "      <td>-0.021710</td>\n",
       "      <td>-0.239761</td>\n",
       "      <td>-0.209562</td>\n",
       "      <td>-0.042877</td>\n",
       "    </tr>\n",
       "    <tr>\n",
       "      <th>2</th>\n",
       "      <td>0.206599</td>\n",
       "      <td>1.000000</td>\n",
       "      <td>-0.084843</td>\n",
       "      <td>-0.184710</td>\n",
       "      <td>-0.107904</td>\n",
       "      <td>-0.038795</td>\n",
       "      <td>-0.088067</td>\n",
       "      <td>0.534626</td>\n",
       "      <td>-0.080025</td>\n",
       "      <td>0.232783</td>\n",
       "      <td>...</td>\n",
       "      <td>-0.122053</td>\n",
       "      <td>-0.158240</td>\n",
       "      <td>0.331235</td>\n",
       "      <td>-0.122471</td>\n",
       "      <td>-0.112164</td>\n",
       "      <td>-0.013099</td>\n",
       "      <td>-0.101692</td>\n",
       "      <td>-0.147750</td>\n",
       "      <td>-0.141424</td>\n",
       "      <td>-0.100012</td>\n",
       "    </tr>\n",
       "    <tr>\n",
       "      <th>3</th>\n",
       "      <td>0.101794</td>\n",
       "      <td>-0.084843</td>\n",
       "      <td>1.000000</td>\n",
       "      <td>0.183101</td>\n",
       "      <td>0.451199</td>\n",
       "      <td>-0.139913</td>\n",
       "      <td>0.985042</td>\n",
       "      <td>-0.135685</td>\n",
       "      <td>-0.117981</td>\n",
       "      <td>-0.150532</td>\n",
       "      <td>...</td>\n",
       "      <td>0.405011</td>\n",
       "      <td>0.171313</td>\n",
       "      <td>-0.092069</td>\n",
       "      <td>-0.251443</td>\n",
       "      <td>-0.231757</td>\n",
       "      <td>0.416313</td>\n",
       "      <td>-0.257068</td>\n",
       "      <td>-0.302572</td>\n",
       "      <td>-0.301314</td>\n",
       "      <td>-0.257851</td>\n",
       "    </tr>\n",
       "    <tr>\n",
       "      <th>4</th>\n",
       "      <td>-0.088609</td>\n",
       "      <td>-0.184710</td>\n",
       "      <td>0.183101</td>\n",
       "      <td>1.000000</td>\n",
       "      <td>0.559063</td>\n",
       "      <td>-0.362684</td>\n",
       "      <td>0.130525</td>\n",
       "      <td>-0.191480</td>\n",
       "      <td>-0.142679</td>\n",
       "      <td>-0.369614</td>\n",
       "      <td>...</td>\n",
       "      <td>0.572021</td>\n",
       "      <td>0.944001</td>\n",
       "      <td>-0.078646</td>\n",
       "      <td>0.088001</td>\n",
       "      <td>-0.362420</td>\n",
       "      <td>0.283719</td>\n",
       "      <td>0.176128</td>\n",
       "      <td>0.330082</td>\n",
       "      <td>0.261922</td>\n",
       "      <td>0.018279</td>\n",
       "    </tr>\n",
       "    <tr>\n",
       "      <th>5</th>\n",
       "      <td>0.106230</td>\n",
       "      <td>-0.107904</td>\n",
       "      <td>0.451199</td>\n",
       "      <td>0.559063</td>\n",
       "      <td>1.000000</td>\n",
       "      <td>-0.205943</td>\n",
       "      <td>0.423882</td>\n",
       "      <td>-0.097538</td>\n",
       "      <td>0.017158</td>\n",
       "      <td>-0.214656</td>\n",
       "      <td>...</td>\n",
       "      <td>0.962020</td>\n",
       "      <td>0.524254</td>\n",
       "      <td>-0.067422</td>\n",
       "      <td>-0.260624</td>\n",
       "      <td>-0.166632</td>\n",
       "      <td>0.755764</td>\n",
       "      <td>-0.198856</td>\n",
       "      <td>-0.177010</td>\n",
       "      <td>-0.192284</td>\n",
       "      <td>-0.280474</td>\n",
       "    </tr>\n",
       "    <tr>\n",
       "      <th>...</th>\n",
       "      <td>...</td>\n",
       "      <td>...</td>\n",
       "      <td>...</td>\n",
       "      <td>...</td>\n",
       "      <td>...</td>\n",
       "      <td>...</td>\n",
       "      <td>...</td>\n",
       "      <td>...</td>\n",
       "      <td>...</td>\n",
       "      <td>...</td>\n",
       "      <td>...</td>\n",
       "      <td>...</td>\n",
       "      <td>...</td>\n",
       "      <td>...</td>\n",
       "      <td>...</td>\n",
       "      <td>...</td>\n",
       "      <td>...</td>\n",
       "      <td>...</td>\n",
       "      <td>...</td>\n",
       "      <td>...</td>\n",
       "      <td>...</td>\n",
       "    </tr>\n",
       "    <tr>\n",
       "      <th>3948</th>\n",
       "      <td>0.435081</td>\n",
       "      <td>-0.013099</td>\n",
       "      <td>0.416313</td>\n",
       "      <td>0.283719</td>\n",
       "      <td>0.755764</td>\n",
       "      <td>0.063513</td>\n",
       "      <td>0.447125</td>\n",
       "      <td>-0.138885</td>\n",
       "      <td>-0.141203</td>\n",
       "      <td>0.034166</td>\n",
       "      <td>...</td>\n",
       "      <td>0.624767</td>\n",
       "      <td>0.111162</td>\n",
       "      <td>-0.186856</td>\n",
       "      <td>-0.350868</td>\n",
       "      <td>-0.218645</td>\n",
       "      <td>1.000000</td>\n",
       "      <td>0.102263</td>\n",
       "      <td>-0.132474</td>\n",
       "      <td>-0.099553</td>\n",
       "      <td>-0.052123</td>\n",
       "    </tr>\n",
       "    <tr>\n",
       "      <th>3949</th>\n",
       "      <td>-0.021710</td>\n",
       "      <td>-0.101692</td>\n",
       "      <td>-0.257068</td>\n",
       "      <td>0.176128</td>\n",
       "      <td>-0.198856</td>\n",
       "      <td>-0.072609</td>\n",
       "      <td>-0.161752</td>\n",
       "      <td>-0.136008</td>\n",
       "      <td>-0.190704</td>\n",
       "      <td>-0.134487</td>\n",
       "      <td>...</td>\n",
       "      <td>-0.129560</td>\n",
       "      <td>-0.001899</td>\n",
       "      <td>-0.279432</td>\n",
       "      <td>-0.054323</td>\n",
       "      <td>-0.137685</td>\n",
       "      <td>0.102263</td>\n",
       "      <td>1.000000</td>\n",
       "      <td>0.916195</td>\n",
       "      <td>0.945574</td>\n",
       "      <td>0.471604</td>\n",
       "    </tr>\n",
       "    <tr>\n",
       "      <th>3950</th>\n",
       "      <td>-0.239761</td>\n",
       "      <td>-0.147750</td>\n",
       "      <td>-0.302572</td>\n",
       "      <td>0.330082</td>\n",
       "      <td>-0.177010</td>\n",
       "      <td>-0.219685</td>\n",
       "      <td>-0.247340</td>\n",
       "      <td>-0.100236</td>\n",
       "      <td>-0.078653</td>\n",
       "      <td>-0.265525</td>\n",
       "      <td>...</td>\n",
       "      <td>-0.039764</td>\n",
       "      <td>0.249965</td>\n",
       "      <td>-0.188428</td>\n",
       "      <td>0.078499</td>\n",
       "      <td>-0.132408</td>\n",
       "      <td>-0.132474</td>\n",
       "      <td>0.916195</td>\n",
       "      <td>1.000000</td>\n",
       "      <td>0.989114</td>\n",
       "      <td>0.415434</td>\n",
       "    </tr>\n",
       "    <tr>\n",
       "      <th>3951</th>\n",
       "      <td>-0.209562</td>\n",
       "      <td>-0.141424</td>\n",
       "      <td>-0.301314</td>\n",
       "      <td>0.261922</td>\n",
       "      <td>-0.192284</td>\n",
       "      <td>-0.186220</td>\n",
       "      <td>-0.222576</td>\n",
       "      <td>-0.102040</td>\n",
       "      <td>-0.114694</td>\n",
       "      <td>-0.241030</td>\n",
       "      <td>...</td>\n",
       "      <td>-0.053428</td>\n",
       "      <td>0.149968</td>\n",
       "      <td>-0.223758</td>\n",
       "      <td>0.023123</td>\n",
       "      <td>-0.104095</td>\n",
       "      <td>-0.099553</td>\n",
       "      <td>0.945574</td>\n",
       "      <td>0.989114</td>\n",
       "      <td>1.000000</td>\n",
       "      <td>0.425945</td>\n",
       "    </tr>\n",
       "    <tr>\n",
       "      <th>3952</th>\n",
       "      <td>-0.042877</td>\n",
       "      <td>-0.100012</td>\n",
       "      <td>-0.257851</td>\n",
       "      <td>0.018279</td>\n",
       "      <td>-0.280474</td>\n",
       "      <td>0.326783</td>\n",
       "      <td>-0.218145</td>\n",
       "      <td>-0.157792</td>\n",
       "      <td>-0.213559</td>\n",
       "      <td>0.334026</td>\n",
       "      <td>...</td>\n",
       "      <td>-0.243412</td>\n",
       "      <td>-0.048872</td>\n",
       "      <td>-0.195921</td>\n",
       "      <td>0.539217</td>\n",
       "      <td>0.608516</td>\n",
       "      <td>-0.052123</td>\n",
       "      <td>0.471604</td>\n",
       "      <td>0.415434</td>\n",
       "      <td>0.425945</td>\n",
       "      <td>1.000000</td>\n",
       "    </tr>\n",
       "  </tbody>\n",
       "</table>\n",
       "<p>3682 rows × 3682 columns</p>\n",
       "</div>"
      ],
      "text/plain": [
       "MovieID         1         2         3         4         5         6         7  \\\n",
       "MovieID                                                                         \n",
       "1        1.000000  0.206599  0.101794 -0.088609  0.106230  0.094914  0.120728   \n",
       "2        0.206599  1.000000 -0.084843 -0.184710 -0.107904 -0.038795 -0.088067   \n",
       "3        0.101794 -0.084843  1.000000  0.183101  0.451199 -0.139913  0.985042   \n",
       "4       -0.088609 -0.184710  0.183101  1.000000  0.559063 -0.362684  0.130525   \n",
       "5        0.106230 -0.107904  0.451199  0.559063  1.000000 -0.205943  0.423882   \n",
       "...           ...       ...       ...       ...       ...       ...       ...   \n",
       "3948     0.435081 -0.013099  0.416313  0.283719  0.755764  0.063513  0.447125   \n",
       "3949    -0.021710 -0.101692 -0.257068  0.176128 -0.198856 -0.072609 -0.161752   \n",
       "3950    -0.239761 -0.147750 -0.302572  0.330082 -0.177010 -0.219685 -0.247340   \n",
       "3951    -0.209562 -0.141424 -0.301314  0.261922 -0.192284 -0.186220 -0.222576   \n",
       "3952    -0.042877 -0.100012 -0.257851  0.018279 -0.280474  0.326783 -0.218145   \n",
       "\n",
       "MovieID         8         9        10  ...      3943      3944      3945  \\\n",
       "MovieID                                ...                                 \n",
       "1        0.208012 -0.202565  0.076562  ... -0.013932 -0.189909  0.572784   \n",
       "2        0.534626 -0.080025  0.232783  ... -0.122053 -0.158240  0.331235   \n",
       "3       -0.135685 -0.117981 -0.150532  ...  0.405011  0.171313 -0.092069   \n",
       "4       -0.191480 -0.142679 -0.369614  ...  0.572021  0.944001 -0.078646   \n",
       "5       -0.097538  0.017158 -0.214656  ...  0.962020  0.524254 -0.067422   \n",
       "...           ...       ...       ...  ...       ...       ...       ...   \n",
       "3948    -0.138885 -0.141203  0.034166  ...  0.624767  0.111162 -0.186856   \n",
       "3949    -0.136008 -0.190704 -0.134487  ... -0.129560 -0.001899 -0.279432   \n",
       "3950    -0.100236 -0.078653 -0.265525  ... -0.039764  0.249965 -0.188428   \n",
       "3951    -0.102040 -0.114694 -0.241030  ... -0.053428  0.149968 -0.223758   \n",
       "3952    -0.157792 -0.213559  0.334026  ... -0.243412 -0.048872 -0.195921   \n",
       "\n",
       "MovieID      3946      3947      3948      3949      3950      3951      3952  \n",
       "MovieID                                                                        \n",
       "1       -0.237266 -0.188959  0.435081 -0.021710 -0.239761 -0.209562 -0.042877  \n",
       "2       -0.122471 -0.112164 -0.013099 -0.101692 -0.147750 -0.141424 -0.100012  \n",
       "3       -0.251443 -0.231757  0.416313 -0.257068 -0.302572 -0.301314 -0.257851  \n",
       "4        0.088001 -0.362420  0.283719  0.176128  0.330082  0.261922  0.018279  \n",
       "5       -0.260624 -0.166632  0.755764 -0.198856 -0.177010 -0.192284 -0.280474  \n",
       "...           ...       ...       ...       ...       ...       ...       ...  \n",
       "3948    -0.350868 -0.218645  1.000000  0.102263 -0.132474 -0.099553 -0.052123  \n",
       "3949    -0.054323 -0.137685  0.102263  1.000000  0.916195  0.945574  0.471604  \n",
       "3950     0.078499 -0.132408 -0.132474  0.916195  1.000000  0.989114  0.415434  \n",
       "3951     0.023123 -0.104095 -0.099553  0.945574  0.989114  1.000000  0.425945  \n",
       "3952     0.539217  0.608516 -0.052123  0.471604  0.415434  0.425945  1.000000  \n",
       "\n",
       "[3682 rows x 3682 columns]"
      ]
     },
     "execution_count": 152,
     "metadata": {},
     "output_type": "execute_result"
    }
   ],
   "source": [
    "# Item similarity matrix using cosine similarity\n",
    "\n",
    "item_cosine_sim = cosine_similarity(X)\n",
    "item_cosine_sim = pd.DataFrame(item_cosine_sim, index=movies_df.MovieID, columns=movies_df.MovieID)\n",
    "item_cosine_sim"
   ]
  },
  {
   "cell_type": "code",
   "execution_count": 153,
   "id": "5d43b62d",
   "metadata": {},
   "outputs": [
    {
     "data": {
      "text/plain": [
       "(3682, 3682)"
      ]
     },
     "execution_count": 153,
     "metadata": {},
     "output_type": "execute_result"
    }
   ],
   "source": [
    "item_cosine_sim.shape"
   ]
  },
  {
   "cell_type": "markdown",
   "id": "972b530e",
   "metadata": {},
   "source": [
    "**Query - List of 5 movies to recommend to a user who has liked 'The Shawshank Redemption (1994)' MovieID - 318**"
   ]
  },
  {
   "cell_type": "code",
   "execution_count": 154,
   "id": "db1596c2",
   "metadata": {},
   "outputs": [
    {
     "data": {
      "text/html": [
       "<div>\n",
       "<style scoped>\n",
       "    .dataframe tbody tr th:only-of-type {\n",
       "        vertical-align: middle;\n",
       "    }\n",
       "\n",
       "    .dataframe tbody tr th {\n",
       "        vertical-align: top;\n",
       "    }\n",
       "\n",
       "    .dataframe thead th {\n",
       "        text-align: right;\n",
       "    }\n",
       "</style>\n",
       "<table border=\"1\" class=\"dataframe\">\n",
       "  <thead>\n",
       "    <tr style=\"text-align: right;\">\n",
       "      <th></th>\n",
       "      <th>MovieID</th>\n",
       "      <th>Title</th>\n",
       "      <th>Genres</th>\n",
       "      <th>Release_year</th>\n",
       "      <th>MovieAge</th>\n",
       "      <th>Decade</th>\n",
       "    </tr>\n",
       "  </thead>\n",
       "  <tbody>\n",
       "    <tr>\n",
       "      <th>315</th>\n",
       "      <td>318</td>\n",
       "      <td>Shawshank Redemption, The (1994)</td>\n",
       "      <td>Drama</td>\n",
       "      <td>1994</td>\n",
       "      <td>28</td>\n",
       "      <td>1990</td>\n",
       "    </tr>\n",
       "  </tbody>\n",
       "</table>\n",
       "</div>"
      ],
      "text/plain": [
       "    MovieID                             Title Genres  Release_year  MovieAge  \\\n",
       "315     318  Shawshank Redemption, The (1994)  Drama          1994        28   \n",
       "\n",
       "     Decade  \n",
       "315    1990  "
      ]
     },
     "execution_count": 154,
     "metadata": {},
     "output_type": "execute_result"
    }
   ],
   "source": [
    "movies[movies['MovieID']=='318']"
   ]
  },
  {
   "cell_type": "code",
   "execution_count": 155,
   "id": "52abf8e9",
   "metadata": {},
   "outputs": [
    {
     "name": "stdout",
     "output_type": "stream",
     "text": [
      "Here is a list of 5 movies to recommend to a user who has liked 'Shawshank Redemption, The (1994)'\n"
     ]
    },
    {
     "data": {
      "text/plain": [
       "MovieID\n",
       "1704    0.986775\n",
       "2959    0.977749\n",
       "1961    0.975023\n",
       "1225    0.971536\n",
       "1193    0.968353\n",
       "Name: 318, dtype: float64"
      ]
     },
     "execution_count": 155,
     "metadata": {},
     "output_type": "execute_result"
    }
   ],
   "source": [
    "print(\"Here is a list of 5 movies to recommend to a user who has liked 'Shawshank Redemption, The (1994)'\")\n",
    "lt = list(pd.DataFrame(item_cosine_sim['318'].sort_values(ascending=False).iloc[1:6]).index)\n",
    "item_cosine_sim['318'].sort_values(ascending=False).iloc[1:6]"
   ]
  },
  {
   "cell_type": "code",
   "execution_count": 91,
   "id": "22797f4f",
   "metadata": {},
   "outputs": [
    {
     "data": {
      "text/html": [
       "<div>\n",
       "<style scoped>\n",
       "    .dataframe tbody tr th:only-of-type {\n",
       "        vertical-align: middle;\n",
       "    }\n",
       "\n",
       "    .dataframe tbody tr th {\n",
       "        vertical-align: top;\n",
       "    }\n",
       "\n",
       "    .dataframe thead th {\n",
       "        text-align: right;\n",
       "    }\n",
       "</style>\n",
       "<table border=\"1\" class=\"dataframe\">\n",
       "  <thead>\n",
       "    <tr style=\"text-align: right;\">\n",
       "      <th></th>\n",
       "      <th>MovieID</th>\n",
       "      <th>Title</th>\n",
       "      <th>Genres</th>\n",
       "      <th>Release_year</th>\n",
       "      <th>MovieAge</th>\n",
       "    </tr>\n",
       "  </thead>\n",
       "  <tbody>\n",
       "    <tr>\n",
       "      <th>1176</th>\n",
       "      <td>1193</td>\n",
       "      <td>One Flew Over the Cuckoo's Nest (1975)</td>\n",
       "      <td>Drama</td>\n",
       "      <td>1975</td>\n",
       "      <td>47</td>\n",
       "    </tr>\n",
       "    <tr>\n",
       "      <th>1207</th>\n",
       "      <td>1225</td>\n",
       "      <td>Amadeus (1984)</td>\n",
       "      <td>Drama</td>\n",
       "      <td>1984</td>\n",
       "      <td>38</td>\n",
       "    </tr>\n",
       "    <tr>\n",
       "      <th>1656</th>\n",
       "      <td>1704</td>\n",
       "      <td>Good Will Hunting (1997)</td>\n",
       "      <td>Drama</td>\n",
       "      <td>1997</td>\n",
       "      <td>25</td>\n",
       "    </tr>\n",
       "    <tr>\n",
       "      <th>1892</th>\n",
       "      <td>1961</td>\n",
       "      <td>Rain Man (1988)</td>\n",
       "      <td>Drama</td>\n",
       "      <td>1988</td>\n",
       "      <td>34</td>\n",
       "    </tr>\n",
       "    <tr>\n",
       "      <th>2890</th>\n",
       "      <td>2959</td>\n",
       "      <td>Fight Club (1999)</td>\n",
       "      <td>Drama</td>\n",
       "      <td>1999</td>\n",
       "      <td>23</td>\n",
       "    </tr>\n",
       "  </tbody>\n",
       "</table>\n",
       "</div>"
      ],
      "text/plain": [
       "     MovieID                                   Title Genres  Release_year  \\\n",
       "1176    1193  One Flew Over the Cuckoo's Nest (1975)  Drama          1975   \n",
       "1207    1225                          Amadeus (1984)  Drama          1984   \n",
       "1656    1704                Good Will Hunting (1997)  Drama          1997   \n",
       "1892    1961                         Rain Man (1988)  Drama          1988   \n",
       "2890    2959                       Fight Club (1999)  Drama          1999   \n",
       "\n",
       "      MovieAge  \n",
       "1176        47  \n",
       "1207        38  \n",
       "1656        25  \n",
       "1892        34  \n",
       "2890        23  "
      ]
     },
     "execution_count": 91,
     "metadata": {},
     "output_type": "execute_result"
    }
   ],
   "source": [
    "movies[movies['MovieID'].isin(lt)]"
   ]
  },
  {
   "cell_type": "markdown",
   "id": "5905134b",
   "metadata": {},
   "source": [
    "# **Build a Recommender System based on Matrix Factorization**"
   ]
  },
  {
   "cell_type": "code",
   "execution_count": 92,
   "id": "2a60f668",
   "metadata": {},
   "outputs": [
    {
     "data": {
      "text/html": [
       "<div>\n",
       "<style scoped>\n",
       "    .dataframe tbody tr th:only-of-type {\n",
       "        vertical-align: middle;\n",
       "    }\n",
       "\n",
       "    .dataframe tbody tr th {\n",
       "        vertical-align: top;\n",
       "    }\n",
       "\n",
       "    .dataframe thead th {\n",
       "        text-align: right;\n",
       "    }\n",
       "</style>\n",
       "<table border=\"1\" class=\"dataframe\">\n",
       "  <thead>\n",
       "    <tr style=\"text-align: right;\">\n",
       "      <th>MovieID</th>\n",
       "      <th>1</th>\n",
       "      <th>10</th>\n",
       "      <th>100</th>\n",
       "      <th>1000</th>\n",
       "      <th>1002</th>\n",
       "      <th>1003</th>\n",
       "      <th>1004</th>\n",
       "      <th>1005</th>\n",
       "      <th>1006</th>\n",
       "      <th>1007</th>\n",
       "      <th>...</th>\n",
       "      <th>99</th>\n",
       "      <th>990</th>\n",
       "      <th>991</th>\n",
       "      <th>992</th>\n",
       "      <th>993</th>\n",
       "      <th>994</th>\n",
       "      <th>996</th>\n",
       "      <th>997</th>\n",
       "      <th>998</th>\n",
       "      <th>999</th>\n",
       "    </tr>\n",
       "    <tr>\n",
       "      <th>UserID</th>\n",
       "      <th></th>\n",
       "      <th></th>\n",
       "      <th></th>\n",
       "      <th></th>\n",
       "      <th></th>\n",
       "      <th></th>\n",
       "      <th></th>\n",
       "      <th></th>\n",
       "      <th></th>\n",
       "      <th></th>\n",
       "      <th></th>\n",
       "      <th></th>\n",
       "      <th></th>\n",
       "      <th></th>\n",
       "      <th></th>\n",
       "      <th></th>\n",
       "      <th></th>\n",
       "      <th></th>\n",
       "      <th></th>\n",
       "      <th></th>\n",
       "      <th></th>\n",
       "    </tr>\n",
       "  </thead>\n",
       "  <tbody>\n",
       "    <tr>\n",
       "      <th>1</th>\n",
       "      <td>5.0</td>\n",
       "      <td>0.0</td>\n",
       "      <td>0.0</td>\n",
       "      <td>0.0</td>\n",
       "      <td>0.0</td>\n",
       "      <td>0.0</td>\n",
       "      <td>0.0</td>\n",
       "      <td>0.0</td>\n",
       "      <td>0.0</td>\n",
       "      <td>0.0</td>\n",
       "      <td>...</td>\n",
       "      <td>0.0</td>\n",
       "      <td>0.0</td>\n",
       "      <td>0.0</td>\n",
       "      <td>0.0</td>\n",
       "      <td>0.0</td>\n",
       "      <td>0.0</td>\n",
       "      <td>0.0</td>\n",
       "      <td>0.0</td>\n",
       "      <td>0.0</td>\n",
       "      <td>0.0</td>\n",
       "    </tr>\n",
       "    <tr>\n",
       "      <th>10</th>\n",
       "      <td>5.0</td>\n",
       "      <td>0.0</td>\n",
       "      <td>0.0</td>\n",
       "      <td>0.0</td>\n",
       "      <td>0.0</td>\n",
       "      <td>0.0</td>\n",
       "      <td>0.0</td>\n",
       "      <td>0.0</td>\n",
       "      <td>0.0</td>\n",
       "      <td>0.0</td>\n",
       "      <td>...</td>\n",
       "      <td>0.0</td>\n",
       "      <td>0.0</td>\n",
       "      <td>0.0</td>\n",
       "      <td>0.0</td>\n",
       "      <td>0.0</td>\n",
       "      <td>0.0</td>\n",
       "      <td>0.0</td>\n",
       "      <td>0.0</td>\n",
       "      <td>0.0</td>\n",
       "      <td>0.0</td>\n",
       "    </tr>\n",
       "    <tr>\n",
       "      <th>100</th>\n",
       "      <td>0.0</td>\n",
       "      <td>0.0</td>\n",
       "      <td>0.0</td>\n",
       "      <td>0.0</td>\n",
       "      <td>0.0</td>\n",
       "      <td>0.0</td>\n",
       "      <td>0.0</td>\n",
       "      <td>0.0</td>\n",
       "      <td>0.0</td>\n",
       "      <td>0.0</td>\n",
       "      <td>...</td>\n",
       "      <td>0.0</td>\n",
       "      <td>0.0</td>\n",
       "      <td>0.0</td>\n",
       "      <td>0.0</td>\n",
       "      <td>0.0</td>\n",
       "      <td>0.0</td>\n",
       "      <td>0.0</td>\n",
       "      <td>0.0</td>\n",
       "      <td>0.0</td>\n",
       "      <td>0.0</td>\n",
       "    </tr>\n",
       "    <tr>\n",
       "      <th>1000</th>\n",
       "      <td>5.0</td>\n",
       "      <td>0.0</td>\n",
       "      <td>0.0</td>\n",
       "      <td>0.0</td>\n",
       "      <td>0.0</td>\n",
       "      <td>0.0</td>\n",
       "      <td>0.0</td>\n",
       "      <td>0.0</td>\n",
       "      <td>0.0</td>\n",
       "      <td>0.0</td>\n",
       "      <td>...</td>\n",
       "      <td>0.0</td>\n",
       "      <td>0.0</td>\n",
       "      <td>0.0</td>\n",
       "      <td>0.0</td>\n",
       "      <td>0.0</td>\n",
       "      <td>0.0</td>\n",
       "      <td>0.0</td>\n",
       "      <td>0.0</td>\n",
       "      <td>0.0</td>\n",
       "      <td>0.0</td>\n",
       "    </tr>\n",
       "    <tr>\n",
       "      <th>1001</th>\n",
       "      <td>4.0</td>\n",
       "      <td>0.0</td>\n",
       "      <td>0.0</td>\n",
       "      <td>0.0</td>\n",
       "      <td>0.0</td>\n",
       "      <td>0.0</td>\n",
       "      <td>0.0</td>\n",
       "      <td>0.0</td>\n",
       "      <td>0.0</td>\n",
       "      <td>0.0</td>\n",
       "      <td>...</td>\n",
       "      <td>0.0</td>\n",
       "      <td>0.0</td>\n",
       "      <td>0.0</td>\n",
       "      <td>0.0</td>\n",
       "      <td>0.0</td>\n",
       "      <td>0.0</td>\n",
       "      <td>0.0</td>\n",
       "      <td>0.0</td>\n",
       "      <td>0.0</td>\n",
       "      <td>0.0</td>\n",
       "    </tr>\n",
       "  </tbody>\n",
       "</table>\n",
       "<p>5 rows × 3706 columns</p>\n",
       "</div>"
      ],
      "text/plain": [
       "MovieID    1   10  100  1000  1002  1003  1004  1005  1006  1007  ...   99  \\\n",
       "UserID                                                            ...        \n",
       "1        5.0  0.0  0.0   0.0   0.0   0.0   0.0   0.0   0.0   0.0  ...  0.0   \n",
       "10       5.0  0.0  0.0   0.0   0.0   0.0   0.0   0.0   0.0   0.0  ...  0.0   \n",
       "100      0.0  0.0  0.0   0.0   0.0   0.0   0.0   0.0   0.0   0.0  ...  0.0   \n",
       "1000     5.0  0.0  0.0   0.0   0.0   0.0   0.0   0.0   0.0   0.0  ...  0.0   \n",
       "1001     4.0  0.0  0.0   0.0   0.0   0.0   0.0   0.0   0.0   0.0  ...  0.0   \n",
       "\n",
       "MovieID  990  991  992  993  994  996  997  998  999  \n",
       "UserID                                                \n",
       "1        0.0  0.0  0.0  0.0  0.0  0.0  0.0  0.0  0.0  \n",
       "10       0.0  0.0  0.0  0.0  0.0  0.0  0.0  0.0  0.0  \n",
       "100      0.0  0.0  0.0  0.0  0.0  0.0  0.0  0.0  0.0  \n",
       "1000     0.0  0.0  0.0  0.0  0.0  0.0  0.0  0.0  0.0  \n",
       "1001     0.0  0.0  0.0  0.0  0.0  0.0  0.0  0.0  0.0  \n",
       "\n",
       "[5 rows x 3706 columns]"
      ]
     },
     "execution_count": 92,
     "metadata": {},
     "output_type": "execute_result"
    }
   ],
   "source": [
    "rm = ratings.pivot(index = 'UserID', columns ='MovieID', values = 'Rating').fillna(0)\n",
    "rm.head()"
   ]
  },
  {
   "cell_type": "code",
   "execution_count": 93,
   "id": "bd6d5c83",
   "metadata": {},
   "outputs": [
    {
     "data": {
      "text/html": [
       "<div>\n",
       "<style scoped>\n",
       "    .dataframe tbody tr th:only-of-type {\n",
       "        vertical-align: middle;\n",
       "    }\n",
       "\n",
       "    .dataframe tbody tr th {\n",
       "        vertical-align: top;\n",
       "    }\n",
       "\n",
       "    .dataframe thead th {\n",
       "        text-align: right;\n",
       "    }\n",
       "</style>\n",
       "<table border=\"1\" class=\"dataframe\">\n",
       "  <thead>\n",
       "    <tr style=\"text-align: right;\">\n",
       "      <th></th>\n",
       "      <th>UserId</th>\n",
       "      <th>ItemId</th>\n",
       "      <th>Rating</th>\n",
       "    </tr>\n",
       "  </thead>\n",
       "  <tbody>\n",
       "    <tr>\n",
       "      <th>0</th>\n",
       "      <td>1</td>\n",
       "      <td>1193</td>\n",
       "      <td>5</td>\n",
       "    </tr>\n",
       "    <tr>\n",
       "      <th>1</th>\n",
       "      <td>1</td>\n",
       "      <td>661</td>\n",
       "      <td>3</td>\n",
       "    </tr>\n",
       "  </tbody>\n",
       "</table>\n",
       "</div>"
      ],
      "text/plain": [
       "  UserId ItemId  Rating\n",
       "0      1   1193       5\n",
       "1      1    661       3"
      ]
     },
     "execution_count": 93,
     "metadata": {},
     "output_type": "execute_result"
    }
   ],
   "source": [
    "um_mf = ratings[['UserID', 'MovieID', 'Rating']].copy()\n",
    "um_mf.columns = ['UserId', 'ItemId', 'Rating']  # Lib requires specific column names\n",
    "um_mf.head(2)"
   ]
  },
  {
   "cell_type": "code",
   "execution_count": 94,
   "id": "fbfa0cf7",
   "metadata": {},
   "outputs": [],
   "source": [
    "#Use cmfrec library to run matrix factorization. (Show results with d=4)\n",
    "\n",
    "model = CMF(method=\"als\", k=4, lambda_=0.1, user_bias=False, item_bias=False, verbose=False)"
   ]
  },
  {
   "cell_type": "code",
   "execution_count": 95,
   "id": "59d5220a",
   "metadata": {},
   "outputs": [
    {
     "data": {
      "text/plain": [
       "Collective matrix factorization model\n",
       "(explicit-feedback variant)\n"
      ]
     },
     "execution_count": 95,
     "metadata": {},
     "output_type": "execute_result"
    }
   ],
   "source": [
    "model.fit(um_mf)"
   ]
  },
  {
   "cell_type": "code",
   "execution_count": 96,
   "id": "4803d1da",
   "metadata": {},
   "outputs": [
    {
     "data": {
      "text/plain": [
       "((6040, 4), (3706, 4))"
      ]
     },
     "execution_count": 96,
     "metadata": {},
     "output_type": "execute_result"
    }
   ],
   "source": [
    "model.A_.shape, model.B_.shape"
   ]
  },
  {
   "cell_type": "code",
   "execution_count": 97,
   "id": "7ed2dc6d",
   "metadata": {},
   "outputs": [
    {
     "data": {
      "text/plain": [
       "(3.581564453029317, 3.581564426422119)"
      ]
     },
     "execution_count": 97,
     "metadata": {},
     "output_type": "execute_result"
    }
   ],
   "source": [
    "um_mf.Rating.mean(), model.glob_mean_"
   ]
  },
  {
   "cell_type": "code",
   "execution_count": 98,
   "id": "b57facd2",
   "metadata": {},
   "outputs": [
    {
     "data": {
      "text/plain": [
       "1.4183050661062944"
      ]
     },
     "execution_count": 98,
     "metadata": {},
     "output_type": "execute_result"
    }
   ],
   "source": [
    "#RMSE\n",
    "\n",
    "rm__ = np.dot(model.A_, model.B_.T) + model.glob_mean_\n",
    "mse(rm.values[rm > 0], rm__[rm > 0])**0.5"
   ]
  },
  {
   "cell_type": "code",
   "execution_count": 99,
   "id": "a8baae5c",
   "metadata": {},
   "outputs": [
    {
     "data": {
      "text/plain": [
       "0.41151258874570046"
      ]
     },
     "execution_count": 99,
     "metadata": {},
     "output_type": "execute_result"
    }
   ],
   "source": [
    "#MAPE\n",
    "\n",
    "mape(rm.values[rm > 0], rm__[rm > 0])"
   ]
  },
  {
   "cell_type": "code",
   "execution_count": 100,
   "id": "f07ce31e",
   "metadata": {},
   "outputs": [
    {
     "data": {
      "text/html": [
       "<div>\n",
       "<style scoped>\n",
       "    .dataframe tbody tr th:only-of-type {\n",
       "        vertical-align: middle;\n",
       "    }\n",
       "\n",
       "    .dataframe tbody tr th {\n",
       "        vertical-align: top;\n",
       "    }\n",
       "\n",
       "    .dataframe thead th {\n",
       "        text-align: right;\n",
       "    }\n",
       "</style>\n",
       "<table border=\"1\" class=\"dataframe\">\n",
       "  <thead>\n",
       "    <tr style=\"text-align: right;\">\n",
       "      <th></th>\n",
       "      <th>UserID</th>\n",
       "      <th>MovieID</th>\n",
       "      <th>Rating</th>\n",
       "      <th>Timestamp</th>\n",
       "      <th>Hour</th>\n",
       "    </tr>\n",
       "  </thead>\n",
       "  <tbody>\n",
       "    <tr>\n",
       "      <th>0</th>\n",
       "      <td>1</td>\n",
       "      <td>1193</td>\n",
       "      <td>5</td>\n",
       "      <td>978300760</td>\n",
       "      <td>3</td>\n",
       "    </tr>\n",
       "    <tr>\n",
       "      <th>1</th>\n",
       "      <td>1</td>\n",
       "      <td>661</td>\n",
       "      <td>3</td>\n",
       "      <td>978302109</td>\n",
       "      <td>4</td>\n",
       "    </tr>\n",
       "    <tr>\n",
       "      <th>2</th>\n",
       "      <td>1</td>\n",
       "      <td>914</td>\n",
       "      <td>3</td>\n",
       "      <td>978301968</td>\n",
       "      <td>4</td>\n",
       "    </tr>\n",
       "    <tr>\n",
       "      <th>3</th>\n",
       "      <td>1</td>\n",
       "      <td>3408</td>\n",
       "      <td>4</td>\n",
       "      <td>978300275</td>\n",
       "      <td>3</td>\n",
       "    </tr>\n",
       "    <tr>\n",
       "      <th>4</th>\n",
       "      <td>1</td>\n",
       "      <td>2355</td>\n",
       "      <td>5</td>\n",
       "      <td>978824291</td>\n",
       "      <td>5</td>\n",
       "    </tr>\n",
       "  </tbody>\n",
       "</table>\n",
       "</div>"
      ],
      "text/plain": [
       "  UserID MovieID  Rating  Timestamp  Hour\n",
       "0      1    1193       5  978300760     3\n",
       "1      1     661       3  978302109     4\n",
       "2      1     914       3  978301968     4\n",
       "3      1    3408       4  978300275     3\n",
       "4      1    2355       5  978824291     5"
      ]
     },
     "execution_count": 100,
     "metadata": {},
     "output_type": "execute_result"
    }
   ],
   "source": [
    "ratings.loc[ratings.UserID=='1'].head()"
   ]
  },
  {
   "cell_type": "code",
   "execution_count": 101,
   "id": "9d0665a5",
   "metadata": {},
   "outputs": [],
   "source": [
    "#Get d=2 embeddings, and plot the results\n",
    "\n",
    "#Use cmfrec library to run matrix factorization. (Show results with d=2)\n",
    "\n",
    "model = CMF(method=\"als\", k=2, lambda_=0.1, user_bias=False, item_bias=False, verbose=False)"
   ]
  },
  {
   "cell_type": "code",
   "execution_count": 102,
   "id": "f9a9c7da",
   "metadata": {},
   "outputs": [
    {
     "data": {
      "text/plain": [
       "Collective matrix factorization model\n",
       "(explicit-feedback variant)\n"
      ]
     },
     "execution_count": 102,
     "metadata": {},
     "output_type": "execute_result"
    }
   ],
   "source": [
    "model.fit(um_mf)"
   ]
  },
  {
   "cell_type": "code",
   "execution_count": 103,
   "id": "537640d2",
   "metadata": {},
   "outputs": [
    {
     "data": {
      "text/plain": [
       "((6040, 2), (3706, 2))"
      ]
     },
     "execution_count": 103,
     "metadata": {},
     "output_type": "execute_result"
    }
   ],
   "source": [
    "model.A_.shape, model.B_.shape"
   ]
  },
  {
   "cell_type": "code",
   "execution_count": 104,
   "id": "73865df5",
   "metadata": {},
   "outputs": [
    {
     "data": {
      "text/plain": [
       "(3.581564453029317, 3.581564426422119)"
      ]
     },
     "execution_count": 104,
     "metadata": {},
     "output_type": "execute_result"
    }
   ],
   "source": [
    "um_mf.Rating.mean(), model.glob_mean_"
   ]
  },
  {
   "cell_type": "code",
   "execution_count": 105,
   "id": "6fd5c622",
   "metadata": {},
   "outputs": [
    {
     "data": {
      "text/plain": [
       "1.3570806112486162"
      ]
     },
     "execution_count": 105,
     "metadata": {},
     "output_type": "execute_result"
    }
   ],
   "source": [
    "#RMSE\n",
    "\n",
    "rm__ = np.dot(model.A_, model.B_.T) + model.glob_mean_\n",
    "mse(rm.values[rm > 0], rm__[rm > 0])**0.5"
   ]
  },
  {
   "cell_type": "code",
   "execution_count": 106,
   "id": "cc1171d8",
   "metadata": {},
   "outputs": [
    {
     "data": {
      "text/plain": [
       "0.40771761654281075"
      ]
     },
     "execution_count": 106,
     "metadata": {},
     "output_type": "execute_result"
    }
   ],
   "source": [
    "#MAPE\n",
    "\n",
    "mape(rm.values[rm > 0], rm__[rm > 0])"
   ]
  },
  {
   "cell_type": "markdown",
   "id": "522942e4",
   "metadata": {},
   "source": [
    "# **Build a Recommender System based Pearson Correlation (Optional)**"
   ]
  },
  {
   "cell_type": "code",
   "execution_count": 184,
   "id": "bfb8d4e9",
   "metadata": {},
   "outputs": [
    {
     "data": {
      "text/html": [
       "<div>\n",
       "<style scoped>\n",
       "    .dataframe tbody tr th:only-of-type {\n",
       "        vertical-align: middle;\n",
       "    }\n",
       "\n",
       "    .dataframe tbody tr th {\n",
       "        vertical-align: top;\n",
       "    }\n",
       "\n",
       "    .dataframe thead th {\n",
       "        text-align: right;\n",
       "    }\n",
       "</style>\n",
       "<table border=\"1\" class=\"dataframe\">\n",
       "  <thead>\n",
       "    <tr style=\"text-align: right;\">\n",
       "      <th></th>\n",
       "      <th>MovieID</th>\n",
       "      <th>Title</th>\n",
       "      <th>Genres</th>\n",
       "      <th>Release_year</th>\n",
       "      <th>MovieAge</th>\n",
       "      <th>UserID</th>\n",
       "      <th>Rating</th>\n",
       "      <th>Timestamp</th>\n",
       "      <th>Hour</th>\n",
       "      <th>Gender</th>\n",
       "      <th>Age</th>\n",
       "      <th>Occupation</th>\n",
       "      <th>Zip-code</th>\n",
       "    </tr>\n",
       "  </thead>\n",
       "  <tbody>\n",
       "    <tr>\n",
       "      <th>88414</th>\n",
       "      <td>1</td>\n",
       "      <td>Toy Story (1995)</td>\n",
       "      <td>Animation|Children's|Comedy</td>\n",
       "      <td>1995</td>\n",
       "      <td>27</td>\n",
       "      <td>997</td>\n",
       "      <td>4</td>\n",
       "      <td>975205507</td>\n",
       "      <td>7</td>\n",
       "      <td>M</td>\n",
       "      <td>1</td>\n",
       "      <td>19</td>\n",
       "      <td>157</td>\n",
       "    </tr>\n",
       "    <tr>\n",
       "      <th>88415</th>\n",
       "      <td>34</td>\n",
       "      <td>Babe (1995)</td>\n",
       "      <td>Children's|Comedy|Drama</td>\n",
       "      <td>1995</td>\n",
       "      <td>27</td>\n",
       "      <td>997</td>\n",
       "      <td>4</td>\n",
       "      <td>975205697</td>\n",
       "      <td>7</td>\n",
       "      <td>M</td>\n",
       "      <td>1</td>\n",
       "      <td>19</td>\n",
       "      <td>157</td>\n",
       "    </tr>\n",
       "  </tbody>\n",
       "</table>\n",
       "</div>"
      ],
      "text/plain": [
       "      MovieID             Title                       Genres  Release_year  \\\n",
       "88414       1  Toy Story (1995)  Animation|Children's|Comedy          1995   \n",
       "88415      34       Babe (1995)      Children's|Comedy|Drama          1995   \n",
       "\n",
       "       MovieAge UserID  Rating  Timestamp  Hour Gender Age Occupation Zip-code  \n",
       "88414        27    997       4  975205507     7      M   1         19      157  \n",
       "88415        27    997       4  975205697     7      M   1         19      157  "
      ]
     },
     "execution_count": 184,
     "metadata": {},
     "output_type": "execute_result"
    }
   ],
   "source": [
    "#Ask the user to rate a few movies and create a dataframe of the user’s choices.\n",
    "df_997 = df[df['UserID'] == '997']\n",
    "df_997.head(2)"
   ]
  },
  {
   "cell_type": "code",
   "execution_count": 185,
   "id": "8318279f",
   "metadata": {},
   "outputs": [
    {
     "data": {
      "text/plain": [
       "30"
      ]
     },
     "execution_count": 185,
     "metadata": {},
     "output_type": "execute_result"
    }
   ],
   "source": [
    "df_997.shape[0]"
   ]
  },
  {
   "cell_type": "code",
   "execution_count": 218,
   "id": "04cc6dfb",
   "metadata": {},
   "outputs": [],
   "source": [
    "#Find other users who’ve watched the same movies as the new user.\n",
    "m_lt = list(df_997['MovieID'].values)"
   ]
  },
  {
   "cell_type": "code",
   "execution_count": 219,
   "id": "8b5abcc0",
   "metadata": {},
   "outputs": [],
   "source": [
    "#Sort the old users by the count of most movies in common with the new user.\n",
    "#Take the top 100 users\n",
    "u_lt = list(pd.DataFrame(df[df['MovieID'].isin(m_lt)].groupby('UserID')['MovieID'].count()).sort_values(\n",
    "    by='MovieID', ascending=False).head(100).index)"
   ]
  },
  {
   "cell_type": "code",
   "execution_count": 240,
   "id": "affa0267",
   "metadata": {},
   "outputs": [
    {
     "data": {
      "text/html": [
       "<div>\n",
       "<style scoped>\n",
       "    .dataframe tbody tr th:only-of-type {\n",
       "        vertical-align: middle;\n",
       "    }\n",
       "\n",
       "    .dataframe tbody tr th {\n",
       "        vertical-align: top;\n",
       "    }\n",
       "\n",
       "    .dataframe thead th {\n",
       "        text-align: right;\n",
       "    }\n",
       "</style>\n",
       "<table border=\"1\" class=\"dataframe\">\n",
       "  <thead>\n",
       "    <tr style=\"text-align: right;\">\n",
       "      <th></th>\n",
       "      <th>UserID</th>\n",
       "      <th>Gender</th>\n",
       "      <th>Age</th>\n",
       "      <th>Occupation</th>\n",
       "      <th>Zip-code</th>\n",
       "    </tr>\n",
       "  </thead>\n",
       "  <tbody>\n",
       "    <tr>\n",
       "      <th>47</th>\n",
       "      <td>48</td>\n",
       "      <td>M</td>\n",
       "      <td>25</td>\n",
       "      <td>4</td>\n",
       "      <td>921</td>\n",
       "    </tr>\n",
       "    <tr>\n",
       "      <th>194</th>\n",
       "      <td>195</td>\n",
       "      <td>M</td>\n",
       "      <td>25</td>\n",
       "      <td>12</td>\n",
       "      <td>104</td>\n",
       "    </tr>\n",
       "    <tr>\n",
       "      <th>300</th>\n",
       "      <td>301</td>\n",
       "      <td>M</td>\n",
       "      <td>18</td>\n",
       "      <td>4</td>\n",
       "      <td>618</td>\n",
       "    </tr>\n",
       "    <tr>\n",
       "      <th>301</th>\n",
       "      <td>302</td>\n",
       "      <td>M</td>\n",
       "      <td>18</td>\n",
       "      <td>4</td>\n",
       "      <td>049</td>\n",
       "    </tr>\n",
       "    <tr>\n",
       "      <th>307</th>\n",
       "      <td>308</td>\n",
       "      <td>M</td>\n",
       "      <td>25</td>\n",
       "      <td>2</td>\n",
       "      <td>100</td>\n",
       "    </tr>\n",
       "  </tbody>\n",
       "</table>\n",
       "</div>"
      ],
      "text/plain": [
       "    UserID Gender Age Occupation Zip-code\n",
       "47      48      M  25          4      921\n",
       "194    195      M  25         12      104\n",
       "300    301      M  18          4      618\n",
       "301    302      M  18          4      049\n",
       "307    308      M  25          2      100"
      ]
     },
     "execution_count": 240,
     "metadata": {},
     "output_type": "execute_result"
    }
   ],
   "source": [
    "#calculate a Similarity Score for each user using the Pearson Correlation function.\n",
    "user_train = users[users['UserID'].isin(u_lt)]\n",
    "user_train.head()"
   ]
  },
  {
   "cell_type": "code",
   "execution_count": 241,
   "id": "533fd0bc",
   "metadata": {},
   "outputs": [
    {
     "name": "stderr",
     "output_type": "stream",
     "text": [
      "/tmp/ipykernel_195599/3818497058.py:4: SettingWithCopyWarning: \n",
      "A value is trying to be set on a copy of a slice from a DataFrame.\n",
      "Try using .loc[row_indexer,col_indexer] = value instead\n",
      "\n",
      "See the caveats in the documentation: https://pandas.pydata.org/pandas-docs/stable/user_guide/indexing.html#returning-a-view-versus-a-copy\n",
      "  user_train['Gender'] = le.fit_transform(user_train['Gender'])\n"
     ]
    }
   ],
   "source": [
    "#label encode features\n",
    "\n",
    "le = LabelEncoder()\n",
    "user_train['Gender'] = le.fit_transform(user_train['Gender'])"
   ]
  },
  {
   "cell_type": "code",
   "execution_count": 242,
   "id": "e2f48b41",
   "metadata": {},
   "outputs": [
    {
     "name": "stderr",
     "output_type": "stream",
     "text": [
      "/tmp/ipykernel_195599/3605105142.py:1: SettingWithCopyWarning: \n",
      "A value is trying to be set on a copy of a slice from a DataFrame.\n",
      "Try using .loc[row_indexer,col_indexer] = value instead\n",
      "\n",
      "See the caveats in the documentation: https://pandas.pydata.org/pandas-docs/stable/user_guide/indexing.html#returning-a-view-versus-a-copy\n",
      "  user_train['Age'] = user_train['Age'].map(\n"
     ]
    }
   ],
   "source": [
    "user_train['Age'] = user_train['Age'].map(\n",
    "{'1':15, '18':21, '25':30, '35':40, '45':47, '50':52, '56':60})"
   ]
  },
  {
   "cell_type": "code",
   "execution_count": 244,
   "id": "5a47ed9b",
   "metadata": {},
   "outputs": [
    {
     "data": {
      "text/html": [
       "<div>\n",
       "<style scoped>\n",
       "    .dataframe tbody tr th:only-of-type {\n",
       "        vertical-align: middle;\n",
       "    }\n",
       "\n",
       "    .dataframe tbody tr th {\n",
       "        vertical-align: top;\n",
       "    }\n",
       "\n",
       "    .dataframe thead th {\n",
       "        text-align: right;\n",
       "    }\n",
       "</style>\n",
       "<table border=\"1\" class=\"dataframe\">\n",
       "  <thead>\n",
       "    <tr style=\"text-align: right;\">\n",
       "      <th></th>\n",
       "      <th>Gender</th>\n",
       "      <th>Age</th>\n",
       "    </tr>\n",
       "  </thead>\n",
       "  <tbody>\n",
       "    <tr>\n",
       "      <th>47</th>\n",
       "      <td>1</td>\n",
       "      <td>30</td>\n",
       "    </tr>\n",
       "    <tr>\n",
       "      <th>194</th>\n",
       "      <td>1</td>\n",
       "      <td>30</td>\n",
       "    </tr>\n",
       "    <tr>\n",
       "      <th>300</th>\n",
       "      <td>1</td>\n",
       "      <td>21</td>\n",
       "    </tr>\n",
       "    <tr>\n",
       "      <th>301</th>\n",
       "      <td>1</td>\n",
       "      <td>21</td>\n",
       "    </tr>\n",
       "    <tr>\n",
       "      <th>307</th>\n",
       "      <td>1</td>\n",
       "      <td>30</td>\n",
       "    </tr>\n",
       "  </tbody>\n",
       "</table>\n",
       "</div>"
      ],
      "text/plain": [
       "     Gender  Age\n",
       "47        1   30\n",
       "194       1   30\n",
       "300       1   21\n",
       "301       1   21\n",
       "307       1   30"
      ]
     },
     "execution_count": 244,
     "metadata": {},
     "output_type": "execute_result"
    }
   ],
   "source": [
    "X_user = user_train.drop(columns=['UserID', 'Occupation', 'Zip-code'])\n",
    "X_user.head()"
   ]
  },
  {
   "cell_type": "code",
   "execution_count": 248,
   "id": "efb695e9",
   "metadata": {},
   "outputs": [
    {
     "data": {
      "text/plain": [
       "array([[ 0.531085  ,  0.08834502],\n",
       "       [ 0.531085  ,  0.08834502],\n",
       "       [ 0.531085  , -0.93102062],\n",
       "       [ 0.531085  , -0.93102062],\n",
       "       [ 0.531085  ,  0.08834502]])"
      ]
     },
     "execution_count": 248,
     "metadata": {},
     "output_type": "execute_result"
    }
   ],
   "source": [
    "##scaling data\n",
    "scaler = StandardScaler()\n",
    "scaler.fit(X_user[X_user.columns])\n",
    "users_cleaned = X_user.copy()\n",
    "X_u = scaler.transform(X_user[X_user.columns])  # returns numpy.ndarray not df.\n",
    "\n",
    "X_u[:5]"
   ]
  },
  {
   "cell_type": "code",
   "execution_count": 249,
   "id": "b4633533",
   "metadata": {},
   "outputs": [
    {
     "data": {
      "text/plain": [
       "(100, 2)"
      ]
     },
     "execution_count": 249,
     "metadata": {},
     "output_type": "execute_result"
    }
   ],
   "source": [
    "X_u.shape"
   ]
  },
  {
   "cell_type": "code",
   "execution_count": 258,
   "id": "c0b94a6e",
   "metadata": {},
   "outputs": [
    {
     "data": {
      "text/html": [
       "<div>\n",
       "<style scoped>\n",
       "    .dataframe tbody tr th:only-of-type {\n",
       "        vertical-align: middle;\n",
       "    }\n",
       "\n",
       "    .dataframe tbody tr th {\n",
       "        vertical-align: top;\n",
       "    }\n",
       "\n",
       "    .dataframe thead th {\n",
       "        text-align: right;\n",
       "    }\n",
       "</style>\n",
       "<table border=\"1\" class=\"dataframe\">\n",
       "  <thead>\n",
       "    <tr style=\"text-align: right;\">\n",
       "      <th>UserID</th>\n",
       "      <th>48</th>\n",
       "      <th>195</th>\n",
       "      <th>301</th>\n",
       "      <th>302</th>\n",
       "      <th>308</th>\n",
       "      <th>355</th>\n",
       "      <th>424</th>\n",
       "      <th>528</th>\n",
       "      <th>531</th>\n",
       "      <th>549</th>\n",
       "      <th>...</th>\n",
       "      <th>5333</th>\n",
       "      <th>5367</th>\n",
       "      <th>5555</th>\n",
       "      <th>5605</th>\n",
       "      <th>5682</th>\n",
       "      <th>5689</th>\n",
       "      <th>5795</th>\n",
       "      <th>5812</th>\n",
       "      <th>5831</th>\n",
       "      <th>5878</th>\n",
       "    </tr>\n",
       "    <tr>\n",
       "      <th>UserID</th>\n",
       "      <th></th>\n",
       "      <th></th>\n",
       "      <th></th>\n",
       "      <th></th>\n",
       "      <th></th>\n",
       "      <th></th>\n",
       "      <th></th>\n",
       "      <th></th>\n",
       "      <th></th>\n",
       "      <th></th>\n",
       "      <th></th>\n",
       "      <th></th>\n",
       "      <th></th>\n",
       "      <th></th>\n",
       "      <th></th>\n",
       "      <th></th>\n",
       "      <th></th>\n",
       "      <th></th>\n",
       "      <th></th>\n",
       "      <th></th>\n",
       "      <th></th>\n",
       "    </tr>\n",
       "  </thead>\n",
       "  <tbody>\n",
       "    <tr>\n",
       "      <th>48</th>\n",
       "      <td>1.000000</td>\n",
       "      <td>1.000000</td>\n",
       "      <td>0.346237</td>\n",
       "      <td>0.346237</td>\n",
       "      <td>1.000000</td>\n",
       "      <td>0.346237</td>\n",
       "      <td>1.000000</td>\n",
       "      <td>-0.956988</td>\n",
       "      <td>-0.956988</td>\n",
       "      <td>1.000000</td>\n",
       "      <td>...</td>\n",
       "      <td>-0.977670</td>\n",
       "      <td>0.346237</td>\n",
       "      <td>0.153074</td>\n",
       "      <td>-0.956988</td>\n",
       "      <td>0.346237</td>\n",
       "      <td>1.000000</td>\n",
       "      <td>1.000000</td>\n",
       "      <td>-0.977670</td>\n",
       "      <td>1.000000</td>\n",
       "      <td>-0.977670</td>\n",
       "    </tr>\n",
       "    <tr>\n",
       "      <th>195</th>\n",
       "      <td>1.000000</td>\n",
       "      <td>1.000000</td>\n",
       "      <td>0.346237</td>\n",
       "      <td>0.346237</td>\n",
       "      <td>1.000000</td>\n",
       "      <td>0.346237</td>\n",
       "      <td>1.000000</td>\n",
       "      <td>-0.956988</td>\n",
       "      <td>-0.956988</td>\n",
       "      <td>1.000000</td>\n",
       "      <td>...</td>\n",
       "      <td>-0.977670</td>\n",
       "      <td>0.346237</td>\n",
       "      <td>0.153074</td>\n",
       "      <td>-0.956988</td>\n",
       "      <td>0.346237</td>\n",
       "      <td>1.000000</td>\n",
       "      <td>1.000000</td>\n",
       "      <td>-0.977670</td>\n",
       "      <td>1.000000</td>\n",
       "      <td>-0.977670</td>\n",
       "    </tr>\n",
       "    <tr>\n",
       "      <th>301</th>\n",
       "      <td>0.346237</td>\n",
       "      <td>0.346237</td>\n",
       "      <td>1.000000</td>\n",
       "      <td>1.000000</td>\n",
       "      <td>0.346237</td>\n",
       "      <td>1.000000</td>\n",
       "      <td>0.346237</td>\n",
       "      <td>-0.059162</td>\n",
       "      <td>-0.059162</td>\n",
       "      <td>0.346237</td>\n",
       "      <td>...</td>\n",
       "      <td>-0.535652</td>\n",
       "      <td>1.000000</td>\n",
       "      <td>0.980091</td>\n",
       "      <td>-0.059162</td>\n",
       "      <td>1.000000</td>\n",
       "      <td>0.346237</td>\n",
       "      <td>0.346237</td>\n",
       "      <td>-0.535652</td>\n",
       "      <td>0.346237</td>\n",
       "      <td>-0.535652</td>\n",
       "    </tr>\n",
       "    <tr>\n",
       "      <th>302</th>\n",
       "      <td>0.346237</td>\n",
       "      <td>0.346237</td>\n",
       "      <td>1.000000</td>\n",
       "      <td>1.000000</td>\n",
       "      <td>0.346237</td>\n",
       "      <td>1.000000</td>\n",
       "      <td>0.346237</td>\n",
       "      <td>-0.059162</td>\n",
       "      <td>-0.059162</td>\n",
       "      <td>0.346237</td>\n",
       "      <td>...</td>\n",
       "      <td>-0.535652</td>\n",
       "      <td>1.000000</td>\n",
       "      <td>0.980091</td>\n",
       "      <td>-0.059162</td>\n",
       "      <td>1.000000</td>\n",
       "      <td>0.346237</td>\n",
       "      <td>0.346237</td>\n",
       "      <td>-0.535652</td>\n",
       "      <td>0.346237</td>\n",
       "      <td>-0.535652</td>\n",
       "    </tr>\n",
       "    <tr>\n",
       "      <th>308</th>\n",
       "      <td>1.000000</td>\n",
       "      <td>1.000000</td>\n",
       "      <td>0.346237</td>\n",
       "      <td>0.346237</td>\n",
       "      <td>1.000000</td>\n",
       "      <td>0.346237</td>\n",
       "      <td>1.000000</td>\n",
       "      <td>-0.956988</td>\n",
       "      <td>-0.956988</td>\n",
       "      <td>1.000000</td>\n",
       "      <td>...</td>\n",
       "      <td>-0.977670</td>\n",
       "      <td>0.346237</td>\n",
       "      <td>0.153074</td>\n",
       "      <td>-0.956988</td>\n",
       "      <td>0.346237</td>\n",
       "      <td>1.000000</td>\n",
       "      <td>1.000000</td>\n",
       "      <td>-0.977670</td>\n",
       "      <td>1.000000</td>\n",
       "      <td>-0.977670</td>\n",
       "    </tr>\n",
       "    <tr>\n",
       "      <th>...</th>\n",
       "      <td>...</td>\n",
       "      <td>...</td>\n",
       "      <td>...</td>\n",
       "      <td>...</td>\n",
       "      <td>...</td>\n",
       "      <td>...</td>\n",
       "      <td>...</td>\n",
       "      <td>...</td>\n",
       "      <td>...</td>\n",
       "      <td>...</td>\n",
       "      <td>...</td>\n",
       "      <td>...</td>\n",
       "      <td>...</td>\n",
       "      <td>...</td>\n",
       "      <td>...</td>\n",
       "      <td>...</td>\n",
       "      <td>...</td>\n",
       "      <td>...</td>\n",
       "      <td>...</td>\n",
       "      <td>...</td>\n",
       "      <td>...</td>\n",
       "    </tr>\n",
       "    <tr>\n",
       "      <th>5689</th>\n",
       "      <td>1.000000</td>\n",
       "      <td>1.000000</td>\n",
       "      <td>0.346237</td>\n",
       "      <td>0.346237</td>\n",
       "      <td>1.000000</td>\n",
       "      <td>0.346237</td>\n",
       "      <td>1.000000</td>\n",
       "      <td>-0.956988</td>\n",
       "      <td>-0.956988</td>\n",
       "      <td>1.000000</td>\n",
       "      <td>...</td>\n",
       "      <td>-0.977670</td>\n",
       "      <td>0.346237</td>\n",
       "      <td>0.153074</td>\n",
       "      <td>-0.956988</td>\n",
       "      <td>0.346237</td>\n",
       "      <td>1.000000</td>\n",
       "      <td>1.000000</td>\n",
       "      <td>-0.977670</td>\n",
       "      <td>1.000000</td>\n",
       "      <td>-0.977670</td>\n",
       "    </tr>\n",
       "    <tr>\n",
       "      <th>5795</th>\n",
       "      <td>1.000000</td>\n",
       "      <td>1.000000</td>\n",
       "      <td>0.346237</td>\n",
       "      <td>0.346237</td>\n",
       "      <td>1.000000</td>\n",
       "      <td>0.346237</td>\n",
       "      <td>1.000000</td>\n",
       "      <td>-0.956988</td>\n",
       "      <td>-0.956988</td>\n",
       "      <td>1.000000</td>\n",
       "      <td>...</td>\n",
       "      <td>-0.977670</td>\n",
       "      <td>0.346237</td>\n",
       "      <td>0.153074</td>\n",
       "      <td>-0.956988</td>\n",
       "      <td>0.346237</td>\n",
       "      <td>1.000000</td>\n",
       "      <td>1.000000</td>\n",
       "      <td>-0.977670</td>\n",
       "      <td>1.000000</td>\n",
       "      <td>-0.977670</td>\n",
       "    </tr>\n",
       "    <tr>\n",
       "      <th>5812</th>\n",
       "      <td>-0.977670</td>\n",
       "      <td>-0.977670</td>\n",
       "      <td>-0.535652</td>\n",
       "      <td>-0.535652</td>\n",
       "      <td>-0.977670</td>\n",
       "      <td>-0.535652</td>\n",
       "      <td>-0.977670</td>\n",
       "      <td>0.874650</td>\n",
       "      <td>0.874650</td>\n",
       "      <td>-0.977670</td>\n",
       "      <td>...</td>\n",
       "      <td>1.000000</td>\n",
       "      <td>-0.535652</td>\n",
       "      <td>-0.357324</td>\n",
       "      <td>0.874650</td>\n",
       "      <td>-0.535652</td>\n",
       "      <td>-0.977670</td>\n",
       "      <td>-0.977670</td>\n",
       "      <td>1.000000</td>\n",
       "      <td>-0.977670</td>\n",
       "      <td>1.000000</td>\n",
       "    </tr>\n",
       "    <tr>\n",
       "      <th>5831</th>\n",
       "      <td>1.000000</td>\n",
       "      <td>1.000000</td>\n",
       "      <td>0.346237</td>\n",
       "      <td>0.346237</td>\n",
       "      <td>1.000000</td>\n",
       "      <td>0.346237</td>\n",
       "      <td>1.000000</td>\n",
       "      <td>-0.956988</td>\n",
       "      <td>-0.956988</td>\n",
       "      <td>1.000000</td>\n",
       "      <td>...</td>\n",
       "      <td>-0.977670</td>\n",
       "      <td>0.346237</td>\n",
       "      <td>0.153074</td>\n",
       "      <td>-0.956988</td>\n",
       "      <td>0.346237</td>\n",
       "      <td>1.000000</td>\n",
       "      <td>1.000000</td>\n",
       "      <td>-0.977670</td>\n",
       "      <td>1.000000</td>\n",
       "      <td>-0.977670</td>\n",
       "    </tr>\n",
       "    <tr>\n",
       "      <th>5878</th>\n",
       "      <td>-0.977670</td>\n",
       "      <td>-0.977670</td>\n",
       "      <td>-0.535652</td>\n",
       "      <td>-0.535652</td>\n",
       "      <td>-0.977670</td>\n",
       "      <td>-0.535652</td>\n",
       "      <td>-0.977670</td>\n",
       "      <td>0.874650</td>\n",
       "      <td>0.874650</td>\n",
       "      <td>-0.977670</td>\n",
       "      <td>...</td>\n",
       "      <td>1.000000</td>\n",
       "      <td>-0.535652</td>\n",
       "      <td>-0.357324</td>\n",
       "      <td>0.874650</td>\n",
       "      <td>-0.535652</td>\n",
       "      <td>-0.977670</td>\n",
       "      <td>-0.977670</td>\n",
       "      <td>1.000000</td>\n",
       "      <td>-0.977670</td>\n",
       "      <td>1.000000</td>\n",
       "    </tr>\n",
       "  </tbody>\n",
       "</table>\n",
       "<p>100 rows × 100 columns</p>\n",
       "</div>"
      ],
      "text/plain": [
       "UserID        48       195       301       302       308       355       424  \\\n",
       "UserID                                                                         \n",
       "48      1.000000  1.000000  0.346237  0.346237  1.000000  0.346237  1.000000   \n",
       "195     1.000000  1.000000  0.346237  0.346237  1.000000  0.346237  1.000000   \n",
       "301     0.346237  0.346237  1.000000  1.000000  0.346237  1.000000  0.346237   \n",
       "302     0.346237  0.346237  1.000000  1.000000  0.346237  1.000000  0.346237   \n",
       "308     1.000000  1.000000  0.346237  0.346237  1.000000  0.346237  1.000000   \n",
       "...          ...       ...       ...       ...       ...       ...       ...   \n",
       "5689    1.000000  1.000000  0.346237  0.346237  1.000000  0.346237  1.000000   \n",
       "5795    1.000000  1.000000  0.346237  0.346237  1.000000  0.346237  1.000000   \n",
       "5812   -0.977670 -0.977670 -0.535652 -0.535652 -0.977670 -0.535652 -0.977670   \n",
       "5831    1.000000  1.000000  0.346237  0.346237  1.000000  0.346237  1.000000   \n",
       "5878   -0.977670 -0.977670 -0.535652 -0.535652 -0.977670 -0.535652 -0.977670   \n",
       "\n",
       "UserID       528       531       549  ...      5333      5367      5555  \\\n",
       "UserID                                ...                                 \n",
       "48     -0.956988 -0.956988  1.000000  ... -0.977670  0.346237  0.153074   \n",
       "195    -0.956988 -0.956988  1.000000  ... -0.977670  0.346237  0.153074   \n",
       "301    -0.059162 -0.059162  0.346237  ... -0.535652  1.000000  0.980091   \n",
       "302    -0.059162 -0.059162  0.346237  ... -0.535652  1.000000  0.980091   \n",
       "308    -0.956988 -0.956988  1.000000  ... -0.977670  0.346237  0.153074   \n",
       "...          ...       ...       ...  ...       ...       ...       ...   \n",
       "5689   -0.956988 -0.956988  1.000000  ... -0.977670  0.346237  0.153074   \n",
       "5795   -0.956988 -0.956988  1.000000  ... -0.977670  0.346237  0.153074   \n",
       "5812    0.874650  0.874650 -0.977670  ...  1.000000 -0.535652 -0.357324   \n",
       "5831   -0.956988 -0.956988  1.000000  ... -0.977670  0.346237  0.153074   \n",
       "5878    0.874650  0.874650 -0.977670  ...  1.000000 -0.535652 -0.357324   \n",
       "\n",
       "UserID      5605      5682      5689      5795      5812      5831      5878  \n",
       "UserID                                                                        \n",
       "48     -0.956988  0.346237  1.000000  1.000000 -0.977670  1.000000 -0.977670  \n",
       "195    -0.956988  0.346237  1.000000  1.000000 -0.977670  1.000000 -0.977670  \n",
       "301    -0.059162  1.000000  0.346237  0.346237 -0.535652  0.346237 -0.535652  \n",
       "302    -0.059162  1.000000  0.346237  0.346237 -0.535652  0.346237 -0.535652  \n",
       "308    -0.956988  0.346237  1.000000  1.000000 -0.977670  1.000000 -0.977670  \n",
       "...          ...       ...       ...       ...       ...       ...       ...  \n",
       "5689   -0.956988  0.346237  1.000000  1.000000 -0.977670  1.000000 -0.977670  \n",
       "5795   -0.956988  0.346237  1.000000  1.000000 -0.977670  1.000000 -0.977670  \n",
       "5812    0.874650 -0.535652 -0.977670 -0.977670  1.000000 -0.977670  1.000000  \n",
       "5831   -0.956988  0.346237  1.000000  1.000000 -0.977670  1.000000 -0.977670  \n",
       "5878    0.874650 -0.535652 -0.977670 -0.977670  1.000000 -0.977670  1.000000  \n",
       "\n",
       "[100 rows x 100 columns]"
      ]
     },
     "execution_count": 258,
     "metadata": {},
     "output_type": "execute_result"
    }
   ],
   "source": [
    "# User similarity matrix using cosine similarity\n",
    "\n",
    "user_cosine_sim = cosine_similarity(X_u)\n",
    "user_cosine_sim = pd.DataFrame(user_cosine_sim, index=user_train.UserID, columns=user_train.UserID)\n",
    "user_cosine_sim"
   ]
  },
  {
   "cell_type": "code",
   "execution_count": 275,
   "id": "896062f2",
   "metadata": {},
   "outputs": [
    {
     "data": {
      "text/html": [
       "<div>\n",
       "<style scoped>\n",
       "    .dataframe tbody tr th:only-of-type {\n",
       "        vertical-align: middle;\n",
       "    }\n",
       "\n",
       "    .dataframe tbody tr th {\n",
       "        vertical-align: top;\n",
       "    }\n",
       "\n",
       "    .dataframe thead th {\n",
       "        text-align: right;\n",
       "    }\n",
       "</style>\n",
       "<table border=\"1\" class=\"dataframe\">\n",
       "  <thead>\n",
       "    <tr style=\"text-align: right;\">\n",
       "      <th></th>\n",
       "      <th>sim_score</th>\n",
       "    </tr>\n",
       "    <tr>\n",
       "      <th>UserID</th>\n",
       "      <th></th>\n",
       "    </tr>\n",
       "  </thead>\n",
       "  <tbody>\n",
       "    <tr>\n",
       "      <th>5555</th>\n",
       "      <td>1.000000</td>\n",
       "    </tr>\n",
       "    <tr>\n",
       "      <th>997</th>\n",
       "      <td>1.000000</td>\n",
       "    </tr>\n",
       "    <tr>\n",
       "      <th>881</th>\n",
       "      <td>0.980091</td>\n",
       "    </tr>\n",
       "    <tr>\n",
       "      <th>1112</th>\n",
       "      <td>0.980091</td>\n",
       "    </tr>\n",
       "    <tr>\n",
       "      <th>3729</th>\n",
       "      <td>0.980091</td>\n",
       "    </tr>\n",
       "    <tr>\n",
       "      <th>1246</th>\n",
       "      <td>0.980091</td>\n",
       "    </tr>\n",
       "    <tr>\n",
       "      <th>3471</th>\n",
       "      <td>0.980091</td>\n",
       "    </tr>\n",
       "    <tr>\n",
       "      <th>1447</th>\n",
       "      <td>0.980091</td>\n",
       "    </tr>\n",
       "    <tr>\n",
       "      <th>3391</th>\n",
       "      <td>0.980091</td>\n",
       "    </tr>\n",
       "    <tr>\n",
       "      <th>2010</th>\n",
       "      <td>0.980091</td>\n",
       "    </tr>\n",
       "  </tbody>\n",
       "</table>\n",
       "</div>"
      ],
      "text/plain": [
       "        sim_score\n",
       "UserID           \n",
       "5555     1.000000\n",
       "997      1.000000\n",
       "881      0.980091\n",
       "1112     0.980091\n",
       "3729     0.980091\n",
       "1246     0.980091\n",
       "3471     0.980091\n",
       "1447     0.980091\n",
       "3391     0.980091\n",
       "2010     0.980091"
      ]
     },
     "execution_count": 275,
     "metadata": {},
     "output_type": "execute_result"
    }
   ],
   "source": [
    "#Get the top 10 users with the highest similarity indices, all the movies for these users, \n",
    "#and add Weighted movie Ratings by Multiplying the Rating to the Similarity Index.\n",
    "df_sim = pd.DataFrame(user_cosine_sim['997']).sort_values(by='997', ascending=False).head(10)\n",
    "df_sim.rename({'997':'sim_score'}, axis=1)"
   ]
  },
  {
   "cell_type": "code",
   "execution_count": 284,
   "id": "c832ec32",
   "metadata": {},
   "outputs": [
    {
     "data": {
      "text/html": [
       "<div>\n",
       "<style scoped>\n",
       "    .dataframe tbody tr th:only-of-type {\n",
       "        vertical-align: middle;\n",
       "    }\n",
       "\n",
       "    .dataframe tbody tr th {\n",
       "        vertical-align: top;\n",
       "    }\n",
       "\n",
       "    .dataframe thead th {\n",
       "        text-align: right;\n",
       "    }\n",
       "</style>\n",
       "<table border=\"1\" class=\"dataframe\">\n",
       "  <thead>\n",
       "    <tr style=\"text-align: right;\">\n",
       "      <th></th>\n",
       "      <th>Movie</th>\n",
       "      <th>score</th>\n",
       "    </tr>\n",
       "  </thead>\n",
       "  <tbody>\n",
       "    <tr>\n",
       "      <th>88427</th>\n",
       "      <td>Princess Bride, The (1987)</td>\n",
       "      <td>4.900455</td>\n",
       "    </tr>\n",
       "    <tr>\n",
       "      <th>88417</th>\n",
       "      <td>Shawshank Redemption, The (1994)</td>\n",
       "      <td>4.900455</td>\n",
       "    </tr>\n",
       "    <tr>\n",
       "      <th>88418</th>\n",
       "      <td>Forrest Gump (1994)</td>\n",
       "      <td>4.900455</td>\n",
       "    </tr>\n",
       "    <tr>\n",
       "      <th>88436</th>\n",
       "      <td>Matrix, The (1999)</td>\n",
       "      <td>4.900455</td>\n",
       "    </tr>\n",
       "    <tr>\n",
       "      <th>88431</th>\n",
       "      <td>Saving Private Ryan (1998)</td>\n",
       "      <td>4.900455</td>\n",
       "    </tr>\n",
       "  </tbody>\n",
       "</table>\n",
       "</div>"
      ],
      "text/plain": [
       "                                  Movie     score\n",
       "88427        Princess Bride, The (1987)  4.900455\n",
       "88417  Shawshank Redemption, The (1994)  4.900455\n",
       "88418               Forrest Gump (1994)  4.900455\n",
       "88436                Matrix, The (1999)  4.900455\n",
       "88431        Saving Private Ryan (1998)  4.900455"
      ]
     },
     "execution_count": 284,
     "metadata": {},
     "output_type": "execute_result"
    }
   ],
   "source": [
    "#top 5 recommended movies for user 881\n",
    "df_881 = pd.DataFrame()\n",
    "df_881['Movie'] = df_997['Title']\n",
    "df_881['score'] = df_997['Rating']*0.980091\n",
    "df_881.sort_values(by='score', ascending=False).head()"
   ]
  },
  {
   "cell_type": "markdown",
   "id": "5705a75c",
   "metadata": {},
   "source": [
    "# **Questionnaire**"
   ]
  },
  {
   "cell_type": "code",
   "execution_count": 116,
   "id": "84c917c2",
   "metadata": {},
   "outputs": [
    {
     "data": {
      "text/html": [
       "<div>\n",
       "<style scoped>\n",
       "    .dataframe tbody tr th:only-of-type {\n",
       "        vertical-align: middle;\n",
       "    }\n",
       "\n",
       "    .dataframe tbody tr th {\n",
       "        vertical-align: top;\n",
       "    }\n",
       "\n",
       "    .dataframe thead th {\n",
       "        text-align: right;\n",
       "    }\n",
       "</style>\n",
       "<table border=\"1\" class=\"dataframe\">\n",
       "  <thead>\n",
       "    <tr style=\"text-align: right;\">\n",
       "      <th></th>\n",
       "      <th>MovieID</th>\n",
       "      <th>Title</th>\n",
       "      <th>Genres</th>\n",
       "      <th>Release_year</th>\n",
       "      <th>MovieAge</th>\n",
       "      <th>UserID</th>\n",
       "      <th>Rating</th>\n",
       "      <th>Timestamp</th>\n",
       "      <th>Hour</th>\n",
       "      <th>Gender</th>\n",
       "      <th>Age</th>\n",
       "      <th>Occupation</th>\n",
       "      <th>Zip-code</th>\n",
       "    </tr>\n",
       "  </thead>\n",
       "  <tbody>\n",
       "    <tr>\n",
       "      <th>0</th>\n",
       "      <td>1</td>\n",
       "      <td>Toy Story (1995)</td>\n",
       "      <td>Animation|Children's|Comedy</td>\n",
       "      <td>1995</td>\n",
       "      <td>27</td>\n",
       "      <td>1</td>\n",
       "      <td>5</td>\n",
       "      <td>978824268</td>\n",
       "      <td>5</td>\n",
       "      <td>F</td>\n",
       "      <td>1</td>\n",
       "      <td>10</td>\n",
       "      <td>480</td>\n",
       "    </tr>\n",
       "    <tr>\n",
       "      <th>1</th>\n",
       "      <td>48</td>\n",
       "      <td>Pocahontas (1995)</td>\n",
       "      <td>Animation|Children's|Musical|Romance</td>\n",
       "      <td>1995</td>\n",
       "      <td>27</td>\n",
       "      <td>1</td>\n",
       "      <td>5</td>\n",
       "      <td>978824351</td>\n",
       "      <td>5</td>\n",
       "      <td>F</td>\n",
       "      <td>1</td>\n",
       "      <td>10</td>\n",
       "      <td>480</td>\n",
       "    </tr>\n",
       "  </tbody>\n",
       "</table>\n",
       "</div>"
      ],
      "text/plain": [
       "  MovieID              Title                                Genres  \\\n",
       "0       1   Toy Story (1995)           Animation|Children's|Comedy   \n",
       "1      48  Pocahontas (1995)  Animation|Children's|Musical|Romance   \n",
       "\n",
       "   Release_year  MovieAge UserID  Rating  Timestamp  Hour Gender Age  \\\n",
       "0          1995        27      1       5  978824268     5      F   1   \n",
       "1          1995        27      1       5  978824351     5      F   1   \n",
       "\n",
       "  Occupation Zip-code  \n",
       "0         10      480  \n",
       "1         10      480  "
      ]
     },
     "execution_count": 116,
     "metadata": {},
     "output_type": "execute_result"
    }
   ],
   "source": [
    "df.head(2)"
   ]
  },
  {
   "cell_type": "markdown",
   "id": "1b260dbb",
   "metadata": {},
   "source": [
    "**1. Users of which age group have watched and rated the most number of movies?**"
   ]
  },
  {
   "cell_type": "code",
   "execution_count": 125,
   "id": "a384ca5a",
   "metadata": {},
   "outputs": [
    {
     "data": {
      "text/plain": [
       "Age\n",
       "1      27132\n",
       "18    183047\n",
       "25    394105\n",
       "35    198084\n",
       "45     83161\n",
       "50     72071\n",
       "56     38544\n",
       "Name: MovieID, dtype: int64"
      ]
     },
     "execution_count": 125,
     "metadata": {},
     "output_type": "execute_result"
    }
   ],
   "source": [
    "df.groupby(by='Age')['MovieID'].count()"
   ]
  },
  {
   "cell_type": "markdown",
   "id": "8ae701ea",
   "metadata": {},
   "source": [
    "**Ans: Users of age group 25-34 (25) have watched and rated most number of movies**"
   ]
  },
  {
   "cell_type": "markdown",
   "id": "9d35d4e8",
   "metadata": {},
   "source": [
    "**2. Users belonging to which profession have watched and rated the most movies?**"
   ]
  },
  {
   "cell_type": "code",
   "execution_count": 143,
   "id": "c7d2d750",
   "metadata": {},
   "outputs": [
    {
     "data": {
      "text/plain": [
       "Occupation\n",
       "0     130001\n",
       "1      84936\n",
       "10     23238\n",
       "11     20462\n",
       "12     56931\n",
       "13     13658\n",
       "14     48952\n",
       "15     22821\n",
       "16     45815\n",
       "17     72534\n",
       "18     12050\n",
       "19     14841\n",
       "2      49823\n",
       "20     60098\n",
       "3      31520\n",
       "4     130626\n",
       "5      21781\n",
       "6      37040\n",
       "7     105013\n",
       "8       2692\n",
       "9      11312\n",
       "Name: MovieID, dtype: int64"
      ]
     },
     "execution_count": 143,
     "metadata": {},
     "output_type": "execute_result"
    }
   ],
   "source": [
    "df.groupby(by='Occupation')['MovieID'].count()"
   ]
  },
  {
   "cell_type": "markdown",
   "id": "c8e59b87",
   "metadata": {},
   "source": [
    "**Ans: Users belonging to college/grad students (4) have watched and rated the most number of movies**"
   ]
  },
  {
   "cell_type": "markdown",
   "id": "9e2c99bb",
   "metadata": {},
   "source": [
    "**3. Most of the users in our dataset who’ve rated the movies are Male. (T/F)**"
   ]
  },
  {
   "cell_type": "code",
   "execution_count": 122,
   "id": "fc32ecc1",
   "metadata": {},
   "outputs": [
    {
     "data": {
      "text/plain": [
       "Gender\n",
       "F    245554\n",
       "M    750590\n",
       "Name: MovieID, dtype: int64"
      ]
     },
     "execution_count": 122,
     "metadata": {},
     "output_type": "execute_result"
    }
   ],
   "source": [
    "df.groupby(by='Gender')['MovieID'].count()"
   ]
  },
  {
   "cell_type": "markdown",
   "id": "05c58f94",
   "metadata": {},
   "source": [
    "**Ans: True**"
   ]
  },
  {
   "cell_type": "markdown",
   "id": "ec2a2974",
   "metadata": {},
   "source": [
    "**4. Most of the movies present in our dataset were released in which decade?<br>\n",
    "a. 70s b. 90s c. 50s d.80s**"
   ]
  },
  {
   "cell_type": "code",
   "execution_count": 130,
   "id": "9d79fd05",
   "metadata": {},
   "outputs": [
    {
     "data": {
      "text/plain": [
       "Decade\n",
       "1910       3\n",
       "1920      34\n",
       "1930      76\n",
       "1940     126\n",
       "1950     167\n",
       "1960     188\n",
       "1970     244\n",
       "1980     592\n",
       "1990    2272\n",
       "2000     156\n",
       "Name: MovieID, dtype: int64"
      ]
     },
     "execution_count": 130,
     "metadata": {},
     "output_type": "execute_result"
    }
   ],
   "source": [
    "movies['Decade'] = movies['Release_year'].apply(lambda x: (x//10)*10)\n",
    "movies.groupby(by='Decade')['MovieID'].count()"
   ]
  },
  {
   "cell_type": "markdown",
   "id": "0aa05df0",
   "metadata": {},
   "source": [
    "**Ans: (b-90s) Most of the movies present in our dataset were released 90s**"
   ]
  },
  {
   "cell_type": "markdown",
   "id": "a6d908bc",
   "metadata": {},
   "source": [
    "**5. The movie with maximum no. of ratings is ___.**"
   ]
  },
  {
   "cell_type": "code",
   "execution_count": 140,
   "id": "e222ee96",
   "metadata": {},
   "outputs": [
    {
     "data": {
      "text/html": [
       "<div>\n",
       "<style scoped>\n",
       "    .dataframe tbody tr th:only-of-type {\n",
       "        vertical-align: middle;\n",
       "    }\n",
       "\n",
       "    .dataframe tbody tr th {\n",
       "        vertical-align: top;\n",
       "    }\n",
       "\n",
       "    .dataframe thead th {\n",
       "        text-align: right;\n",
       "    }\n",
       "</style>\n",
       "<table border=\"1\" class=\"dataframe\">\n",
       "  <thead>\n",
       "    <tr style=\"text-align: right;\">\n",
       "      <th></th>\n",
       "      <th>MovieID</th>\n",
       "      <th>Title</th>\n",
       "      <th>rate_ct</th>\n",
       "    </tr>\n",
       "  </thead>\n",
       "  <tbody>\n",
       "    <tr>\n",
       "      <th>2635</th>\n",
       "      <td>2858</td>\n",
       "      <td>American Beauty (1999)</td>\n",
       "      <td>3428</td>\n",
       "    </tr>\n",
       "    <tr>\n",
       "      <th>251</th>\n",
       "      <td>260</td>\n",
       "      <td>Star Wars: Episode IV - A New Hope (1977)</td>\n",
       "      <td>2991</td>\n",
       "    </tr>\n",
       "    <tr>\n",
       "      <th>1097</th>\n",
       "      <td>1196</td>\n",
       "      <td>Star Wars: Episode V - The Empire Strikes Back...</td>\n",
       "      <td>2990</td>\n",
       "    </tr>\n",
       "    <tr>\n",
       "      <th>1111</th>\n",
       "      <td>1210</td>\n",
       "      <td>Star Wars: Episode VI - Return of the Jedi (1983)</td>\n",
       "      <td>2883</td>\n",
       "    </tr>\n",
       "    <tr>\n",
       "      <th>462</th>\n",
       "      <td>480</td>\n",
       "      <td>Jurassic Park (1993)</td>\n",
       "      <td>2672</td>\n",
       "    </tr>\n",
       "  </tbody>\n",
       "</table>\n",
       "</div>"
      ],
      "text/plain": [
       "     MovieID                                              Title  rate_ct\n",
       "2635    2858                             American Beauty (1999)     3428\n",
       "251      260          Star Wars: Episode IV - A New Hope (1977)     2991\n",
       "1097    1196  Star Wars: Episode V - The Empire Strikes Back...     2990\n",
       "1111    1210  Star Wars: Episode VI - Return of the Jedi (1983)     2883\n",
       "462      480                               Jurassic Park (1993)     2672"
      ]
     },
     "execution_count": 140,
     "metadata": {},
     "output_type": "execute_result"
    }
   ],
   "source": [
    "movies_df[['MovieID','Title','rate_ct']].sort_values(by='rate_ct', ascending=False).head()"
   ]
  },
  {
   "cell_type": "markdown",
   "id": "8fcab683",
   "metadata": {},
   "source": [
    "**Ans: The movie with maximum no. of ratings is 'American Beauty (1999)'**"
   ]
  },
  {
   "cell_type": "markdown",
   "id": "a461c344",
   "metadata": {},
   "source": [
    "**6. Name the top 3 movies similar to ‘Liar Liar’ on the item-based approach.**"
   ]
  },
  {
   "cell_type": "code",
   "execution_count": 146,
   "id": "97d21d98",
   "metadata": {},
   "outputs": [
    {
     "data": {
      "text/html": [
       "<div>\n",
       "<style scoped>\n",
       "    .dataframe tbody tr th:only-of-type {\n",
       "        vertical-align: middle;\n",
       "    }\n",
       "\n",
       "    .dataframe tbody tr th {\n",
       "        vertical-align: top;\n",
       "    }\n",
       "\n",
       "    .dataframe thead th {\n",
       "        text-align: right;\n",
       "    }\n",
       "</style>\n",
       "<table border=\"1\" class=\"dataframe\">\n",
       "  <thead>\n",
       "    <tr style=\"text-align: right;\">\n",
       "      <th></th>\n",
       "      <th>MovieID</th>\n",
       "      <th>Title</th>\n",
       "      <th>Genres</th>\n",
       "      <th>Release_year</th>\n",
       "      <th>MovieAge</th>\n",
       "      <th>Decade</th>\n",
       "    </tr>\n",
       "  </thead>\n",
       "  <tbody>\n",
       "    <tr>\n",
       "      <th>1455</th>\n",
       "      <td>1485</td>\n",
       "      <td>Liar Liar (1997)</td>\n",
       "      <td>Comedy</td>\n",
       "      <td>1997</td>\n",
       "      <td>25</td>\n",
       "      <td>1990</td>\n",
       "    </tr>\n",
       "  </tbody>\n",
       "</table>\n",
       "</div>"
      ],
      "text/plain": [
       "     MovieID             Title  Genres  Release_year  MovieAge  Decade\n",
       "1455    1485  Liar Liar (1997)  Comedy          1997        25    1990"
      ]
     },
     "execution_count": 146,
     "metadata": {},
     "output_type": "execute_result"
    }
   ],
   "source": [
    "movies[movies['Title'] == 'Liar Liar (1997)']"
   ]
  },
  {
   "cell_type": "code",
   "execution_count": 158,
   "id": "34d1be10",
   "metadata": {},
   "outputs": [
    {
     "name": "stdout",
     "output_type": "stream",
     "text": [
      "Here is a list of top 3 movies similar to 'Liar Liar'\n"
     ]
    },
    {
     "data": {
      "text/plain": [
       "MovieID\n",
       "295     0.999822\n",
       "1550    0.998767\n",
       "499     0.998463\n",
       "Name: 1455, dtype: float64"
      ]
     },
     "execution_count": 158,
     "metadata": {},
     "output_type": "execute_result"
    }
   ],
   "source": [
    "print(\"Here is a list of top 3 movies similar to 'Liar Liar'\")\n",
    "lt = list(pd.DataFrame(item_cosine_sim['1455'].sort_values(ascending=False).iloc[1:4]).index)\n",
    "item_cosine_sim['1455'].sort_values(ascending=False).iloc[1:4]"
   ]
  },
  {
   "cell_type": "code",
   "execution_count": 159,
   "id": "e94626bf",
   "metadata": {},
   "outputs": [
    {
     "data": {
      "text/html": [
       "<div>\n",
       "<style scoped>\n",
       "    .dataframe tbody tr th:only-of-type {\n",
       "        vertical-align: middle;\n",
       "    }\n",
       "\n",
       "    .dataframe tbody tr th {\n",
       "        vertical-align: top;\n",
       "    }\n",
       "\n",
       "    .dataframe thead th {\n",
       "        text-align: right;\n",
       "    }\n",
       "</style>\n",
       "<table border=\"1\" class=\"dataframe\">\n",
       "  <thead>\n",
       "    <tr style=\"text-align: right;\">\n",
       "      <th></th>\n",
       "      <th>MovieID</th>\n",
       "      <th>Title</th>\n",
       "      <th>Genres</th>\n",
       "      <th>Release_year</th>\n",
       "      <th>MovieAge</th>\n",
       "      <th>Decade</th>\n",
       "    </tr>\n",
       "  </thead>\n",
       "  <tbody>\n",
       "    <tr>\n",
       "      <th>292</th>\n",
       "      <td>295</td>\n",
       "      <td>Pyromaniac's Love Story, A (1995)</td>\n",
       "      <td>Comedy|Romance</td>\n",
       "      <td>1995</td>\n",
       "      <td>27</td>\n",
       "      <td>1990</td>\n",
       "    </tr>\n",
       "    <tr>\n",
       "      <th>495</th>\n",
       "      <td>499</td>\n",
       "      <td>Mr. Wonderful (1993)</td>\n",
       "      <td>Comedy|Romance</td>\n",
       "      <td>1993</td>\n",
       "      <td>29</td>\n",
       "      <td>1990</td>\n",
       "    </tr>\n",
       "    <tr>\n",
       "      <th>1511</th>\n",
       "      <td>1550</td>\n",
       "      <td>Trial and Error (1997)</td>\n",
       "      <td>Comedy|Romance</td>\n",
       "      <td>1997</td>\n",
       "      <td>25</td>\n",
       "      <td>1990</td>\n",
       "    </tr>\n",
       "  </tbody>\n",
       "</table>\n",
       "</div>"
      ],
      "text/plain": [
       "     MovieID                              Title          Genres  Release_year  \\\n",
       "292      295  Pyromaniac's Love Story, A (1995)  Comedy|Romance          1995   \n",
       "495      499               Mr. Wonderful (1993)  Comedy|Romance          1993   \n",
       "1511    1550             Trial and Error (1997)  Comedy|Romance          1997   \n",
       "\n",
       "      MovieAge  Decade  \n",
       "292         27    1990  \n",
       "495         29    1990  \n",
       "1511        25    1990  "
      ]
     },
     "execution_count": 159,
     "metadata": {},
     "output_type": "execute_result"
    }
   ],
   "source": [
    "movies[movies['MovieID'].isin(lt)]"
   ]
  },
  {
   "cell_type": "markdown",
   "id": "a613cc6e",
   "metadata": {},
   "source": [
    "**Ans: The top 3 movies similar to ‘Liar Liar’ are<br>\n",
    "A Pyromaniac's Love Story<br>\n",
    "Mr. Wonderful<br>\n",
    "Trial and Error**"
   ]
  },
  {
   "cell_type": "markdown",
   "id": "4d9c5a1c",
   "metadata": {},
   "source": [
    "**7. On the basis of approach, Collaborative Filtering methods can be classified into ___-based and ___-based**\n",
    "\n",
    "**Ans: On the basis of approach, Collaborative Filtering methods can be classified into Item-Item-based, User-User-based and User-Item-based**"
   ]
  },
  {
   "cell_type": "markdown",
   "id": "ae2a090e",
   "metadata": {},
   "source": [
    "**8. Pearson Correlation ranges between ___ to ___ whereas, Cosine Similarity belongs to the interval between ___ to ___.**\n",
    "\n",
    "**Ans: Pearson Correlation ranges between -1 to 1 and, Cosine Similarity also belongs to the interval between -1 to 1.**"
   ]
  },
  {
   "cell_type": "markdown",
   "id": "3cb93156",
   "metadata": {},
   "source": [
    "**9. Mention the RMSE and MAPE that you got while evaluating the Matrix Factorization model.**\n",
    "\n",
    "**Ans: RMSE - 1.357\n",
    "       MAPE - 0.408**"
   ]
  },
  {
   "cell_type": "markdown",
   "id": "fd5f8d49",
   "metadata": {},
   "source": [
    "**10. Give the sparse ‘row’ matrix representation for the following dense matrix -\n",
    "[[1 0]\n",
    "[3 7]]**"
   ]
  },
  {
   "cell_type": "code",
   "execution_count": 162,
   "id": "6c75102f",
   "metadata": {},
   "outputs": [],
   "source": [
    "m =  [[1, 0], [3, 7]]"
   ]
  },
  {
   "cell_type": "code",
   "execution_count": 170,
   "id": "47da0485",
   "metadata": {},
   "outputs": [
    {
     "name": "stdout",
     "output_type": "stream",
     "text": [
      "  (0, 0)\t1\n",
      "  (1, 0)\t3\n",
      "  (1, 1)\t7\n"
     ]
    }
   ],
   "source": [
    "# dense to sparse\n",
    "A = array(m)\n",
    "\n",
    "# convert to sparse matrix (CSR method)\n",
    "S = csr_matrix(A)\n",
    "print(S)"
   ]
  },
  {
   "cell_type": "markdown",
   "id": "4b43d980",
   "metadata": {},
   "source": [
    "**Ans:<br>\n",
    "(0, 0)\t1<br>\n",
    "(1, 0)\t3<br>\n",
    "(1, 1)\t7**"
   ]
  },
  {
   "cell_type": "code",
   "execution_count": null,
   "id": "7b3f5d57",
   "metadata": {},
   "outputs": [],
   "source": []
  }
 ],
 "metadata": {
  "kernelspec": {
   "display_name": "Python 3 (ipykernel)",
   "language": "python",
   "name": "python3"
  },
  "language_info": {
   "codemirror_mode": {
    "name": "ipython",
    "version": 3
   },
   "file_extension": ".py",
   "mimetype": "text/x-python",
   "name": "python",
   "nbconvert_exporter": "python",
   "pygments_lexer": "ipython3",
   "version": "3.8.10"
  }
 },
 "nbformat": 4,
 "nbformat_minor": 5
}
